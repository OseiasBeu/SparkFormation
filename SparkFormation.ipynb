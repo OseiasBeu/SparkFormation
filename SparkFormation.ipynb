{
  "nbformat": 4,
  "nbformat_minor": 0,
  "metadata": {
    "colab": {
      "provenance": [],
      "authorship_tag": "ABX9TyMls+kRWRizCon8g6h4wTxC",
      "include_colab_link": true
    },
    "kernelspec": {
      "name": "python3",
      "display_name": "Python 3"
    },
    "language_info": {
      "name": "python"
    }
  },
  "cells": [
    {
      "cell_type": "markdown",
      "metadata": {
        "id": "view-in-github",
        "colab_type": "text"
      },
      "source": [
        "<a href=\"https://colab.research.google.com/github/OseiasBeu/SparkFormation/blob/main/SparkFormation.ipynb\" target=\"_parent\"><img src=\"https://colab.research.google.com/assets/colab-badge.svg\" alt=\"Open In Colab\"/></a>"
      ]
    },
    {
      "cell_type": "code",
      "execution_count": 1,
      "metadata": {
        "id": "Aw1x0eiK359P"
      },
      "outputs": [],
      "source": [
        "# Instalando o Java\n",
        "!apt-get install openjdk-8-jdk-headless -qq > /dev/null"
      ]
    },
    {
      "cell_type": "code",
      "source": [
        "# Fazendo download\n",
        "!wget -q https://archive.apache.org/dist/spark/spark-3.1.2/spark-3.1.2-bin-hadoop2.7.tgz\n",
        "\n",
        "# Descompactando os arquivos\n",
        "!tar xf spark-3.1.2-bin-hadoop2.7.tgz"
      ],
      "metadata": {
        "id": "kcnFnP3O4Y-c"
      },
      "execution_count": 2,
      "outputs": []
    },
    {
      "cell_type": "code",
      "source": [
        "# Importando a biblioteca os\n",
        "import os\n",
        "\n",
        "# Definindo a variável de ambiente do Java\n",
        "os.environ[\"JAVA_HOME\"] = \"/usr/lib/jvm/java-8-openjdk-amd64\"\n",
        "\n",
        "# Definindo a variável de ambiente do Spark\n",
        "os.environ[\"SPARK_HOME\"] = \"/content/spark-3.1.2-bin-hadoop2.7\""
      ],
      "metadata": {
        "id": "0zvWD5sV5F3J"
      },
      "execution_count": 3,
      "outputs": []
    },
    {
      "cell_type": "code",
      "source": [
        "# instalando a findspark\n",
        "!pip install -q findspark"
      ],
      "metadata": {
        "id": "TttGmU7L5IoG"
      },
      "execution_count": 4,
      "outputs": []
    },
    {
      "cell_type": "code",
      "source": [
        "# Importando a findspark\n",
        "import findspark\n",
        "\n",
        "# Iniciando o findspark\n",
        "findspark.init()"
      ],
      "metadata": {
        "id": "rNgJWx6J5NY1"
      },
      "execution_count": 5,
      "outputs": []
    },
    {
      "cell_type": "code",
      "source": [
        "# importando o pacote necessário para iniciar uma seção Spark\n",
        "from pyspark.sql import SparkSession\n",
        "\n",
        "# iniciando o spark context\n",
        "sc = SparkSession.builder.master('local[*]').config(\"spark.executor.memory\", \"2g\").config('spark.driver.memory', '1g').config('spark.driver.cores', '4').enableHiveSupport().getOrCreate()\n",
        "# ss = SparkSession.builder.master('local').getOrCreate()\n",
        "\n",
        "# Verificando se a sessão foi criada\n",
        "sc"
      ],
      "metadata": {
        "colab": {
          "base_uri": "https://localhost:8080/",
          "height": 219
        },
        "id": "e05gPpp75P38",
        "outputId": "cbb03531-303f-4ef0-a318-b79d8088e125"
      },
      "execution_count": 6,
      "outputs": [
        {
          "output_type": "execute_result",
          "data": {
            "text/plain": [
              "<pyspark.sql.session.SparkSession at 0x7fbdb4520880>"
            ],
            "text/html": [
              "\n",
              "            <div>\n",
              "                <p><b>SparkSession - hive</b></p>\n",
              "                \n",
              "        <div>\n",
              "            <p><b>SparkContext</b></p>\n",
              "\n",
              "            <p><a href=\"http://9bf920b790f9:4040\">Spark UI</a></p>\n",
              "\n",
              "            <dl>\n",
              "              <dt>Version</dt>\n",
              "                <dd><code>v3.1.2</code></dd>\n",
              "              <dt>Master</dt>\n",
              "                <dd><code>local[*]</code></dd>\n",
              "              <dt>AppName</dt>\n",
              "                <dd><code>pyspark-shell</code></dd>\n",
              "            </dl>\n",
              "        </div>\n",
              "        \n",
              "            </div>\n",
              "        "
            ]
          },
          "metadata": {},
          "execution_count": 6
        }
      ]
    },
    {
      "cell_type": "code",
      "source": [
        "# importando os métodos com funções para transformações de variáveis\n",
        "from pyspark.sql.functions import *\n",
        "from pyspark.sql import *\n",
        "\n",
        "SQLContext(sparkContext=sc.sparkContext, sparkSession=sc)"
      ],
      "metadata": {
        "id": "mnQudSB05laP",
        "colab": {
          "base_uri": "https://localhost:8080/"
        },
        "outputId": "4171b11c-a36e-44f9-892e-2bb9bbb4db60"
      },
      "execution_count": 7,
      "outputs": [
        {
          "output_type": "execute_result",
          "data": {
            "text/plain": [
              "<pyspark.sql.context.SQLContext at 0x7fbdb4422280>"
            ]
          },
          "metadata": {},
          "execution_count": 7
        }
      ]
    },
    {
      "cell_type": "code",
      "source": [
        "sc.sparkContext"
      ],
      "metadata": {
        "colab": {
          "base_uri": "https://localhost:8080/",
          "height": 196
        },
        "id": "yqU94_mT47Fq",
        "outputId": "d463767f-6624-44ba-c285-faa73c7552fc"
      },
      "execution_count": 8,
      "outputs": [
        {
          "output_type": "execute_result",
          "data": {
            "text/plain": [
              "<SparkContext master=local[*] appName=pyspark-shell>"
            ],
            "text/html": [
              "\n",
              "        <div>\n",
              "            <p><b>SparkContext</b></p>\n",
              "\n",
              "            <p><a href=\"http://9bf920b790f9:4040\">Spark UI</a></p>\n",
              "\n",
              "            <dl>\n",
              "              <dt>Version</dt>\n",
              "                <dd><code>v3.1.2</code></dd>\n",
              "              <dt>Master</dt>\n",
              "                <dd><code>local[*]</code></dd>\n",
              "              <dt>AppName</dt>\n",
              "                <dd><code>pyspark-shell</code></dd>\n",
              "            </dl>\n",
              "        </div>\n",
              "        "
            ]
          },
          "metadata": {},
          "execution_count": 8
        }
      ]
    },
    {
      "cell_type": "markdown",
      "source": [
        "# RDD's"
      ],
      "metadata": {
        "id": "Gtka1UNs11wf"
      }
    },
    {
      "cell_type": "code",
      "source": [
        "numeros = sc.sparkContext.parallelize([1,2,3,4,5,6,7,8,9,10])"
      ],
      "metadata": {
        "id": "l6k8H8WI11aD"
      },
      "execution_count": 9,
      "outputs": []
    },
    {
      "cell_type": "code",
      "source": [
        "numeros.take(5)"
      ],
      "metadata": {
        "colab": {
          "base_uri": "https://localhost:8080/"
        },
        "id": "hfAaLkWX5t7E",
        "outputId": "6ea1bf2d-047b-4910-8626-ebb887a4aa62"
      },
      "execution_count": 10,
      "outputs": [
        {
          "output_type": "execute_result",
          "data": {
            "text/plain": [
              "[1, 2, 3, 4, 5]"
            ]
          },
          "metadata": {},
          "execution_count": 10
        }
      ]
    },
    {
      "cell_type": "code",
      "source": [
        "numeros.top(5)"
      ],
      "metadata": {
        "colab": {
          "base_uri": "https://localhost:8080/"
        },
        "id": "ZshiZQv66C3r",
        "outputId": "d0fb3daa-6052-443f-979f-7b284be105c4"
      },
      "execution_count": 11,
      "outputs": [
        {
          "output_type": "execute_result",
          "data": {
            "text/plain": [
              "[10, 9, 8, 7, 6]"
            ]
          },
          "metadata": {},
          "execution_count": 11
        }
      ]
    },
    {
      "cell_type": "code",
      "source": [
        "numeros.collect()"
      ],
      "metadata": {
        "colab": {
          "base_uri": "https://localhost:8080/"
        },
        "id": "tJrkjLUq6E9R",
        "outputId": "ce709a18-7f10-4486-c522-065444fb434c"
      },
      "execution_count": 12,
      "outputs": [
        {
          "output_type": "execute_result",
          "data": {
            "text/plain": [
              "[1, 2, 3, 4, 5, 6, 7, 8, 9, 10]"
            ]
          },
          "metadata": {},
          "execution_count": 12
        }
      ]
    },
    {
      "cell_type": "markdown",
      "source": [
        "## Funções"
      ],
      "metadata": {
        "id": "5VIQMQ_dWQ_h"
      }
    },
    {
      "cell_type": "code",
      "source": [
        "numeros.count()"
      ],
      "metadata": {
        "colab": {
          "base_uri": "https://localhost:8080/"
        },
        "id": "iTM3ViEV6GPS",
        "outputId": "63e3a862-ae18-44e9-e02f-9fa069955196"
      },
      "execution_count": 13,
      "outputs": [
        {
          "output_type": "execute_result",
          "data": {
            "text/plain": [
              "10"
            ]
          },
          "metadata": {},
          "execution_count": 13
        }
      ]
    },
    {
      "cell_type": "code",
      "source": [
        "numeros.mean()"
      ],
      "metadata": {
        "colab": {
          "base_uri": "https://localhost:8080/"
        },
        "id": "67_jWFtk6JKS",
        "outputId": "fbe0a0e5-2fbd-4ce8-9298-dc7da4da5cd0"
      },
      "execution_count": 14,
      "outputs": [
        {
          "output_type": "execute_result",
          "data": {
            "text/plain": [
              "5.5"
            ]
          },
          "metadata": {},
          "execution_count": 14
        }
      ]
    },
    {
      "cell_type": "code",
      "source": [
        "numeros.max()"
      ],
      "metadata": {
        "colab": {
          "base_uri": "https://localhost:8080/"
        },
        "id": "zItY9xQa6LoB",
        "outputId": "bf87a5d5-31c2-4db7-df2a-9642d6750851"
      },
      "execution_count": 15,
      "outputs": [
        {
          "output_type": "execute_result",
          "data": {
            "text/plain": [
              "10"
            ]
          },
          "metadata": {},
          "execution_count": 15
        }
      ]
    },
    {
      "cell_type": "code",
      "source": [
        "numeros.min()"
      ],
      "metadata": {
        "colab": {
          "base_uri": "https://localhost:8080/"
        },
        "id": "OTEoYG2z6Mja",
        "outputId": "736ac244-533a-4897-c1ec-1a17ebc62c67"
      },
      "execution_count": 16,
      "outputs": [
        {
          "output_type": "execute_result",
          "data": {
            "text/plain": [
              "1"
            ]
          },
          "metadata": {},
          "execution_count": 16
        }
      ]
    },
    {
      "cell_type": "code",
      "source": [
        "numeros.stdev()"
      ],
      "metadata": {
        "colab": {
          "base_uri": "https://localhost:8080/"
        },
        "id": "0TyGtz-O6N2i",
        "outputId": "53de1b81-a538-474e-ca7e-f5cc0d78421c"
      },
      "execution_count": 17,
      "outputs": [
        {
          "output_type": "execute_result",
          "data": {
            "text/plain": [
              "2.8722813232690143"
            ]
          },
          "metadata": {},
          "execution_count": 17
        }
      ]
    },
    {
      "cell_type": "code",
      "source": [
        "numeros.sum()"
      ],
      "metadata": {
        "colab": {
          "base_uri": "https://localhost:8080/"
        },
        "id": "HcH1kU9e6PJc",
        "outputId": "b5524a87-2f7c-4562-f104-a25f2e1fe4de"
      },
      "execution_count": 18,
      "outputs": [
        {
          "output_type": "execute_result",
          "data": {
            "text/plain": [
              "55"
            ]
          },
          "metadata": {},
          "execution_count": 18
        }
      ]
    },
    {
      "cell_type": "markdown",
      "source": [
        "## Filtro"
      ],
      "metadata": {
        "id": "0BEXmJpvWTMm"
      }
    },
    {
      "cell_type": "code",
      "source": [
        "filtro = numeros.filter(lambda filtro: filtro > 2)"
      ],
      "metadata": {
        "id": "b-ziEGTy6Wkc"
      },
      "execution_count": 19,
      "outputs": []
    },
    {
      "cell_type": "code",
      "source": [
        "filtro.collect()"
      ],
      "metadata": {
        "colab": {
          "base_uri": "https://localhost:8080/"
        },
        "id": "fv2IuVf16h8R",
        "outputId": "95d8aa85-b673-4d74-acde-b817edd2ca13"
      },
      "execution_count": 20,
      "outputs": [
        {
          "output_type": "execute_result",
          "data": {
            "text/plain": [
              "[3, 4, 5, 6, 7, 8, 9, 10]"
            ]
          },
          "metadata": {},
          "execution_count": 20
        }
      ]
    },
    {
      "cell_type": "code",
      "source": [
        "amostra = numeros.sample(True, 0.5,1)"
      ],
      "metadata": {
        "id": "IuUKQjfv6kD5"
      },
      "execution_count": 21,
      "outputs": []
    },
    {
      "cell_type": "code",
      "source": [
        "amostra.collect()"
      ],
      "metadata": {
        "colab": {
          "base_uri": "https://localhost:8080/"
        },
        "id": "47yzXaGl6pbB",
        "outputId": "4c40f7ed-5025-45df-fec7-c4e2a7402b59"
      },
      "execution_count": 22,
      "outputs": [
        {
          "output_type": "execute_result",
          "data": {
            "text/plain": [
              "[2, 3, 4, 5, 8, 10, 10, 10, 10]"
            ]
          },
          "metadata": {},
          "execution_count": 22
        }
      ]
    },
    {
      "cell_type": "code",
      "source": [
        "mapa = numeros.map(lambda mapa: mapa *2)"
      ],
      "metadata": {
        "id": "Iz1TO2O06qsL"
      },
      "execution_count": 23,
      "outputs": []
    },
    {
      "cell_type": "code",
      "source": [
        "mapa.collect()"
      ],
      "metadata": {
        "colab": {
          "base_uri": "https://localhost:8080/"
        },
        "id": "2Dx_Wl5G63Lc",
        "outputId": "6c04e0e7-7471-4ebd-da8c-45636d2b14f6"
      },
      "execution_count": 24,
      "outputs": [
        {
          "output_type": "execute_result",
          "data": {
            "text/plain": [
              "[2, 4, 6, 8, 10, 12, 14, 16, 18, 20]"
            ]
          },
          "metadata": {},
          "execution_count": 24
        }
      ]
    },
    {
      "cell_type": "code",
      "source": [
        "numeros.collect()"
      ],
      "metadata": {
        "colab": {
          "base_uri": "https://localhost:8080/"
        },
        "id": "Jt0MwtI864W9",
        "outputId": "90d1edcb-f307-4f6f-b18d-f6dab92153d3"
      },
      "execution_count": 25,
      "outputs": [
        {
          "output_type": "execute_result",
          "data": {
            "text/plain": [
              "[1, 2, 3, 4, 5, 6, 7, 8, 9, 10]"
            ]
          },
          "metadata": {},
          "execution_count": 25
        }
      ]
    },
    {
      "cell_type": "markdown",
      "source": [
        "## Join's"
      ],
      "metadata": {
        "id": "KcSgMsZwWWy-"
      }
    },
    {
      "cell_type": "code",
      "source": [
        "numeros2 = sc.sparkContext.parallelize([6,7,8,9,10])"
      ],
      "metadata": {
        "id": "_CgoMQT068Da"
      },
      "execution_count": 26,
      "outputs": []
    },
    {
      "cell_type": "code",
      "source": [
        "uniao = numeros.union(numeros2)"
      ],
      "metadata": {
        "id": "ulxgnBEA7F4U"
      },
      "execution_count": 27,
      "outputs": []
    },
    {
      "cell_type": "code",
      "source": [
        "uniao.collect()"
      ],
      "metadata": {
        "colab": {
          "base_uri": "https://localhost:8080/"
        },
        "id": "woKycdr87K_s",
        "outputId": "bec37809-5fda-4488-c931-754ec6d8ab98"
      },
      "execution_count": 28,
      "outputs": [
        {
          "output_type": "execute_result",
          "data": {
            "text/plain": [
              "[1, 2, 3, 4, 5, 6, 7, 8, 9, 10, 6, 7, 8, 9, 10]"
            ]
          },
          "metadata": {},
          "execution_count": 28
        }
      ]
    },
    {
      "cell_type": "code",
      "source": [
        "interseccao = numeros.intersection(numeros2)"
      ],
      "metadata": {
        "id": "udX0Milw7L_4"
      },
      "execution_count": 29,
      "outputs": []
    },
    {
      "cell_type": "code",
      "source": [
        "interseccao.collect()"
      ],
      "metadata": {
        "colab": {
          "base_uri": "https://localhost:8080/"
        },
        "id": "POiy1IRO7S81",
        "outputId": "3f3ae766-83c0-48e4-9af5-46557b310252"
      },
      "execution_count": 30,
      "outputs": [
        {
          "output_type": "execute_result",
          "data": {
            "text/plain": [
              "[8, 9, 6, 10, 7]"
            ]
          },
          "metadata": {},
          "execution_count": 30
        }
      ]
    },
    {
      "cell_type": "code",
      "source": [
        "subtrai = numeros.subtract(numeros2)"
      ],
      "metadata": {
        "id": "x6Smus8z7W7a"
      },
      "execution_count": 31,
      "outputs": []
    },
    {
      "cell_type": "code",
      "source": [
        "subtrai.collect()"
      ],
      "metadata": {
        "colab": {
          "base_uri": "https://localhost:8080/"
        },
        "id": "czKmC6J07hSb",
        "outputId": "d4fb79eb-59c5-4c3a-bf66-ae61f4d71c54"
      },
      "execution_count": 32,
      "outputs": [
        {
          "output_type": "execute_result",
          "data": {
            "text/plain": [
              "[4, 1, 5, 2, 3]"
            ]
          },
          "metadata": {},
          "execution_count": 32
        }
      ]
    },
    {
      "cell_type": "code",
      "source": [
        "cartesiano = numeros.cartesian(numeros2)"
      ],
      "metadata": {
        "id": "gNBudrqw7ize"
      },
      "execution_count": 33,
      "outputs": []
    },
    {
      "cell_type": "code",
      "source": [
        "cartesiano.collect()"
      ],
      "metadata": {
        "colab": {
          "base_uri": "https://localhost:8080/"
        },
        "id": "zkHIwrbm7onz",
        "outputId": "c79ad959-2e82-4e9e-ac5f-cc7a18394a4a"
      },
      "execution_count": 34,
      "outputs": [
        {
          "output_type": "execute_result",
          "data": {
            "text/plain": [
              "[(1, 6),\n",
              " (1, 7),\n",
              " (2, 6),\n",
              " (2, 7),\n",
              " (3, 6),\n",
              " (3, 7),\n",
              " (4, 6),\n",
              " (4, 7),\n",
              " (5, 6),\n",
              " (5, 7),\n",
              " (1, 8),\n",
              " (1, 9),\n",
              " (2, 8),\n",
              " (2, 9),\n",
              " (3, 8),\n",
              " (3, 9),\n",
              " (4, 8),\n",
              " (4, 9),\n",
              " (5, 8),\n",
              " (5, 9),\n",
              " (1, 10),\n",
              " (2, 10),\n",
              " (3, 10),\n",
              " (4, 10),\n",
              " (5, 10),\n",
              " (6, 6),\n",
              " (6, 7),\n",
              " (7, 6),\n",
              " (7, 7),\n",
              " (8, 6),\n",
              " (8, 7),\n",
              " (9, 6),\n",
              " (9, 7),\n",
              " (10, 6),\n",
              " (10, 7),\n",
              " (6, 8),\n",
              " (6, 9),\n",
              " (7, 8),\n",
              " (7, 9),\n",
              " (8, 8),\n",
              " (8, 9),\n",
              " (9, 8),\n",
              " (9, 9),\n",
              " (10, 8),\n",
              " (10, 9),\n",
              " (6, 10),\n",
              " (7, 10),\n",
              " (8, 10),\n",
              " (9, 10),\n",
              " (10, 10)]"
            ]
          },
          "metadata": {},
          "execution_count": 34
        }
      ]
    },
    {
      "cell_type": "code",
      "source": [
        "cartesiano.countByValue()"
      ],
      "metadata": {
        "colab": {
          "base_uri": "https://localhost:8080/"
        },
        "id": "zXrCJeAi7pvr",
        "outputId": "e0f72690-a79a-426e-f673-bdaf3b007143"
      },
      "execution_count": 35,
      "outputs": [
        {
          "output_type": "execute_result",
          "data": {
            "text/plain": [
              "defaultdict(int,\n",
              "            {(1, 6): 1,\n",
              "             (1, 7): 1,\n",
              "             (2, 6): 1,\n",
              "             (2, 7): 1,\n",
              "             (3, 6): 1,\n",
              "             (3, 7): 1,\n",
              "             (4, 6): 1,\n",
              "             (4, 7): 1,\n",
              "             (5, 6): 1,\n",
              "             (5, 7): 1,\n",
              "             (1, 8): 1,\n",
              "             (1, 9): 1,\n",
              "             (2, 8): 1,\n",
              "             (2, 9): 1,\n",
              "             (3, 8): 1,\n",
              "             (3, 9): 1,\n",
              "             (4, 8): 1,\n",
              "             (4, 9): 1,\n",
              "             (5, 8): 1,\n",
              "             (5, 9): 1,\n",
              "             (1, 10): 1,\n",
              "             (2, 10): 1,\n",
              "             (3, 10): 1,\n",
              "             (4, 10): 1,\n",
              "             (5, 10): 1,\n",
              "             (6, 6): 1,\n",
              "             (6, 7): 1,\n",
              "             (7, 6): 1,\n",
              "             (7, 7): 1,\n",
              "             (8, 6): 1,\n",
              "             (8, 7): 1,\n",
              "             (9, 6): 1,\n",
              "             (9, 7): 1,\n",
              "             (10, 6): 1,\n",
              "             (10, 7): 1,\n",
              "             (6, 8): 1,\n",
              "             (6, 9): 1,\n",
              "             (7, 8): 1,\n",
              "             (7, 9): 1,\n",
              "             (8, 8): 1,\n",
              "             (8, 9): 1,\n",
              "             (9, 8): 1,\n",
              "             (9, 9): 1,\n",
              "             (10, 8): 1,\n",
              "             (10, 9): 1,\n",
              "             (6, 10): 1,\n",
              "             (7, 10): 1,\n",
              "             (8, 10): 1,\n",
              "             (9, 10): 1,\n",
              "             (10, 10): 1})"
            ]
          },
          "metadata": {},
          "execution_count": 35
        }
      ]
    },
    {
      "cell_type": "markdown",
      "source": [
        "## Compras"
      ],
      "metadata": {
        "id": "AGNQXK7pWL59"
      }
    },
    {
      "cell_type": "code",
      "source": [
        "compras = sc.sparkContext.parallelize([(1,200),(2,300),(3,120),(4,250),(5,78)])"
      ],
      "metadata": {
        "id": "eFv64f207uoN"
      },
      "execution_count": 36,
      "outputs": []
    },
    {
      "cell_type": "code",
      "source": [
        "chaves = compras.keys()\n",
        "chaves.collect()"
      ],
      "metadata": {
        "id": "n4uFe1DUWr_K",
        "outputId": "34889745-a2ab-48fd-94d6-6daa6711bd8c",
        "colab": {
          "base_uri": "https://localhost:8080/"
        }
      },
      "execution_count": 37,
      "outputs": [
        {
          "output_type": "execute_result",
          "data": {
            "text/plain": [
              "[1, 2, 3, 4, 5]"
            ]
          },
          "metadata": {},
          "execution_count": 37
        }
      ]
    },
    {
      "cell_type": "code",
      "source": [
        "valores = compras.values()\n",
        "valores.collect()"
      ],
      "metadata": {
        "id": "wfqPfssJW2cR",
        "outputId": "6580637a-7dd9-4d8d-81de-1dc0678c92ef",
        "colab": {
          "base_uri": "https://localhost:8080/"
        }
      },
      "execution_count": 38,
      "outputs": [
        {
          "output_type": "execute_result",
          "data": {
            "text/plain": [
              "[200, 300, 120, 250, 78]"
            ]
          },
          "metadata": {},
          "execution_count": 38
        }
      ]
    },
    {
      "cell_type": "code",
      "source": [
        "compras.countByKey()"
      ],
      "metadata": {
        "id": "gKmf_yqcW9A5",
        "outputId": "9f01bdda-ea1b-4bfc-fbe9-9c421d22add8",
        "colab": {
          "base_uri": "https://localhost:8080/"
        }
      },
      "execution_count": 39,
      "outputs": [
        {
          "output_type": "execute_result",
          "data": {
            "text/plain": [
              "defaultdict(int, {1: 1, 2: 1, 3: 1, 4: 1, 5: 1})"
            ]
          },
          "metadata": {},
          "execution_count": 39
        }
      ]
    },
    {
      "cell_type": "code",
      "source": [
        "soma = compras.mapValues(lambda soma: soma + 1)\n",
        "soma.collect()"
      ],
      "metadata": {
        "id": "N1Kd2COEXD2w",
        "outputId": "eb248609-238c-46ff-ed39-748f861c845a",
        "colab": {
          "base_uri": "https://localhost:8080/"
        }
      },
      "execution_count": 40,
      "outputs": [
        {
          "output_type": "execute_result",
          "data": {
            "text/plain": [
              "[(1, 201), (2, 301), (3, 121), (4, 251), (5, 79)]"
            ]
          },
          "metadata": {},
          "execution_count": 40
        }
      ]
    },
    {
      "cell_type": "code",
      "source": [
        "compras.collect()"
      ],
      "metadata": {
        "id": "N5NtVJwJXNEB",
        "outputId": "92c3b9a4-532e-4410-8723-69ecd1e84b73",
        "colab": {
          "base_uri": "https://localhost:8080/"
        }
      },
      "execution_count": 41,
      "outputs": [
        {
          "output_type": "execute_result",
          "data": {
            "text/plain": [
              "[(1, 200), (2, 300), (3, 120), (4, 250), (5, 78)]"
            ]
          },
          "metadata": {},
          "execution_count": 41
        }
      ]
    },
    {
      "cell_type": "code",
      "source": [
        "debitos = sc.sparkContext.parallelize([(1,20),(2,300)])"
      ],
      "metadata": {
        "id": "_MUzl3t7XQDy"
      },
      "execution_count": 42,
      "outputs": []
    },
    {
      "cell_type": "code",
      "source": [
        "resultado = compras.join(debitos)\n",
        "resultado.collect()"
      ],
      "metadata": {
        "id": "fdZuM8KKXZcI",
        "outputId": "c8a01a5f-5d3f-4292-fd19-cbd8ac4f4b75",
        "colab": {
          "base_uri": "https://localhost:8080/"
        }
      },
      "execution_count": 43,
      "outputs": [
        {
          "output_type": "execute_result",
          "data": {
            "text/plain": [
              "[(1, (200, 20)), (2, (300, 300))]"
            ]
          },
          "metadata": {},
          "execution_count": 43
        }
      ]
    },
    {
      "cell_type": "code",
      "source": [
        "semdebito = compras.subtractByKey(debitos)\n",
        "semdebito.collect()"
      ],
      "metadata": {
        "id": "vHqZVFrwXd55",
        "outputId": "331efcc1-45e2-41de-d5ba-9fc3f1c7d440",
        "colab": {
          "base_uri": "https://localhost:8080/"
        }
      },
      "execution_count": 44,
      "outputs": [
        {
          "output_type": "execute_result",
          "data": {
            "text/plain": [
              "[(4, 250), (5, 78), (3, 120)]"
            ]
          },
          "metadata": {},
          "execution_count": 44
        }
      ]
    },
    {
      "cell_type": "markdown",
      "source": [
        "## Dataframes"
      ],
      "metadata": {
        "id": "1w7Aey-x8KLZ"
      }
    },
    {
      "cell_type": "code",
      "source": [
        "df1 = sc.createDataFrame([(\"Pedro\",10),(\"Maria\",20),(\"José\",40)])"
      ],
      "metadata": {
        "id": "6Lk5YKg-Xp4p"
      },
      "execution_count": 45,
      "outputs": []
    },
    {
      "cell_type": "code",
      "source": [
        "df1.show()"
      ],
      "metadata": {
        "id": "IA-Wa0Pl8hYb",
        "outputId": "692dce97-1223-4b6e-c552-842c5c8b8b69",
        "colab": {
          "base_uri": "https://localhost:8080/"
        }
      },
      "execution_count": 46,
      "outputs": [
        {
          "output_type": "stream",
          "name": "stdout",
          "text": [
            "+-----+---+\n",
            "|   _1| _2|\n",
            "+-----+---+\n",
            "|Pedro| 10|\n",
            "|Maria| 20|\n",
            "| José| 40|\n",
            "+-----+---+\n",
            "\n"
          ]
        }
      ]
    },
    {
      "cell_type": "code",
      "source": [
        "schema = \"Id INT, Nome STRING\"\n",
        "dados =  [[1,\"Pedro\"],[2, \"Maria\"]]\n",
        "df2 = sc.createDataFrame(dados, schema)"
      ],
      "metadata": {
        "id": "jhoeVnMz8kt5"
      },
      "execution_count": 47,
      "outputs": []
    },
    {
      "cell_type": "code",
      "source": [
        "df2.show()"
      ],
      "metadata": {
        "id": "vqsy6Y8K848C",
        "outputId": "df66c202-313c-4d62-8a7f-19442d193c72",
        "colab": {
          "base_uri": "https://localhost:8080/"
        }
      },
      "execution_count": 48,
      "outputs": [
        {
          "output_type": "stream",
          "name": "stdout",
          "text": [
            "+---+-----+\n",
            "| Id| Nome|\n",
            "+---+-----+\n",
            "|  1|Pedro|\n",
            "|  2|Maria|\n",
            "+---+-----+\n",
            "\n"
          ]
        }
      ]
    },
    {
      "cell_type": "code",
      "source": [
        "from pyspark.sql.functions import sum"
      ],
      "metadata": {
        "id": "a9ws3s7a8504"
      },
      "execution_count": 49,
      "outputs": []
    },
    {
      "cell_type": "code",
      "source": [
        "schema2 = \"Produtos STRING, Vendas INT\"\n",
        "vendas = [[\"Caneta\",10],[\"Lápis\",20],[\"Caneta\",40]]"
      ],
      "metadata": {
        "id": "Jd_I-bkT9DV4"
      },
      "execution_count": 50,
      "outputs": []
    },
    {
      "cell_type": "code",
      "source": [
        "df3 = sc.createDataFrame(vendas,schema2)\n",
        "df3.show()"
      ],
      "metadata": {
        "id": "8zmh4rAL9QFI",
        "outputId": "d8bacd27-b522-424e-c7f6-fef6f79d405e",
        "colab": {
          "base_uri": "https://localhost:8080/"
        }
      },
      "execution_count": 51,
      "outputs": [
        {
          "output_type": "stream",
          "name": "stdout",
          "text": [
            "+--------+------+\n",
            "|Produtos|Vendas|\n",
            "+--------+------+\n",
            "|  Caneta|    10|\n",
            "|   Lápis|    20|\n",
            "|  Caneta|    40|\n",
            "+--------+------+\n",
            "\n"
          ]
        }
      ]
    },
    {
      "cell_type": "code",
      "source": [
        "agrupado = df3.groupBy('Produtos').agg(sum(\"Vendas\"))\n",
        "agrupado.show()"
      ],
      "metadata": {
        "id": "HNOPCXzH9V0H",
        "outputId": "4515be24-5358-4e3c-968d-9a9e26e4aeba",
        "colab": {
          "base_uri": "https://localhost:8080/"
        }
      },
      "execution_count": 52,
      "outputs": [
        {
          "output_type": "stream",
          "name": "stdout",
          "text": [
            "+--------+-----------+\n",
            "|Produtos|sum(Vendas)|\n",
            "+--------+-----------+\n",
            "|  Caneta|         50|\n",
            "|   Lápis|         20|\n",
            "+--------+-----------+\n",
            "\n"
          ]
        }
      ]
    },
    {
      "cell_type": "code",
      "source": [
        "df3.groupBy('Produtos').agg(sum(\"Vendas\")).show()"
      ],
      "metadata": {
        "id": "tO998MiS9fq3",
        "outputId": "f06847b2-7c8c-409d-e9d2-c30711b15bcc",
        "colab": {
          "base_uri": "https://localhost:8080/"
        }
      },
      "execution_count": 53,
      "outputs": [
        {
          "output_type": "stream",
          "name": "stdout",
          "text": [
            "+--------+-----------+\n",
            "|Produtos|sum(Vendas)|\n",
            "+--------+-----------+\n",
            "|  Caneta|         50|\n",
            "|   Lápis|         20|\n",
            "+--------+-----------+\n",
            "\n"
          ]
        }
      ]
    },
    {
      "cell_type": "code",
      "source": [
        "df3.select('Produtos').show()"
      ],
      "metadata": {
        "id": "DCoobwS69lAA",
        "outputId": "c6e36b44-4e56-4045-dffb-9aa3d484445a",
        "colab": {
          "base_uri": "https://localhost:8080/"
        }
      },
      "execution_count": 54,
      "outputs": [
        {
          "output_type": "stream",
          "name": "stdout",
          "text": [
            "+--------+\n",
            "|Produtos|\n",
            "+--------+\n",
            "|  Caneta|\n",
            "|   Lápis|\n",
            "|  Caneta|\n",
            "+--------+\n",
            "\n"
          ]
        }
      ]
    },
    {
      "cell_type": "code",
      "source": [
        "df3.select('Produtos','Vendas').show()"
      ],
      "metadata": {
        "id": "a8m3OoQl9re3",
        "outputId": "9c1e3903-4023-4a77-cd6b-3ca23af078b5",
        "colab": {
          "base_uri": "https://localhost:8080/"
        }
      },
      "execution_count": 55,
      "outputs": [
        {
          "output_type": "stream",
          "name": "stdout",
          "text": [
            "+--------+------+\n",
            "|Produtos|Vendas|\n",
            "+--------+------+\n",
            "|  Caneta|    10|\n",
            "|   Lápis|    20|\n",
            "|  Caneta|    40|\n",
            "+--------+------+\n",
            "\n"
          ]
        }
      ]
    },
    {
      "cell_type": "code",
      "source": [
        "from pyspark.sql.functions import expr"
      ],
      "metadata": {
        "id": "SpJa7SQi9uxH"
      },
      "execution_count": 56,
      "outputs": []
    },
    {
      "cell_type": "code",
      "source": [
        "df3.select('Produtos','Vendas',expr('Vendas * 0.2')).show()"
      ],
      "metadata": {
        "id": "jQH9aB8U9zmf",
        "outputId": "f9c2f194-c504-4749-b4a5-1a911fbe9b64",
        "colab": {
          "base_uri": "https://localhost:8080/"
        }
      },
      "execution_count": 57,
      "outputs": [
        {
          "output_type": "stream",
          "name": "stdout",
          "text": [
            "+--------+------+--------------+\n",
            "|Produtos|Vendas|(Vendas * 0.2)|\n",
            "+--------+------+--------------+\n",
            "|  Caneta|    10|           2.0|\n",
            "|   Lápis|    20|           4.0|\n",
            "|  Caneta|    40|           8.0|\n",
            "+--------+------+--------------+\n",
            "\n"
          ]
        }
      ]
    },
    {
      "cell_type": "code",
      "source": [
        "df3.columns"
      ],
      "metadata": {
        "id": "KtSe_-qO97Dn",
        "outputId": "65f5064d-9ce8-424c-8494-69ae2c6aaa5f",
        "colab": {
          "base_uri": "https://localhost:8080/"
        }
      },
      "execution_count": 58,
      "outputs": [
        {
          "output_type": "execute_result",
          "data": {
            "text/plain": [
              "['Produtos', 'Vendas']"
            ]
          },
          "metadata": {},
          "execution_count": 58
        }
      ]
    },
    {
      "cell_type": "code",
      "source": [
        "from pyspark.sql.types import *"
      ],
      "metadata": {
        "id": "Fm5T3JGN-A7V"
      },
      "execution_count": 59,
      "outputs": []
    },
    {
      "cell_type": "code",
      "source": [
        "arqschmema = \"id INT, nome STRING, status STRING, cidade STRING, vendas INT, data STRING\""
      ],
      "metadata": {
        "id": "5FPKOKRr_e6e"
      },
      "execution_count": 60,
      "outputs": []
    },
    {
      "cell_type": "code",
      "source": [
        "!wget 'https://raw.githubusercontent.com/OseiasBeu/SparkFormation/main/databases/despachantes.csv'"
      ],
      "metadata": {
        "id": "NHgLQsSRBUXA",
        "outputId": "c83d3321-e12c-45f4-d416-3bda398c5d5f",
        "colab": {
          "base_uri": "https://localhost:8080/"
        }
      },
      "execution_count": 61,
      "outputs": [
        {
          "output_type": "stream",
          "name": "stdout",
          "text": [
            "--2023-03-09 15:28:15--  https://raw.githubusercontent.com/OseiasBeu/SparkFormation/main/databases/despachantes.csv\n",
            "Resolving raw.githubusercontent.com (raw.githubusercontent.com)... 185.199.108.133, 185.199.109.133, 185.199.111.133, ...\n",
            "Connecting to raw.githubusercontent.com (raw.githubusercontent.com)|185.199.108.133|:443... connected.\n",
            "HTTP request sent, awaiting response... 200 OK\n",
            "Length: 529 [text/plain]\n",
            "Saving to: ‘despachantes.csv’\n",
            "\n",
            "despachantes.csv    100%[===================>]     529  --.-KB/s    in 0s      \n",
            "\n",
            "2023-03-09 15:28:15 (37.0 MB/s) - ‘despachantes.csv’ saved [529/529]\n",
            "\n"
          ]
        }
      ]
    },
    {
      "cell_type": "code",
      "source": [
        "despachantes = sc.read.csv('/content/despachantes.csv',header=False, schema = arqschmema)"
      ],
      "metadata": {
        "id": "KZRZWfY3_oTU"
      },
      "execution_count": 62,
      "outputs": []
    },
    {
      "cell_type": "code",
      "source": [
        "despachantes.show()"
      ],
      "metadata": {
        "id": "t7tovqmZA1mD",
        "outputId": "40e0ab90-300b-4c81-c0a8-228d3f00ae14",
        "colab": {
          "base_uri": "https://localhost:8080/"
        }
      },
      "execution_count": 63,
      "outputs": [
        {
          "output_type": "stream",
          "name": "stdout",
          "text": [
            "+---+-------------------+------+-------------+------+----------+\n",
            "| id|               nome|status|       cidade|vendas|      data|\n",
            "+---+-------------------+------+-------------+------+----------+\n",
            "|  1|   Carminda Pestana| Ativo|  Santa Maria|    23|2020-08-11|\n",
            "|  2|    Deolinda Vilela| Ativo|Novo Hamburgo|    34|2020-03-05|\n",
            "|  3|   Emídio Dornelles| Ativo| Porto Alegre|    34|2020-02-05|\n",
            "|  4|Felisbela Dornelles| Ativo| Porto Alegre|    36|2020-02-05|\n",
            "|  5|     Graça Ornellas| Ativo| Porto Alegre|    12|2020-02-05|\n",
            "|  6|   Matilde Rebouças| Ativo| Porto Alegre|    22|2019-01-05|\n",
            "|  7|    Noêmia   Orriça| Ativo|  Santa Maria|    45|2019-10-05|\n",
            "|  8|      Roque Vásquez| Ativo| Porto Alegre|    65|2020-03-05|\n",
            "|  9|      Uriel Queiroz| Ativo| Porto Alegre|    54|2018-05-05|\n",
            "| 10|   Viviana Sequeira| Ativo| Porto Alegre|     0|2020-09-05|\n",
            "+---+-------------------+------+-------------+------+----------+\n",
            "\n"
          ]
        }
      ]
    },
    {
      "cell_type": "code",
      "source": [
        "desp_autoschema = sc.read.load('/content/despachantes.csv', header=False, format='csv',sep=',', inferSchema=True)"
      ],
      "metadata": {
        "id": "GR5ZkpXmBcTD"
      },
      "execution_count": 64,
      "outputs": []
    },
    {
      "cell_type": "code",
      "source": [
        "desp_autoschema.show()"
      ],
      "metadata": {
        "id": "BpbR5IRGCAob",
        "outputId": "2ef45be9-318a-48a4-9923-bed4f8f6541b",
        "colab": {
          "base_uri": "https://localhost:8080/"
        }
      },
      "execution_count": 65,
      "outputs": [
        {
          "output_type": "stream",
          "name": "stdout",
          "text": [
            "+---+-------------------+-----+-------------+---+----------+\n",
            "|_c0|                _c1|  _c2|          _c3|_c4|       _c5|\n",
            "+---+-------------------+-----+-------------+---+----------+\n",
            "|  1|   Carminda Pestana|Ativo|  Santa Maria| 23|2020-08-11|\n",
            "|  2|    Deolinda Vilela|Ativo|Novo Hamburgo| 34|2020-03-05|\n",
            "|  3|   Emídio Dornelles|Ativo| Porto Alegre| 34|2020-02-05|\n",
            "|  4|Felisbela Dornelles|Ativo| Porto Alegre| 36|2020-02-05|\n",
            "|  5|     Graça Ornellas|Ativo| Porto Alegre| 12|2020-02-05|\n",
            "|  6|   Matilde Rebouças|Ativo| Porto Alegre| 22|2019-01-05|\n",
            "|  7|    Noêmia   Orriça|Ativo|  Santa Maria| 45|2019-10-05|\n",
            "|  8|      Roque Vásquez|Ativo| Porto Alegre| 65|2020-03-05|\n",
            "|  9|      Uriel Queiroz|Ativo| Porto Alegre| 54|2018-05-05|\n",
            "| 10|   Viviana Sequeira|Ativo| Porto Alegre|  0|2020-09-05|\n",
            "+---+-------------------+-----+-------------+---+----------+\n",
            "\n"
          ]
        }
      ]
    },
    {
      "cell_type": "code",
      "source": [
        "despachantes.schema"
      ],
      "metadata": {
        "id": "9YQ7gJ8YCCgy",
        "outputId": "86ee8482-9a96-4c78-e826-247e4a56a88c",
        "colab": {
          "base_uri": "https://localhost:8080/"
        }
      },
      "execution_count": 66,
      "outputs": [
        {
          "output_type": "execute_result",
          "data": {
            "text/plain": [
              "StructType(List(StructField(id,IntegerType,true),StructField(nome,StringType,true),StructField(status,StringType,true),StructField(cidade,StringType,true),StructField(vendas,IntegerType,true),StructField(data,StringType,true)))"
            ]
          },
          "metadata": {},
          "execution_count": 66
        }
      ]
    },
    {
      "cell_type": "code",
      "source": [
        "desp_autoschema.schema"
      ],
      "metadata": {
        "id": "jmN6y44PCKIb",
        "outputId": "ccd18b33-afb2-4816-ba3d-60a86342901a",
        "colab": {
          "base_uri": "https://localhost:8080/"
        }
      },
      "execution_count": 67,
      "outputs": [
        {
          "output_type": "execute_result",
          "data": {
            "text/plain": [
              "StructType(List(StructField(_c0,IntegerType,true),StructField(_c1,StringType,true),StructField(_c2,StringType,true),StructField(_c3,StringType,true),StructField(_c4,IntegerType,true),StructField(_c5,StringType,true)))"
            ]
          },
          "metadata": {},
          "execution_count": 67
        }
      ]
    },
    {
      "cell_type": "code",
      "source": [
        "from pyspark.sql import functions as Func"
      ],
      "metadata": {
        "id": "YU9KR78wCLvL"
      },
      "execution_count": 69,
      "outputs": []
    },
    {
      "cell_type": "code",
      "source": [
        "despachantes.select('id','nome','vendas').where(Func.col('vendas') > 20).show()"
      ],
      "metadata": {
        "id": "LYxPba3W-3YT",
        "outputId": "3772783e-84aa-4b96-89e9-e1102a1c043b",
        "colab": {
          "base_uri": "https://localhost:8080/"
        }
      },
      "execution_count": 70,
      "outputs": [
        {
          "output_type": "stream",
          "name": "stdout",
          "text": [
            "+---+-------------------+------+\n",
            "| id|               nome|vendas|\n",
            "+---+-------------------+------+\n",
            "|  1|   Carminda Pestana|    23|\n",
            "|  2|    Deolinda Vilela|    34|\n",
            "|  3|   Emídio Dornelles|    34|\n",
            "|  4|Felisbela Dornelles|    36|\n",
            "|  6|   Matilde Rebouças|    22|\n",
            "|  7|    Noêmia   Orriça|    45|\n",
            "|  8|      Roque Vásquez|    65|\n",
            "|  9|      Uriel Queiroz|    54|\n",
            "+---+-------------------+------+\n",
            "\n"
          ]
        }
      ]
    },
    {
      "cell_type": "code",
      "source": [
        "despachantes.select('id','nome','vendas').where((Func.col('vendas') > 20) & (Func.col('vendas')<40)).show()"
      ],
      "metadata": {
        "id": "ShWiEFsL_JzQ",
        "outputId": "62ac38e5-1991-48e0-d37e-def9df392fa7",
        "colab": {
          "base_uri": "https://localhost:8080/"
        }
      },
      "execution_count": 71,
      "outputs": [
        {
          "output_type": "stream",
          "name": "stdout",
          "text": [
            "+---+-------------------+------+\n",
            "| id|               nome|vendas|\n",
            "+---+-------------------+------+\n",
            "|  1|   Carminda Pestana|    23|\n",
            "|  2|    Deolinda Vilela|    34|\n",
            "|  3|   Emídio Dornelles|    34|\n",
            "|  4|Felisbela Dornelles|    36|\n",
            "|  6|   Matilde Rebouças|    22|\n",
            "+---+-------------------+------+\n",
            "\n"
          ]
        }
      ]
    },
    {
      "cell_type": "code",
      "source": [
        "novodf = despachantes.withColumnRenamed('nome','nomes')"
      ],
      "metadata": {
        "id": "7cpJf_7U_irl"
      },
      "execution_count": 72,
      "outputs": []
    },
    {
      "cell_type": "code",
      "source": [
        "novodf.columns"
      ],
      "metadata": {
        "id": "G1QENvwC_snE",
        "outputId": "cd8f7133-82be-407d-a2a1-0bb36d582e51",
        "colab": {
          "base_uri": "https://localhost:8080/"
        }
      },
      "execution_count": 73,
      "outputs": [
        {
          "output_type": "execute_result",
          "data": {
            "text/plain": [
              "['id', 'nomes', 'status', 'cidade', 'vendas', 'data']"
            ]
          },
          "metadata": {},
          "execution_count": 73
        }
      ]
    },
    {
      "cell_type": "code",
      "source": [
        "from pyspark.sql.functions import *"
      ],
      "metadata": {
        "id": "NJtpL5IUAB6u"
      },
      "execution_count": 74,
      "outputs": []
    },
    {
      "cell_type": "code",
      "source": [
        "despachantes2 = despachantes.withColumn('data2', to_timestamp(Func.col('data'),'yyyy-MM-dd'))"
      ],
      "metadata": {
        "id": "0Mrvcm_w_uW8"
      },
      "execution_count": 75,
      "outputs": []
    },
    {
      "cell_type": "code",
      "source": [
        "despachantes2.schema"
      ],
      "metadata": {
        "id": "d7e8DLQUAHAU",
        "outputId": "60951705-94f1-4a98-d3cc-e3c50060a7cd",
        "colab": {
          "base_uri": "https://localhost:8080/"
        }
      },
      "execution_count": 77,
      "outputs": [
        {
          "output_type": "execute_result",
          "data": {
            "text/plain": [
              "StructType(List(StructField(id,IntegerType,true),StructField(nome,StringType,true),StructField(status,StringType,true),StructField(cidade,StringType,true),StructField(vendas,IntegerType,true),StructField(data,StringType,true),StructField(data2,TimestampType,true)))"
            ]
          },
          "metadata": {},
          "execution_count": 77
        }
      ]
    },
    {
      "cell_type": "code",
      "source": [
        "despachantes2.select(year('data')).show()"
      ],
      "metadata": {
        "id": "7KmSpBb-AI7k",
        "outputId": "400447cb-68da-4c4a-b1f7-c943c5cdde66",
        "colab": {
          "base_uri": "https://localhost:8080/"
        }
      },
      "execution_count": 79,
      "outputs": [
        {
          "output_type": "stream",
          "name": "stdout",
          "text": [
            "+----------+\n",
            "|year(data)|\n",
            "+----------+\n",
            "|      2020|\n",
            "|      2020|\n",
            "|      2020|\n",
            "|      2020|\n",
            "|      2020|\n",
            "|      2019|\n",
            "|      2019|\n",
            "|      2020|\n",
            "|      2018|\n",
            "|      2020|\n",
            "+----------+\n",
            "\n"
          ]
        }
      ]
    },
    {
      "cell_type": "code",
      "source": [
        "despachantes2.select(year('data')).distinct().show()"
      ],
      "metadata": {
        "id": "o-5XH_d7AS_E",
        "outputId": "1d697d84-d6db-4e87-e4d5-1f8053a8351d",
        "colab": {
          "base_uri": "https://localhost:8080/"
        }
      },
      "execution_count": 81,
      "outputs": [
        {
          "output_type": "stream",
          "name": "stdout",
          "text": [
            "+----------+\n",
            "|year(data)|\n",
            "+----------+\n",
            "|      2018|\n",
            "|      2019|\n",
            "|      2020|\n",
            "+----------+\n",
            "\n"
          ]
        }
      ]
    },
    {
      "cell_type": "code",
      "source": [
        "despachantes2.select(\"nome\", year('data')).orderBy('nome').show()"
      ],
      "metadata": {
        "id": "v2GkP92SAWUc",
        "outputId": "e2dcc7d2-c6d0-4c62-9963-743df2295a18",
        "colab": {
          "base_uri": "https://localhost:8080/"
        }
      },
      "execution_count": 82,
      "outputs": [
        {
          "output_type": "stream",
          "name": "stdout",
          "text": [
            "+-------------------+----------+\n",
            "|               nome|year(data)|\n",
            "+-------------------+----------+\n",
            "|   Carminda Pestana|      2020|\n",
            "|    Deolinda Vilela|      2020|\n",
            "|   Emídio Dornelles|      2020|\n",
            "|Felisbela Dornelles|      2020|\n",
            "|     Graça Ornellas|      2020|\n",
            "|   Matilde Rebouças|      2019|\n",
            "|    Noêmia   Orriça|      2019|\n",
            "|      Roque Vásquez|      2020|\n",
            "|      Uriel Queiroz|      2018|\n",
            "|   Viviana Sequeira|      2020|\n",
            "+-------------------+----------+\n",
            "\n"
          ]
        }
      ]
    },
    {
      "cell_type": "code",
      "source": [
        "despachantes2.select('data').groupBy(year('data')).count().show()"
      ],
      "metadata": {
        "id": "Psfp9BoQAfRc",
        "outputId": "e2d5e6ea-2a9a-4462-b61c-6375c3455339",
        "colab": {
          "base_uri": "https://localhost:8080/"
        }
      },
      "execution_count": 83,
      "outputs": [
        {
          "output_type": "stream",
          "name": "stdout",
          "text": [
            "+----------+-----+\n",
            "|year(data)|count|\n",
            "+----------+-----+\n",
            "|      2018|    1|\n",
            "|      2019|    2|\n",
            "|      2020|    7|\n",
            "+----------+-----+\n",
            "\n"
          ]
        }
      ]
    },
    {
      "cell_type": "code",
      "source": [
        "despachantes2.select(Func.sum('vendas')).show()"
      ],
      "metadata": {
        "id": "G9zH8YiWAqLr",
        "outputId": "e1645240-a992-48f5-a053-8f0554946aa7",
        "colab": {
          "base_uri": "https://localhost:8080/"
        }
      },
      "execution_count": 84,
      "outputs": [
        {
          "output_type": "stream",
          "name": "stdout",
          "text": [
            "+-----------+\n",
            "|sum(vendas)|\n",
            "+-----------+\n",
            "|        325|\n",
            "+-----------+\n",
            "\n"
          ]
        }
      ]
    },
    {
      "cell_type": "code",
      "source": [],
      "metadata": {
        "id": "2iiBo9N4AxTM"
      },
      "execution_count": null,
      "outputs": []
    }
  ]
}