{
  "nbformat": 4,
  "nbformat_minor": 0,
  "metadata": {
    "colab": {
      "provenance": [],
      "authorship_tag": "ABX9TyMhvuo8utpJnFpI85l6vuuR",
      "include_colab_link": true
    },
    "kernelspec": {
      "name": "python3",
      "display_name": "Python 3"
    },
    "language_info": {
      "name": "python"
    }
  },
  "cells": [
    {
      "cell_type": "markdown",
      "metadata": {
        "id": "view-in-github",
        "colab_type": "text"
      },
      "source": [
        "<a href=\"https://colab.research.google.com/github/OseiasBeu/SparkFormation/blob/main/SparkFormation.ipynb\" target=\"_parent\"><img src=\"https://colab.research.google.com/assets/colab-badge.svg\" alt=\"Open In Colab\"/></a>"
      ]
    },
    {
      "cell_type": "code",
      "execution_count": 1,
      "metadata": {
        "id": "Aw1x0eiK359P"
      },
      "outputs": [],
      "source": [
        "# Instalando o Java\n",
        "!apt-get install openjdk-8-jdk-headless -qq > /dev/null"
      ]
    },
    {
      "cell_type": "code",
      "source": [
        "# Fazendo download\n",
        "!wget -q https://archive.apache.org/dist/spark/spark-3.1.2/spark-3.1.2-bin-hadoop2.7.tgz\n",
        "\n",
        "# Descompactando os arquivos\n",
        "!tar xf spark-3.1.2-bin-hadoop2.7.tgz"
      ],
      "metadata": {
        "id": "kcnFnP3O4Y-c"
      },
      "execution_count": 2,
      "outputs": []
    },
    {
      "cell_type": "code",
      "source": [
        "# Importando a biblioteca os\n",
        "import os\n",
        "\n",
        "# Definindo a variável de ambiente do Java\n",
        "os.environ[\"JAVA_HOME\"] = \"/usr/lib/jvm/java-8-openjdk-amd64\"\n",
        "\n",
        "# Definindo a variável de ambiente do Spark\n",
        "os.environ[\"SPARK_HOME\"] = \"/content/spark-3.1.2-bin-hadoop2.7\""
      ],
      "metadata": {
        "id": "0zvWD5sV5F3J"
      },
      "execution_count": 3,
      "outputs": []
    },
    {
      "cell_type": "code",
      "source": [
        "# instalando a findspark\n",
        "!pip install -q findspark"
      ],
      "metadata": {
        "id": "TttGmU7L5IoG"
      },
      "execution_count": 4,
      "outputs": []
    },
    {
      "cell_type": "code",
      "source": [
        "# Importando a findspark\n",
        "import findspark\n",
        "\n",
        "# Iniciando o findspark\n",
        "findspark.init()"
      ],
      "metadata": {
        "id": "rNgJWx6J5NY1"
      },
      "execution_count": 5,
      "outputs": []
    },
    {
      "cell_type": "code",
      "source": [
        "# importando o pacote necessário para iniciar uma seção Spark\n",
        "from pyspark.sql import SparkSession\n",
        "\n",
        "# iniciando o spark context\n",
        "sc = SparkSession.builder.master('local[*]').config(\"spark.executor.memory\", \"2g\").config('spark.driver.memory', '1g').config('spark.driver.cores', '4').enableHiveSupport().getOrCreate()\n",
        "# ss = SparkSession.builder.master('local').getOrCreate()\n",
        "\n",
        "# Verificando se a sessão foi criada\n",
        "sc"
      ],
      "metadata": {
        "colab": {
          "base_uri": "https://localhost:8080/",
          "height": 219
        },
        "id": "e05gPpp75P38",
        "outputId": "1825cd60-8934-4004-bb83-b0dfdb842d31"
      },
      "execution_count": 15,
      "outputs": [
        {
          "output_type": "execute_result",
          "data": {
            "text/plain": [
              "<pyspark.sql.session.SparkSession at 0x7fbf80640190>"
            ],
            "text/html": [
              "\n",
              "            <div>\n",
              "                <p><b>SparkSession - hive</b></p>\n",
              "                \n",
              "        <div>\n",
              "            <p><b>SparkContext</b></p>\n",
              "\n",
              "            <p><a href=\"http://1c9e982cde14:4040\">Spark UI</a></p>\n",
              "\n",
              "            <dl>\n",
              "              <dt>Version</dt>\n",
              "                <dd><code>v3.1.2</code></dd>\n",
              "              <dt>Master</dt>\n",
              "                <dd><code>local[*]</code></dd>\n",
              "              <dt>AppName</dt>\n",
              "                <dd><code>pyspark-shell</code></dd>\n",
              "            </dl>\n",
              "        </div>\n",
              "        \n",
              "            </div>\n",
              "        "
            ]
          },
          "metadata": {},
          "execution_count": 15
        }
      ]
    },
    {
      "cell_type": "code",
      "source": [
        "# importando os métodos com funções para transformações de variáveis\n",
        "from pyspark.sql.functions import *\n",
        "from pyspark.sql import *\n",
        "\n",
        "SQLContext(sparkContext=sc.sparkContext, sparkSession=sc)"
      ],
      "metadata": {
        "id": "mnQudSB05laP",
        "colab": {
          "base_uri": "https://localhost:8080/"
        },
        "outputId": "a214c8bf-cab2-44ba-bf10-9548db1f35bf"
      },
      "execution_count": 24,
      "outputs": [
        {
          "output_type": "execute_result",
          "data": {
            "text/plain": [
              "<pyspark.sql.context.SQLContext at 0x7fbf63874070>"
            ]
          },
          "metadata": {},
          "execution_count": 24
        }
      ]
    },
    {
      "cell_type": "code",
      "source": [
        "sc.sparkContext"
      ],
      "metadata": {
        "colab": {
          "base_uri": "https://localhost:8080/",
          "height": 196
        },
        "id": "yqU94_mT47Fq",
        "outputId": "873264a7-b9e8-42f1-b02e-ada84c751a1e"
      },
      "execution_count": 25,
      "outputs": [
        {
          "output_type": "execute_result",
          "data": {
            "text/plain": [
              "<SparkContext master=local[*] appName=pyspark-shell>"
            ],
            "text/html": [
              "\n",
              "        <div>\n",
              "            <p><b>SparkContext</b></p>\n",
              "\n",
              "            <p><a href=\"http://1c9e982cde14:4040\">Spark UI</a></p>\n",
              "\n",
              "            <dl>\n",
              "              <dt>Version</dt>\n",
              "                <dd><code>v3.1.2</code></dd>\n",
              "              <dt>Master</dt>\n",
              "                <dd><code>local[*]</code></dd>\n",
              "              <dt>AppName</dt>\n",
              "                <dd><code>pyspark-shell</code></dd>\n",
              "            </dl>\n",
              "        </div>\n",
              "        "
            ]
          },
          "metadata": {},
          "execution_count": 25
        }
      ]
    },
    {
      "cell_type": "markdown",
      "source": [
        "# RDD's"
      ],
      "metadata": {
        "id": "Gtka1UNs11wf"
      }
    },
    {
      "cell_type": "code",
      "source": [
        "numeros = sc.sparkContext.parallelize([1,2,3,4,5,6,7,8,9,10])"
      ],
      "metadata": {
        "id": "l6k8H8WI11aD"
      },
      "execution_count": 27,
      "outputs": []
    },
    {
      "cell_type": "code",
      "source": [
        "numeros.take(5)"
      ],
      "metadata": {
        "colab": {
          "base_uri": "https://localhost:8080/"
        },
        "id": "hfAaLkWX5t7E",
        "outputId": "1e4750bc-1615-42fb-9c74-63c9ec5329b3"
      },
      "execution_count": 33,
      "outputs": [
        {
          "output_type": "execute_result",
          "data": {
            "text/plain": [
              "[1, 2, 3, 4, 5]"
            ]
          },
          "metadata": {},
          "execution_count": 33
        }
      ]
    },
    {
      "cell_type": "code",
      "source": [
        "numeros.top(5)"
      ],
      "metadata": {
        "colab": {
          "base_uri": "https://localhost:8080/"
        },
        "id": "ZshiZQv66C3r",
        "outputId": "4b809dfc-0b77-41de-d1a2-cc4030e3a42f"
      },
      "execution_count": 34,
      "outputs": [
        {
          "output_type": "execute_result",
          "data": {
            "text/plain": [
              "[10, 9, 8, 7, 6]"
            ]
          },
          "metadata": {},
          "execution_count": 34
        }
      ]
    },
    {
      "cell_type": "code",
      "source": [
        "numeros.collect()"
      ],
      "metadata": {
        "colab": {
          "base_uri": "https://localhost:8080/"
        },
        "id": "tJrkjLUq6E9R",
        "outputId": "e1113656-932d-488e-df06-ccc3d579fc6c"
      },
      "execution_count": 35,
      "outputs": [
        {
          "output_type": "execute_result",
          "data": {
            "text/plain": [
              "[1, 2, 3, 4, 5, 6, 7, 8, 9, 10]"
            ]
          },
          "metadata": {},
          "execution_count": 35
        }
      ]
    },
    {
      "cell_type": "code",
      "source": [
        "numeros.count()"
      ],
      "metadata": {
        "colab": {
          "base_uri": "https://localhost:8080/"
        },
        "id": "iTM3ViEV6GPS",
        "outputId": "573e99f0-9f40-4e4f-a1c5-eedb37272036"
      },
      "execution_count": 36,
      "outputs": [
        {
          "output_type": "execute_result",
          "data": {
            "text/plain": [
              "10"
            ]
          },
          "metadata": {},
          "execution_count": 36
        }
      ]
    },
    {
      "cell_type": "code",
      "source": [
        "numeros.mean()"
      ],
      "metadata": {
        "colab": {
          "base_uri": "https://localhost:8080/"
        },
        "id": "67_jWFtk6JKS",
        "outputId": "39996391-38c6-4672-fa76-4867048df380"
      },
      "execution_count": 37,
      "outputs": [
        {
          "output_type": "execute_result",
          "data": {
            "text/plain": [
              "5.5"
            ]
          },
          "metadata": {},
          "execution_count": 37
        }
      ]
    },
    {
      "cell_type": "code",
      "source": [
        "numeros.max()"
      ],
      "metadata": {
        "colab": {
          "base_uri": "https://localhost:8080/"
        },
        "id": "zItY9xQa6LoB",
        "outputId": "08db6fda-4b49-49ed-9d75-097af434bf60"
      },
      "execution_count": 38,
      "outputs": [
        {
          "output_type": "execute_result",
          "data": {
            "text/plain": [
              "10"
            ]
          },
          "metadata": {},
          "execution_count": 38
        }
      ]
    },
    {
      "cell_type": "code",
      "source": [
        "numeros.min()"
      ],
      "metadata": {
        "colab": {
          "base_uri": "https://localhost:8080/"
        },
        "id": "OTEoYG2z6Mja",
        "outputId": "93906232-3d15-4a80-8f4a-a3b40c1844c4"
      },
      "execution_count": 40,
      "outputs": [
        {
          "output_type": "execute_result",
          "data": {
            "text/plain": [
              "1"
            ]
          },
          "metadata": {},
          "execution_count": 40
        }
      ]
    },
    {
      "cell_type": "code",
      "source": [
        "numeros.stdev()"
      ],
      "metadata": {
        "colab": {
          "base_uri": "https://localhost:8080/"
        },
        "id": "0TyGtz-O6N2i",
        "outputId": "4c724de2-edd7-41b0-f4df-f7010c6cdc9a"
      },
      "execution_count": 42,
      "outputs": [
        {
          "output_type": "execute_result",
          "data": {
            "text/plain": [
              "2.8722813232690143"
            ]
          },
          "metadata": {},
          "execution_count": 42
        }
      ]
    },
    {
      "cell_type": "code",
      "source": [
        "numeros.sum()"
      ],
      "metadata": {
        "colab": {
          "base_uri": "https://localhost:8080/"
        },
        "id": "HcH1kU9e6PJc",
        "outputId": "603b4e95-aa61-4964-d45e-5abdbf6f024a"
      },
      "execution_count": 43,
      "outputs": [
        {
          "output_type": "execute_result",
          "data": {
            "text/plain": [
              "55"
            ]
          },
          "metadata": {},
          "execution_count": 43
        }
      ]
    },
    {
      "cell_type": "code",
      "source": [
        "filtro = numeros.filter(lambda filtro: filtro > 2)"
      ],
      "metadata": {
        "id": "b-ziEGTy6Wkc"
      },
      "execution_count": 44,
      "outputs": []
    },
    {
      "cell_type": "code",
      "source": [
        "filtro.collect()"
      ],
      "metadata": {
        "colab": {
          "base_uri": "https://localhost:8080/"
        },
        "id": "fv2IuVf16h8R",
        "outputId": "c5b7975f-0501-48a7-8e09-7dec3818c70d"
      },
      "execution_count": 45,
      "outputs": [
        {
          "output_type": "execute_result",
          "data": {
            "text/plain": [
              "[3, 4, 5, 6, 7, 8, 9, 10]"
            ]
          },
          "metadata": {},
          "execution_count": 45
        }
      ]
    },
    {
      "cell_type": "code",
      "source": [
        "amostra = numeros.sample(True, 0.5,1)"
      ],
      "metadata": {
        "id": "IuUKQjfv6kD5"
      },
      "execution_count": 51,
      "outputs": []
    },
    {
      "cell_type": "code",
      "source": [
        "amostra.collect()"
      ],
      "metadata": {
        "colab": {
          "base_uri": "https://localhost:8080/"
        },
        "id": "47yzXaGl6pbB",
        "outputId": "67c03371-101c-47b8-909b-d78688f5991d"
      },
      "execution_count": 52,
      "outputs": [
        {
          "output_type": "execute_result",
          "data": {
            "text/plain": [
              "[2, 3, 4, 5, 8, 10, 10, 10, 10]"
            ]
          },
          "metadata": {},
          "execution_count": 52
        }
      ]
    },
    {
      "cell_type": "code",
      "source": [
        "mapa = numeros.map(lambda mapa: mapa *2)"
      ],
      "metadata": {
        "id": "Iz1TO2O06qsL"
      },
      "execution_count": 53,
      "outputs": []
    },
    {
      "cell_type": "code",
      "source": [
        "mapa.collect()"
      ],
      "metadata": {
        "colab": {
          "base_uri": "https://localhost:8080/"
        },
        "id": "2Dx_Wl5G63Lc",
        "outputId": "b63c1501-8e64-4385-8d65-e722eb577098"
      },
      "execution_count": 54,
      "outputs": [
        {
          "output_type": "execute_result",
          "data": {
            "text/plain": [
              "[2, 4, 6, 8, 10, 12, 14, 16, 18, 20]"
            ]
          },
          "metadata": {},
          "execution_count": 54
        }
      ]
    },
    {
      "cell_type": "code",
      "source": [
        "numeros.collect()"
      ],
      "metadata": {
        "colab": {
          "base_uri": "https://localhost:8080/"
        },
        "id": "Jt0MwtI864W9",
        "outputId": "1a365e48-f134-4681-b112-69b719103e96"
      },
      "execution_count": 55,
      "outputs": [
        {
          "output_type": "execute_result",
          "data": {
            "text/plain": [
              "[1, 2, 3, 4, 5, 6, 7, 8, 9, 10]"
            ]
          },
          "metadata": {},
          "execution_count": 55
        }
      ]
    },
    {
      "cell_type": "code",
      "source": [
        "numeros2 = sc.sparkContext.parallelize([6,7,8,9,10])"
      ],
      "metadata": {
        "id": "_CgoMQT068Da"
      },
      "execution_count": 56,
      "outputs": []
    },
    {
      "cell_type": "code",
      "source": [
        "uniao = numeros.union(numeros2)"
      ],
      "metadata": {
        "id": "ulxgnBEA7F4U"
      },
      "execution_count": 57,
      "outputs": []
    },
    {
      "cell_type": "code",
      "source": [
        "uniao.collect()"
      ],
      "metadata": {
        "colab": {
          "base_uri": "https://localhost:8080/"
        },
        "id": "woKycdr87K_s",
        "outputId": "9a51d6d3-76bc-42d6-ebca-8f2ab9da4d76"
      },
      "execution_count": 58,
      "outputs": [
        {
          "output_type": "execute_result",
          "data": {
            "text/plain": [
              "[1, 2, 3, 4, 5, 6, 7, 8, 9, 10, 6, 7, 8, 9, 10]"
            ]
          },
          "metadata": {},
          "execution_count": 58
        }
      ]
    },
    {
      "cell_type": "code",
      "source": [
        "interseccao = numeros.intersection(numeros2)"
      ],
      "metadata": {
        "id": "udX0Milw7L_4"
      },
      "execution_count": 60,
      "outputs": []
    },
    {
      "cell_type": "code",
      "source": [
        "interseccao.collect()"
      ],
      "metadata": {
        "colab": {
          "base_uri": "https://localhost:8080/"
        },
        "id": "POiy1IRO7S81",
        "outputId": "fb5a146a-42c9-436a-f66f-6097ea9fe81d"
      },
      "execution_count": 61,
      "outputs": [
        {
          "output_type": "execute_result",
          "data": {
            "text/plain": [
              "[8, 9, 6, 10, 7]"
            ]
          },
          "metadata": {},
          "execution_count": 61
        }
      ]
    },
    {
      "cell_type": "code",
      "source": [
        "subtrai = numeros.subtract(numeros2)"
      ],
      "metadata": {
        "id": "x6Smus8z7W7a"
      },
      "execution_count": 62,
      "outputs": []
    },
    {
      "cell_type": "code",
      "source": [
        "subtrai.collect()"
      ],
      "metadata": {
        "colab": {
          "base_uri": "https://localhost:8080/"
        },
        "id": "czKmC6J07hSb",
        "outputId": "db972336-153d-41fc-f07c-be72795d15b1"
      },
      "execution_count": 63,
      "outputs": [
        {
          "output_type": "execute_result",
          "data": {
            "text/plain": [
              "[4, 1, 5, 2, 3]"
            ]
          },
          "metadata": {},
          "execution_count": 63
        }
      ]
    },
    {
      "cell_type": "code",
      "source": [
        "cartesiano = numeros.cartesian(numeros2)"
      ],
      "metadata": {
        "id": "gNBudrqw7ize"
      },
      "execution_count": 64,
      "outputs": []
    },
    {
      "cell_type": "code",
      "source": [
        "cartesiano.collect()"
      ],
      "metadata": {
        "colab": {
          "base_uri": "https://localhost:8080/"
        },
        "id": "zkHIwrbm7onz",
        "outputId": "fa833e93-77fc-45fd-f051-e6cb72a04f3c"
      },
      "execution_count": 65,
      "outputs": [
        {
          "output_type": "execute_result",
          "data": {
            "text/plain": [
              "[(1, 6),\n",
              " (1, 7),\n",
              " (2, 6),\n",
              " (2, 7),\n",
              " (3, 6),\n",
              " (3, 7),\n",
              " (4, 6),\n",
              " (4, 7),\n",
              " (5, 6),\n",
              " (5, 7),\n",
              " (1, 8),\n",
              " (1, 9),\n",
              " (2, 8),\n",
              " (2, 9),\n",
              " (3, 8),\n",
              " (3, 9),\n",
              " (4, 8),\n",
              " (4, 9),\n",
              " (5, 8),\n",
              " (5, 9),\n",
              " (1, 10),\n",
              " (2, 10),\n",
              " (3, 10),\n",
              " (4, 10),\n",
              " (5, 10),\n",
              " (6, 6),\n",
              " (6, 7),\n",
              " (7, 6),\n",
              " (7, 7),\n",
              " (8, 6),\n",
              " (8, 7),\n",
              " (9, 6),\n",
              " (9, 7),\n",
              " (10, 6),\n",
              " (10, 7),\n",
              " (6, 8),\n",
              " (6, 9),\n",
              " (7, 8),\n",
              " (7, 9),\n",
              " (8, 8),\n",
              " (8, 9),\n",
              " (9, 8),\n",
              " (9, 9),\n",
              " (10, 8),\n",
              " (10, 9),\n",
              " (6, 10),\n",
              " (7, 10),\n",
              " (8, 10),\n",
              " (9, 10),\n",
              " (10, 10)]"
            ]
          },
          "metadata": {},
          "execution_count": 65
        }
      ]
    },
    {
      "cell_type": "code",
      "source": [
        "cartesiano.countByValue()"
      ],
      "metadata": {
        "colab": {
          "base_uri": "https://localhost:8080/"
        },
        "id": "zXrCJeAi7pvr",
        "outputId": "9563d355-dd76-41ef-e683-b27d63578563"
      },
      "execution_count": 66,
      "outputs": [
        {
          "output_type": "execute_result",
          "data": {
            "text/plain": [
              "defaultdict(int,\n",
              "            {(1, 6): 1,\n",
              "             (1, 7): 1,\n",
              "             (2, 6): 1,\n",
              "             (2, 7): 1,\n",
              "             (3, 6): 1,\n",
              "             (3, 7): 1,\n",
              "             (4, 6): 1,\n",
              "             (4, 7): 1,\n",
              "             (5, 6): 1,\n",
              "             (5, 7): 1,\n",
              "             (1, 8): 1,\n",
              "             (1, 9): 1,\n",
              "             (2, 8): 1,\n",
              "             (2, 9): 1,\n",
              "             (3, 8): 1,\n",
              "             (3, 9): 1,\n",
              "             (4, 8): 1,\n",
              "             (4, 9): 1,\n",
              "             (5, 8): 1,\n",
              "             (5, 9): 1,\n",
              "             (1, 10): 1,\n",
              "             (2, 10): 1,\n",
              "             (3, 10): 1,\n",
              "             (4, 10): 1,\n",
              "             (5, 10): 1,\n",
              "             (6, 6): 1,\n",
              "             (6, 7): 1,\n",
              "             (7, 6): 1,\n",
              "             (7, 7): 1,\n",
              "             (8, 6): 1,\n",
              "             (8, 7): 1,\n",
              "             (9, 6): 1,\n",
              "             (9, 7): 1,\n",
              "             (10, 6): 1,\n",
              "             (10, 7): 1,\n",
              "             (6, 8): 1,\n",
              "             (6, 9): 1,\n",
              "             (7, 8): 1,\n",
              "             (7, 9): 1,\n",
              "             (8, 8): 1,\n",
              "             (8, 9): 1,\n",
              "             (9, 8): 1,\n",
              "             (9, 9): 1,\n",
              "             (10, 8): 1,\n",
              "             (10, 9): 1,\n",
              "             (6, 10): 1,\n",
              "             (7, 10): 1,\n",
              "             (8, 10): 1,\n",
              "             (9, 10): 1,\n",
              "             (10, 10): 1})"
            ]
          },
          "metadata": {},
          "execution_count": 66
        }
      ]
    },
    {
      "cell_type": "code",
      "source": [],
      "metadata": {
        "id": "eFv64f207uoN"
      },
      "execution_count": null,
      "outputs": []
    }
  ]
}