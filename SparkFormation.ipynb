{
  "nbformat": 4,
  "nbformat_minor": 0,
  "metadata": {
    "colab": {
      "provenance": [],
      "authorship_tag": "ABX9TyPaHPSUwKRBwio1i6uo7atl",
      "include_colab_link": true
    },
    "kernelspec": {
      "name": "python3",
      "display_name": "Python 3"
    },
    "language_info": {
      "name": "python"
    }
  },
  "cells": [
    {
      "cell_type": "markdown",
      "metadata": {
        "id": "view-in-github",
        "colab_type": "text"
      },
      "source": [
        "<a href=\"https://colab.research.google.com/github/OseiasBeu/SparkFormation/blob/main/SparkFormation.ipynb\" target=\"_parent\"><img src=\"https://colab.research.google.com/assets/colab-badge.svg\" alt=\"Open In Colab\"/></a>"
      ]
    },
    {
      "cell_type": "code",
      "execution_count": 1,
      "metadata": {
        "id": "Aw1x0eiK359P"
      },
      "outputs": [],
      "source": [
        "# Instalando o Java\n",
        "!apt-get install openjdk-8-jdk-headless -qq > /dev/null"
      ]
    },
    {
      "cell_type": "code",
      "source": [
        "# Fazendo download\n",
        "!wget -q https://archive.apache.org/dist/spark/spark-3.1.2/spark-3.1.2-bin-hadoop2.7.tgz\n",
        "\n",
        "# Descompactando os arquivos\n",
        "!tar xf spark-3.1.2-bin-hadoop2.7.tgz"
      ],
      "metadata": {
        "id": "kcnFnP3O4Y-c"
      },
      "execution_count": 2,
      "outputs": []
    },
    {
      "cell_type": "code",
      "source": [
        "# Importando a biblioteca os\n",
        "import os\n",
        "\n",
        "# Definindo a variável de ambiente do Java\n",
        "os.environ[\"JAVA_HOME\"] = \"/usr/lib/jvm/java-8-openjdk-amd64\"\n",
        "\n",
        "# Definindo a variável de ambiente do Spark\n",
        "os.environ[\"SPARK_HOME\"] = \"/content/spark-3.1.2-bin-hadoop2.7\""
      ],
      "metadata": {
        "id": "0zvWD5sV5F3J"
      },
      "execution_count": 3,
      "outputs": []
    },
    {
      "cell_type": "code",
      "source": [
        "# instalando a findspark\n",
        "!pip install -q findspark"
      ],
      "metadata": {
        "id": "TttGmU7L5IoG"
      },
      "execution_count": 4,
      "outputs": []
    },
    {
      "cell_type": "code",
      "source": [
        "# Importando a findspark\n",
        "import findspark\n",
        "\n",
        "# Iniciando o findspark\n",
        "findspark.init()"
      ],
      "metadata": {
        "id": "rNgJWx6J5NY1"
      },
      "execution_count": 5,
      "outputs": []
    },
    {
      "cell_type": "code",
      "source": [
        "# importando o pacote necessário para iniciar uma seção Spark\n",
        "from pyspark.sql import SparkSession\n",
        "\n",
        "# iniciando o spark context\n",
        "sc = SparkSession.builder.master('local[*]').config(\"spark.executor.memory\", \"2g\").config('spark.driver.memory', '1g').config('spark.driver.cores', '4').enableHiveSupport().getOrCreate()\n",
        "# ss = SparkSession.builder.master('local').getOrCreate()\n",
        "\n",
        "# Verificando se a sessão foi criada\n",
        "sc"
      ],
      "metadata": {
        "colab": {
          "base_uri": "https://localhost:8080/",
          "height": 219
        },
        "id": "e05gPpp75P38",
        "outputId": "8feb591d-4951-42c1-a1f2-bbd7310b910a"
      },
      "execution_count": 6,
      "outputs": [
        {
          "output_type": "execute_result",
          "data": {
            "text/plain": [
              "<pyspark.sql.session.SparkSession at 0x7fc9057402b0>"
            ],
            "text/html": [
              "\n",
              "            <div>\n",
              "                <p><b>SparkSession - hive</b></p>\n",
              "                \n",
              "        <div>\n",
              "            <p><b>SparkContext</b></p>\n",
              "\n",
              "            <p><a href=\"http://51894d74caa9:4040\">Spark UI</a></p>\n",
              "\n",
              "            <dl>\n",
              "              <dt>Version</dt>\n",
              "                <dd><code>v3.1.2</code></dd>\n",
              "              <dt>Master</dt>\n",
              "                <dd><code>local[*]</code></dd>\n",
              "              <dt>AppName</dt>\n",
              "                <dd><code>pyspark-shell</code></dd>\n",
              "            </dl>\n",
              "        </div>\n",
              "        \n",
              "            </div>\n",
              "        "
            ]
          },
          "metadata": {},
          "execution_count": 6
        }
      ]
    },
    {
      "cell_type": "code",
      "source": [
        "# importando os métodos com funções para transformações de variáveis\n",
        "from pyspark.sql.functions import *\n",
        "from pyspark.sql import *\n",
        "\n",
        "SQLContext(sparkContext=sc.sparkContext, sparkSession=sc)"
      ],
      "metadata": {
        "id": "mnQudSB05laP",
        "colab": {
          "base_uri": "https://localhost:8080/"
        },
        "outputId": "c8e66482-1e86-4b69-fda6-98fb79813c0a"
      },
      "execution_count": 7,
      "outputs": [
        {
          "output_type": "execute_result",
          "data": {
            "text/plain": [
              "<pyspark.sql.context.SQLContext at 0x7fc90573d610>"
            ]
          },
          "metadata": {},
          "execution_count": 7
        }
      ]
    },
    {
      "cell_type": "code",
      "source": [
        "sc.sparkContext"
      ],
      "metadata": {
        "colab": {
          "base_uri": "https://localhost:8080/",
          "height": 196
        },
        "id": "yqU94_mT47Fq",
        "outputId": "ecdc1541-2d55-4018-b399-2deca1fb09dd"
      },
      "execution_count": 8,
      "outputs": [
        {
          "output_type": "execute_result",
          "data": {
            "text/plain": [
              "<SparkContext master=local[*] appName=pyspark-shell>"
            ],
            "text/html": [
              "\n",
              "        <div>\n",
              "            <p><b>SparkContext</b></p>\n",
              "\n",
              "            <p><a href=\"http://51894d74caa9:4040\">Spark UI</a></p>\n",
              "\n",
              "            <dl>\n",
              "              <dt>Version</dt>\n",
              "                <dd><code>v3.1.2</code></dd>\n",
              "              <dt>Master</dt>\n",
              "                <dd><code>local[*]</code></dd>\n",
              "              <dt>AppName</dt>\n",
              "                <dd><code>pyspark-shell</code></dd>\n",
              "            </dl>\n",
              "        </div>\n",
              "        "
            ]
          },
          "metadata": {},
          "execution_count": 8
        }
      ]
    },
    {
      "cell_type": "markdown",
      "source": [
        "# RDD's"
      ],
      "metadata": {
        "id": "Gtka1UNs11wf"
      }
    },
    {
      "cell_type": "code",
      "source": [
        "numeros = sc.sparkContext.parallelize([1,2,3,4,5,6,7,8,9,10])"
      ],
      "metadata": {
        "id": "l6k8H8WI11aD"
      },
      "execution_count": 9,
      "outputs": []
    },
    {
      "cell_type": "code",
      "source": [
        "numeros.take(5)"
      ],
      "metadata": {
        "colab": {
          "base_uri": "https://localhost:8080/"
        },
        "id": "hfAaLkWX5t7E",
        "outputId": "4e773fcb-aa1f-4d36-b0f2-3285837788b0"
      },
      "execution_count": 10,
      "outputs": [
        {
          "output_type": "execute_result",
          "data": {
            "text/plain": [
              "[1, 2, 3, 4, 5]"
            ]
          },
          "metadata": {},
          "execution_count": 10
        }
      ]
    },
    {
      "cell_type": "code",
      "source": [
        "numeros.top(5)"
      ],
      "metadata": {
        "colab": {
          "base_uri": "https://localhost:8080/"
        },
        "id": "ZshiZQv66C3r",
        "outputId": "4972b5ad-ba77-4b90-ae28-b0e7d4786cb9"
      },
      "execution_count": 11,
      "outputs": [
        {
          "output_type": "execute_result",
          "data": {
            "text/plain": [
              "[10, 9, 8, 7, 6]"
            ]
          },
          "metadata": {},
          "execution_count": 11
        }
      ]
    },
    {
      "cell_type": "code",
      "source": [
        "numeros.collect()"
      ],
      "metadata": {
        "colab": {
          "base_uri": "https://localhost:8080/"
        },
        "id": "tJrkjLUq6E9R",
        "outputId": "47c98bf9-446b-4513-87ee-699db02d5721"
      },
      "execution_count": 12,
      "outputs": [
        {
          "output_type": "execute_result",
          "data": {
            "text/plain": [
              "[1, 2, 3, 4, 5, 6, 7, 8, 9, 10]"
            ]
          },
          "metadata": {},
          "execution_count": 12
        }
      ]
    },
    {
      "cell_type": "markdown",
      "source": [
        "## Funções"
      ],
      "metadata": {
        "id": "5VIQMQ_dWQ_h"
      }
    },
    {
      "cell_type": "code",
      "source": [
        "numeros.count()"
      ],
      "metadata": {
        "colab": {
          "base_uri": "https://localhost:8080/"
        },
        "id": "iTM3ViEV6GPS",
        "outputId": "dbf6eb4a-5d63-40e6-fd6c-0198c8e2b6ce"
      },
      "execution_count": 13,
      "outputs": [
        {
          "output_type": "execute_result",
          "data": {
            "text/plain": [
              "10"
            ]
          },
          "metadata": {},
          "execution_count": 13
        }
      ]
    },
    {
      "cell_type": "code",
      "source": [
        "numeros.mean()"
      ],
      "metadata": {
        "colab": {
          "base_uri": "https://localhost:8080/"
        },
        "id": "67_jWFtk6JKS",
        "outputId": "6f38f238-6d46-4a6f-84e2-7fc1651285ee"
      },
      "execution_count": 14,
      "outputs": [
        {
          "output_type": "execute_result",
          "data": {
            "text/plain": [
              "5.5"
            ]
          },
          "metadata": {},
          "execution_count": 14
        }
      ]
    },
    {
      "cell_type": "code",
      "source": [
        "numeros.max()"
      ],
      "metadata": {
        "colab": {
          "base_uri": "https://localhost:8080/"
        },
        "id": "zItY9xQa6LoB",
        "outputId": "5a86f0ec-d92d-45d7-9431-73f4c70d4c4b"
      },
      "execution_count": 15,
      "outputs": [
        {
          "output_type": "execute_result",
          "data": {
            "text/plain": [
              "10"
            ]
          },
          "metadata": {},
          "execution_count": 15
        }
      ]
    },
    {
      "cell_type": "code",
      "source": [
        "numeros.min()"
      ],
      "metadata": {
        "colab": {
          "base_uri": "https://localhost:8080/"
        },
        "id": "OTEoYG2z6Mja",
        "outputId": "93199e07-78dd-4192-99ff-ee5b3cd17e5a"
      },
      "execution_count": 16,
      "outputs": [
        {
          "output_type": "execute_result",
          "data": {
            "text/plain": [
              "1"
            ]
          },
          "metadata": {},
          "execution_count": 16
        }
      ]
    },
    {
      "cell_type": "code",
      "source": [
        "numeros.stdev()"
      ],
      "metadata": {
        "colab": {
          "base_uri": "https://localhost:8080/"
        },
        "id": "0TyGtz-O6N2i",
        "outputId": "0ff60692-6c2f-4e85-81d8-eccc82689af9"
      },
      "execution_count": 17,
      "outputs": [
        {
          "output_type": "execute_result",
          "data": {
            "text/plain": [
              "2.8722813232690143"
            ]
          },
          "metadata": {},
          "execution_count": 17
        }
      ]
    },
    {
      "cell_type": "code",
      "source": [
        "numeros.sum()"
      ],
      "metadata": {
        "colab": {
          "base_uri": "https://localhost:8080/"
        },
        "id": "HcH1kU9e6PJc",
        "outputId": "31ef9c02-9235-4628-a3a1-0b515f415cd5"
      },
      "execution_count": 18,
      "outputs": [
        {
          "output_type": "execute_result",
          "data": {
            "text/plain": [
              "55"
            ]
          },
          "metadata": {},
          "execution_count": 18
        }
      ]
    },
    {
      "cell_type": "markdown",
      "source": [
        "## Filtro"
      ],
      "metadata": {
        "id": "0BEXmJpvWTMm"
      }
    },
    {
      "cell_type": "code",
      "source": [
        "filtro = numeros.filter(lambda filtro: filtro > 2)"
      ],
      "metadata": {
        "id": "b-ziEGTy6Wkc"
      },
      "execution_count": 19,
      "outputs": []
    },
    {
      "cell_type": "code",
      "source": [
        "filtro.collect()"
      ],
      "metadata": {
        "colab": {
          "base_uri": "https://localhost:8080/"
        },
        "id": "fv2IuVf16h8R",
        "outputId": "87fa941e-72fd-4f6b-8740-b643663895c0"
      },
      "execution_count": 20,
      "outputs": [
        {
          "output_type": "execute_result",
          "data": {
            "text/plain": [
              "[3, 4, 5, 6, 7, 8, 9, 10]"
            ]
          },
          "metadata": {},
          "execution_count": 20
        }
      ]
    },
    {
      "cell_type": "code",
      "source": [
        "amostra = numeros.sample(True, 0.5,1)"
      ],
      "metadata": {
        "id": "IuUKQjfv6kD5"
      },
      "execution_count": 21,
      "outputs": []
    },
    {
      "cell_type": "code",
      "source": [
        "amostra.collect()"
      ],
      "metadata": {
        "colab": {
          "base_uri": "https://localhost:8080/"
        },
        "id": "47yzXaGl6pbB",
        "outputId": "26811e40-557b-4e1f-8d7b-bbf4ccafc8c7"
      },
      "execution_count": 22,
      "outputs": [
        {
          "output_type": "execute_result",
          "data": {
            "text/plain": [
              "[2, 3, 4, 5, 8, 10, 10, 10, 10]"
            ]
          },
          "metadata": {},
          "execution_count": 22
        }
      ]
    },
    {
      "cell_type": "code",
      "source": [
        "mapa = numeros.map(lambda mapa: mapa *2)"
      ],
      "metadata": {
        "id": "Iz1TO2O06qsL"
      },
      "execution_count": 23,
      "outputs": []
    },
    {
      "cell_type": "code",
      "source": [
        "mapa.collect()"
      ],
      "metadata": {
        "colab": {
          "base_uri": "https://localhost:8080/"
        },
        "id": "2Dx_Wl5G63Lc",
        "outputId": "9f84b953-39a5-46f7-b0e4-c59c32b4dae6"
      },
      "execution_count": 24,
      "outputs": [
        {
          "output_type": "execute_result",
          "data": {
            "text/plain": [
              "[2, 4, 6, 8, 10, 12, 14, 16, 18, 20]"
            ]
          },
          "metadata": {},
          "execution_count": 24
        }
      ]
    },
    {
      "cell_type": "code",
      "source": [
        "numeros.collect()"
      ],
      "metadata": {
        "colab": {
          "base_uri": "https://localhost:8080/"
        },
        "id": "Jt0MwtI864W9",
        "outputId": "cc88ac4c-fcc8-467f-e61b-8cc68f890194"
      },
      "execution_count": 25,
      "outputs": [
        {
          "output_type": "execute_result",
          "data": {
            "text/plain": [
              "[1, 2, 3, 4, 5, 6, 7, 8, 9, 10]"
            ]
          },
          "metadata": {},
          "execution_count": 25
        }
      ]
    },
    {
      "cell_type": "markdown",
      "source": [
        "## Join's"
      ],
      "metadata": {
        "id": "KcSgMsZwWWy-"
      }
    },
    {
      "cell_type": "code",
      "source": [
        "numeros2 = sc.sparkContext.parallelize([6,7,8,9,10])"
      ],
      "metadata": {
        "id": "_CgoMQT068Da"
      },
      "execution_count": 26,
      "outputs": []
    },
    {
      "cell_type": "code",
      "source": [
        "uniao = numeros.union(numeros2)"
      ],
      "metadata": {
        "id": "ulxgnBEA7F4U"
      },
      "execution_count": 27,
      "outputs": []
    },
    {
      "cell_type": "code",
      "source": [
        "uniao.collect()"
      ],
      "metadata": {
        "colab": {
          "base_uri": "https://localhost:8080/"
        },
        "id": "woKycdr87K_s",
        "outputId": "7fc77546-85f9-48dc-e713-5f27c1d88dda"
      },
      "execution_count": 28,
      "outputs": [
        {
          "output_type": "execute_result",
          "data": {
            "text/plain": [
              "[1, 2, 3, 4, 5, 6, 7, 8, 9, 10, 6, 7, 8, 9, 10]"
            ]
          },
          "metadata": {},
          "execution_count": 28
        }
      ]
    },
    {
      "cell_type": "code",
      "source": [
        "interseccao = numeros.intersection(numeros2)"
      ],
      "metadata": {
        "id": "udX0Milw7L_4"
      },
      "execution_count": 29,
      "outputs": []
    },
    {
      "cell_type": "code",
      "source": [
        "interseccao.collect()"
      ],
      "metadata": {
        "colab": {
          "base_uri": "https://localhost:8080/"
        },
        "id": "POiy1IRO7S81",
        "outputId": "6e8be711-9d61-4572-d8bb-96db1a1a8653"
      },
      "execution_count": 30,
      "outputs": [
        {
          "output_type": "execute_result",
          "data": {
            "text/plain": [
              "[8, 9, 6, 10, 7]"
            ]
          },
          "metadata": {},
          "execution_count": 30
        }
      ]
    },
    {
      "cell_type": "code",
      "source": [
        "subtrai = numeros.subtract(numeros2)"
      ],
      "metadata": {
        "id": "x6Smus8z7W7a"
      },
      "execution_count": 31,
      "outputs": []
    },
    {
      "cell_type": "code",
      "source": [
        "subtrai.collect()"
      ],
      "metadata": {
        "colab": {
          "base_uri": "https://localhost:8080/"
        },
        "id": "czKmC6J07hSb",
        "outputId": "4e05ba09-bf0f-4dbe-a856-a0a6d2853255"
      },
      "execution_count": 32,
      "outputs": [
        {
          "output_type": "execute_result",
          "data": {
            "text/plain": [
              "[4, 1, 5, 2, 3]"
            ]
          },
          "metadata": {},
          "execution_count": 32
        }
      ]
    },
    {
      "cell_type": "code",
      "source": [
        "cartesiano = numeros.cartesian(numeros2)"
      ],
      "metadata": {
        "id": "gNBudrqw7ize"
      },
      "execution_count": 33,
      "outputs": []
    },
    {
      "cell_type": "code",
      "source": [
        "cartesiano.collect()"
      ],
      "metadata": {
        "colab": {
          "base_uri": "https://localhost:8080/"
        },
        "id": "zkHIwrbm7onz",
        "outputId": "5dae0d44-3b50-41ed-8245-c71e83389d49"
      },
      "execution_count": 34,
      "outputs": [
        {
          "output_type": "execute_result",
          "data": {
            "text/plain": [
              "[(1, 6),\n",
              " (1, 7),\n",
              " (2, 6),\n",
              " (2, 7),\n",
              " (3, 6),\n",
              " (3, 7),\n",
              " (4, 6),\n",
              " (4, 7),\n",
              " (5, 6),\n",
              " (5, 7),\n",
              " (1, 8),\n",
              " (1, 9),\n",
              " (2, 8),\n",
              " (2, 9),\n",
              " (3, 8),\n",
              " (3, 9),\n",
              " (4, 8),\n",
              " (4, 9),\n",
              " (5, 8),\n",
              " (5, 9),\n",
              " (1, 10),\n",
              " (2, 10),\n",
              " (3, 10),\n",
              " (4, 10),\n",
              " (5, 10),\n",
              " (6, 6),\n",
              " (6, 7),\n",
              " (7, 6),\n",
              " (7, 7),\n",
              " (8, 6),\n",
              " (8, 7),\n",
              " (9, 6),\n",
              " (9, 7),\n",
              " (10, 6),\n",
              " (10, 7),\n",
              " (6, 8),\n",
              " (6, 9),\n",
              " (7, 8),\n",
              " (7, 9),\n",
              " (8, 8),\n",
              " (8, 9),\n",
              " (9, 8),\n",
              " (9, 9),\n",
              " (10, 8),\n",
              " (10, 9),\n",
              " (6, 10),\n",
              " (7, 10),\n",
              " (8, 10),\n",
              " (9, 10),\n",
              " (10, 10)]"
            ]
          },
          "metadata": {},
          "execution_count": 34
        }
      ]
    },
    {
      "cell_type": "code",
      "source": [
        "cartesiano.countByValue()"
      ],
      "metadata": {
        "colab": {
          "base_uri": "https://localhost:8080/"
        },
        "id": "zXrCJeAi7pvr",
        "outputId": "4d712d75-a174-4741-8faf-beb16983ef1f"
      },
      "execution_count": 35,
      "outputs": [
        {
          "output_type": "execute_result",
          "data": {
            "text/plain": [
              "defaultdict(int,\n",
              "            {(1, 6): 1,\n",
              "             (1, 7): 1,\n",
              "             (2, 6): 1,\n",
              "             (2, 7): 1,\n",
              "             (3, 6): 1,\n",
              "             (3, 7): 1,\n",
              "             (4, 6): 1,\n",
              "             (4, 7): 1,\n",
              "             (5, 6): 1,\n",
              "             (5, 7): 1,\n",
              "             (1, 8): 1,\n",
              "             (1, 9): 1,\n",
              "             (2, 8): 1,\n",
              "             (2, 9): 1,\n",
              "             (3, 8): 1,\n",
              "             (3, 9): 1,\n",
              "             (4, 8): 1,\n",
              "             (4, 9): 1,\n",
              "             (5, 8): 1,\n",
              "             (5, 9): 1,\n",
              "             (1, 10): 1,\n",
              "             (2, 10): 1,\n",
              "             (3, 10): 1,\n",
              "             (4, 10): 1,\n",
              "             (5, 10): 1,\n",
              "             (6, 6): 1,\n",
              "             (6, 7): 1,\n",
              "             (7, 6): 1,\n",
              "             (7, 7): 1,\n",
              "             (8, 6): 1,\n",
              "             (8, 7): 1,\n",
              "             (9, 6): 1,\n",
              "             (9, 7): 1,\n",
              "             (10, 6): 1,\n",
              "             (10, 7): 1,\n",
              "             (6, 8): 1,\n",
              "             (6, 9): 1,\n",
              "             (7, 8): 1,\n",
              "             (7, 9): 1,\n",
              "             (8, 8): 1,\n",
              "             (8, 9): 1,\n",
              "             (9, 8): 1,\n",
              "             (9, 9): 1,\n",
              "             (10, 8): 1,\n",
              "             (10, 9): 1,\n",
              "             (6, 10): 1,\n",
              "             (7, 10): 1,\n",
              "             (8, 10): 1,\n",
              "             (9, 10): 1,\n",
              "             (10, 10): 1})"
            ]
          },
          "metadata": {},
          "execution_count": 35
        }
      ]
    },
    {
      "cell_type": "markdown",
      "source": [
        "## Compras"
      ],
      "metadata": {
        "id": "AGNQXK7pWL59"
      }
    },
    {
      "cell_type": "code",
      "source": [
        "compras = sc.sparkContext.parallelize([(1,200),(2,300),(3,120),(4,250),(5,78)])"
      ],
      "metadata": {
        "id": "eFv64f207uoN"
      },
      "execution_count": 37,
      "outputs": []
    },
    {
      "cell_type": "code",
      "source": [
        "chaves = compras.keys()\n",
        "chaves.collect()"
      ],
      "metadata": {
        "id": "n4uFe1DUWr_K",
        "outputId": "2533f0a1-7199-4c07-b131-f4596b7d38b0",
        "colab": {
          "base_uri": "https://localhost:8080/"
        }
      },
      "execution_count": 39,
      "outputs": [
        {
          "output_type": "execute_result",
          "data": {
            "text/plain": [
              "[1, 2, 3, 4, 5]"
            ]
          },
          "metadata": {},
          "execution_count": 39
        }
      ]
    },
    {
      "cell_type": "code",
      "source": [
        "valores = compras.values()\n",
        "valores.collect()"
      ],
      "metadata": {
        "id": "wfqPfssJW2cR",
        "outputId": "9bae5c8b-e0df-471f-bc17-068fcafb1593",
        "colab": {
          "base_uri": "https://localhost:8080/"
        }
      },
      "execution_count": 40,
      "outputs": [
        {
          "output_type": "execute_result",
          "data": {
            "text/plain": [
              "[200, 300, 120, 250, 78]"
            ]
          },
          "metadata": {},
          "execution_count": 40
        }
      ]
    },
    {
      "cell_type": "code",
      "source": [
        "compras.countByKey()"
      ],
      "metadata": {
        "id": "gKmf_yqcW9A5",
        "outputId": "fce7366e-5f74-49e6-e3a9-1302a5f75467",
        "colab": {
          "base_uri": "https://localhost:8080/"
        }
      },
      "execution_count": 41,
      "outputs": [
        {
          "output_type": "execute_result",
          "data": {
            "text/plain": [
              "defaultdict(int, {1: 1, 2: 1, 3: 1, 4: 1, 5: 1})"
            ]
          },
          "metadata": {},
          "execution_count": 41
        }
      ]
    },
    {
      "cell_type": "code",
      "source": [
        "soma = compras.mapValues(lambda soma: soma + 1)\n",
        "soma.collect()"
      ],
      "metadata": {
        "id": "N1Kd2COEXD2w",
        "outputId": "5877f67d-1fe0-4197-ff19-364404ab306c",
        "colab": {
          "base_uri": "https://localhost:8080/"
        }
      },
      "execution_count": 42,
      "outputs": [
        {
          "output_type": "execute_result",
          "data": {
            "text/plain": [
              "[(1, 201), (2, 301), (3, 121), (4, 251), (5, 79)]"
            ]
          },
          "metadata": {},
          "execution_count": 42
        }
      ]
    },
    {
      "cell_type": "code",
      "source": [
        "compras.collect()"
      ],
      "metadata": {
        "id": "N5NtVJwJXNEB",
        "outputId": "06ef7e10-194b-4ac1-eacf-94c4f4f3cce5",
        "colab": {
          "base_uri": "https://localhost:8080/"
        }
      },
      "execution_count": 43,
      "outputs": [
        {
          "output_type": "execute_result",
          "data": {
            "text/plain": [
              "[(1, 200), (2, 300), (3, 120), (4, 250), (5, 78)]"
            ]
          },
          "metadata": {},
          "execution_count": 43
        }
      ]
    },
    {
      "cell_type": "code",
      "source": [
        "debitos = sc.sparkContext.parallelize([(1,20),(2,300)])"
      ],
      "metadata": {
        "id": "_MUzl3t7XQDy"
      },
      "execution_count": 44,
      "outputs": []
    },
    {
      "cell_type": "code",
      "source": [
        "resultado = compras.join(debitos)\n",
        "resultado.collect()"
      ],
      "metadata": {
        "id": "fdZuM8KKXZcI",
        "outputId": "6a24f0e9-0683-46cb-e2f1-15a2e4d9a0a6",
        "colab": {
          "base_uri": "https://localhost:8080/"
        }
      },
      "execution_count": 45,
      "outputs": [
        {
          "output_type": "execute_result",
          "data": {
            "text/plain": [
              "[(1, (200, 20)), (2, (300, 300))]"
            ]
          },
          "metadata": {},
          "execution_count": 45
        }
      ]
    },
    {
      "cell_type": "code",
      "source": [
        "semdebito = compras.subtractByKey(debitos)\n",
        "semdebito.collect()"
      ],
      "metadata": {
        "id": "vHqZVFrwXd55",
        "outputId": "ed72d011-52bb-419a-c4d9-00a89eb06242",
        "colab": {
          "base_uri": "https://localhost:8080/"
        }
      },
      "execution_count": 46,
      "outputs": [
        {
          "output_type": "execute_result",
          "data": {
            "text/plain": [
              "[(4, 250), (5, 78), (3, 120)]"
            ]
          },
          "metadata": {},
          "execution_count": 46
        }
      ]
    },
    {
      "cell_type": "code",
      "source": [],
      "metadata": {
        "id": "6Lk5YKg-Xp4p"
      },
      "execution_count": null,
      "outputs": []
    }
  ]
}