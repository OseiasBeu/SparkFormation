{
  "nbformat": 4,
  "nbformat_minor": 0,
  "metadata": {
    "colab": {
      "provenance": [],
      "authorship_tag": "ABX9TyNO92+M9vJktO84tvnTnTac",
      "include_colab_link": true
    },
    "kernelspec": {
      "name": "python3",
      "display_name": "Python 3"
    },
    "language_info": {
      "name": "python"
    }
  },
  "cells": [
    {
      "cell_type": "markdown",
      "metadata": {
        "id": "view-in-github",
        "colab_type": "text"
      },
      "source": [
        "<a href=\"https://colab.research.google.com/github/OseiasBeu/SparkFormation/blob/main/SparkFormation.ipynb\" target=\"_parent\"><img src=\"https://colab.research.google.com/assets/colab-badge.svg\" alt=\"Open In Colab\"/></a>"
      ]
    },
    {
      "cell_type": "markdown",
      "source": [
        "#Configurando Ambiente"
      ],
      "metadata": {
        "id": "oGS_TelZnZmP"
      }
    },
    {
      "cell_type": "code",
      "execution_count": 1,
      "metadata": {
        "id": "Aw1x0eiK359P"
      },
      "outputs": [],
      "source": [
        "# Instalando o Java\n",
        "!apt-get install openjdk-8-jdk-headless -qq > /dev/null"
      ]
    },
    {
      "cell_type": "code",
      "source": [
        "# Fazendo download\n",
        "!wget -q https://archive.apache.org/dist/spark/spark-3.1.2/spark-3.1.2-bin-hadoop2.7.tgz\n",
        "\n",
        "# Descompactando os arquivos\n",
        "!tar xf spark-3.1.2-bin-hadoop2.7.tgz"
      ],
      "metadata": {
        "id": "kcnFnP3O4Y-c"
      },
      "execution_count": 2,
      "outputs": []
    },
    {
      "cell_type": "code",
      "source": [
        "# Importando a biblioteca os\n",
        "import os\n",
        "\n",
        "# Definindo a variável de ambiente do Java\n",
        "os.environ[\"JAVA_HOME\"] = \"/usr/lib/jvm/java-8-openjdk-amd64\"\n",
        "\n",
        "# Definindo a variável de ambiente do Spark\n",
        "os.environ[\"SPARK_HOME\"] = \"/content/spark-3.1.2-bin-hadoop2.7\""
      ],
      "metadata": {
        "id": "0zvWD5sV5F3J"
      },
      "execution_count": 3,
      "outputs": []
    },
    {
      "cell_type": "code",
      "source": [
        "# instalando a findspark\n",
        "!pip install -q findspark"
      ],
      "metadata": {
        "id": "TttGmU7L5IoG"
      },
      "execution_count": 4,
      "outputs": []
    },
    {
      "cell_type": "code",
      "source": [
        "# Importando a findspark\n",
        "import findspark\n",
        "\n",
        "# Iniciando o findspark\n",
        "findspark.init()"
      ],
      "metadata": {
        "id": "rNgJWx6J5NY1"
      },
      "execution_count": 5,
      "outputs": []
    },
    {
      "cell_type": "code",
      "source": [
        "# importando o pacote necessário para iniciar uma seção Spark\n",
        "from pyspark.sql import SparkSession\n",
        "\n",
        "# iniciando o spark context\n",
        "sc = SparkSession.builder.master('local[*]').config(\"spark.executor.memory\", \"2g\").config('spark.driver.memory', '1g').config('spark.driver.cores', '4').enableHiveSupport().getOrCreate()\n",
        "# ss = SparkSession.builder.master('local').getOrCreate()\n",
        "\n",
        "# Verificando se a sessão foi criada\n",
        "sc"
      ],
      "metadata": {
        "colab": {
          "base_uri": "https://localhost:8080/",
          "height": 0
        },
        "id": "e05gPpp75P38",
        "outputId": "125bdb8e-38c5-4fd5-8626-27fa634c7791"
      },
      "execution_count": 6,
      "outputs": [
        {
          "output_type": "execute_result",
          "data": {
            "text/plain": [
              "<pyspark.sql.session.SparkSession at 0x7fadbc1564c0>"
            ],
            "text/html": [
              "\n",
              "            <div>\n",
              "                <p><b>SparkSession - hive</b></p>\n",
              "                \n",
              "        <div>\n",
              "            <p><b>SparkContext</b></p>\n",
              "\n",
              "            <p><a href=\"http://976898b6c733:4040\">Spark UI</a></p>\n",
              "\n",
              "            <dl>\n",
              "              <dt>Version</dt>\n",
              "                <dd><code>v3.1.2</code></dd>\n",
              "              <dt>Master</dt>\n",
              "                <dd><code>local[*]</code></dd>\n",
              "              <dt>AppName</dt>\n",
              "                <dd><code>pyspark-shell</code></dd>\n",
              "            </dl>\n",
              "        </div>\n",
              "        \n",
              "            </div>\n",
              "        "
            ]
          },
          "metadata": {},
          "execution_count": 6
        }
      ]
    },
    {
      "cell_type": "code",
      "source": [
        "# importando os métodos com funções para transformações de variáveis\n",
        "from pyspark.sql.functions import *\n",
        "from pyspark.sql import *\n",
        "\n",
        "SQLContext(sparkContext=sc.sparkContext, sparkSession=sc)"
      ],
      "metadata": {
        "id": "mnQudSB05laP",
        "colab": {
          "base_uri": "https://localhost:8080/"
        },
        "outputId": "fd7003d7-0fc8-4f4a-e290-6eb03838286d"
      },
      "execution_count": 7,
      "outputs": [
        {
          "output_type": "execute_result",
          "data": {
            "text/plain": [
              "<pyspark.sql.context.SQLContext at 0x7faddb0c45e0>"
            ]
          },
          "metadata": {},
          "execution_count": 7
        }
      ]
    },
    {
      "cell_type": "code",
      "source": [
        "sc.sparkContext"
      ],
      "metadata": {
        "colab": {
          "base_uri": "https://localhost:8080/",
          "height": 0
        },
        "id": "yqU94_mT47Fq",
        "outputId": "ed425f09-804e-4fc8-a478-7269c87f9a84"
      },
      "execution_count": 8,
      "outputs": [
        {
          "output_type": "execute_result",
          "data": {
            "text/plain": [
              "<SparkContext master=local[*] appName=pyspark-shell>"
            ],
            "text/html": [
              "\n",
              "        <div>\n",
              "            <p><b>SparkContext</b></p>\n",
              "\n",
              "            <p><a href=\"http://976898b6c733:4040\">Spark UI</a></p>\n",
              "\n",
              "            <dl>\n",
              "              <dt>Version</dt>\n",
              "                <dd><code>v3.1.2</code></dd>\n",
              "              <dt>Master</dt>\n",
              "                <dd><code>local[*]</code></dd>\n",
              "              <dt>AppName</dt>\n",
              "                <dd><code>pyspark-shell</code></dd>\n",
              "            </dl>\n",
              "        </div>\n",
              "        "
            ]
          },
          "metadata": {},
          "execution_count": 8
        }
      ]
    },
    {
      "cell_type": "markdown",
      "source": [
        "# RDD's"
      ],
      "metadata": {
        "id": "Gtka1UNs11wf"
      }
    },
    {
      "cell_type": "code",
      "source": [
        "numeros = sc.sparkContext.parallelize([1,2,3,4,5,6,7,8,9,10])"
      ],
      "metadata": {
        "id": "l6k8H8WI11aD"
      },
      "execution_count": 9,
      "outputs": []
    },
    {
      "cell_type": "code",
      "source": [
        "numeros.take(5)"
      ],
      "metadata": {
        "colab": {
          "base_uri": "https://localhost:8080/"
        },
        "id": "hfAaLkWX5t7E",
        "outputId": "0e644ffd-4abd-48fb-c0a2-8a0b8999a04d"
      },
      "execution_count": 10,
      "outputs": [
        {
          "output_type": "execute_result",
          "data": {
            "text/plain": [
              "[1, 2, 3, 4, 5]"
            ]
          },
          "metadata": {},
          "execution_count": 10
        }
      ]
    },
    {
      "cell_type": "code",
      "source": [
        "numeros.top(5)"
      ],
      "metadata": {
        "colab": {
          "base_uri": "https://localhost:8080/"
        },
        "id": "ZshiZQv66C3r",
        "outputId": "d76cdad6-3ea8-4590-d36f-a48e53b813a2"
      },
      "execution_count": 11,
      "outputs": [
        {
          "output_type": "execute_result",
          "data": {
            "text/plain": [
              "[10, 9, 8, 7, 6]"
            ]
          },
          "metadata": {},
          "execution_count": 11
        }
      ]
    },
    {
      "cell_type": "code",
      "source": [
        "numeros.collect()"
      ],
      "metadata": {
        "colab": {
          "base_uri": "https://localhost:8080/"
        },
        "id": "tJrkjLUq6E9R",
        "outputId": "39149f6c-4ba0-45aa-b8a8-ed2642d4c4a8"
      },
      "execution_count": 12,
      "outputs": [
        {
          "output_type": "execute_result",
          "data": {
            "text/plain": [
              "[1, 2, 3, 4, 5, 6, 7, 8, 9, 10]"
            ]
          },
          "metadata": {},
          "execution_count": 12
        }
      ]
    },
    {
      "cell_type": "markdown",
      "source": [
        "## Funções"
      ],
      "metadata": {
        "id": "5VIQMQ_dWQ_h"
      }
    },
    {
      "cell_type": "code",
      "source": [
        "numeros.count()"
      ],
      "metadata": {
        "colab": {
          "base_uri": "https://localhost:8080/"
        },
        "id": "iTM3ViEV6GPS",
        "outputId": "63175318-257b-4141-d992-500d2dc9ea63"
      },
      "execution_count": 13,
      "outputs": [
        {
          "output_type": "execute_result",
          "data": {
            "text/plain": [
              "10"
            ]
          },
          "metadata": {},
          "execution_count": 13
        }
      ]
    },
    {
      "cell_type": "code",
      "source": [
        "numeros.mean()"
      ],
      "metadata": {
        "colab": {
          "base_uri": "https://localhost:8080/"
        },
        "id": "67_jWFtk6JKS",
        "outputId": "5056a8fd-9ae5-4aa6-985e-cab0b1513b4d"
      },
      "execution_count": 14,
      "outputs": [
        {
          "output_type": "execute_result",
          "data": {
            "text/plain": [
              "5.5"
            ]
          },
          "metadata": {},
          "execution_count": 14
        }
      ]
    },
    {
      "cell_type": "code",
      "source": [
        "numeros.max()"
      ],
      "metadata": {
        "colab": {
          "base_uri": "https://localhost:8080/"
        },
        "id": "zItY9xQa6LoB",
        "outputId": "d5a0fecf-9535-4354-8b2e-6fd7fe80bf89"
      },
      "execution_count": 15,
      "outputs": [
        {
          "output_type": "execute_result",
          "data": {
            "text/plain": [
              "10"
            ]
          },
          "metadata": {},
          "execution_count": 15
        }
      ]
    },
    {
      "cell_type": "code",
      "source": [
        "numeros.min()"
      ],
      "metadata": {
        "colab": {
          "base_uri": "https://localhost:8080/"
        },
        "id": "OTEoYG2z6Mja",
        "outputId": "7b4c9134-8cf7-4d6c-aa31-2ca48e781095"
      },
      "execution_count": 16,
      "outputs": [
        {
          "output_type": "execute_result",
          "data": {
            "text/plain": [
              "1"
            ]
          },
          "metadata": {},
          "execution_count": 16
        }
      ]
    },
    {
      "cell_type": "code",
      "source": [
        "numeros.stdev()"
      ],
      "metadata": {
        "colab": {
          "base_uri": "https://localhost:8080/"
        },
        "id": "0TyGtz-O6N2i",
        "outputId": "bedd0176-1cb7-437b-c494-7e9fd45c54d8"
      },
      "execution_count": 17,
      "outputs": [
        {
          "output_type": "execute_result",
          "data": {
            "text/plain": [
              "2.8722813232690143"
            ]
          },
          "metadata": {},
          "execution_count": 17
        }
      ]
    },
    {
      "cell_type": "code",
      "source": [
        "numeros.sum()"
      ],
      "metadata": {
        "colab": {
          "base_uri": "https://localhost:8080/"
        },
        "id": "HcH1kU9e6PJc",
        "outputId": "5c554fc5-9849-41f9-cfa5-46f1a7415db0"
      },
      "execution_count": 18,
      "outputs": [
        {
          "output_type": "execute_result",
          "data": {
            "text/plain": [
              "55"
            ]
          },
          "metadata": {},
          "execution_count": 18
        }
      ]
    },
    {
      "cell_type": "markdown",
      "source": [
        "## Filtro"
      ],
      "metadata": {
        "id": "0BEXmJpvWTMm"
      }
    },
    {
      "cell_type": "code",
      "source": [
        "filtro = numeros.filter(lambda filtro: filtro > 2)"
      ],
      "metadata": {
        "id": "b-ziEGTy6Wkc"
      },
      "execution_count": 19,
      "outputs": []
    },
    {
      "cell_type": "code",
      "source": [
        "filtro.collect()"
      ],
      "metadata": {
        "colab": {
          "base_uri": "https://localhost:8080/"
        },
        "id": "fv2IuVf16h8R",
        "outputId": "ce889ab5-b4af-4089-e9fa-8c98ea6cb407"
      },
      "execution_count": 20,
      "outputs": [
        {
          "output_type": "execute_result",
          "data": {
            "text/plain": [
              "[3, 4, 5, 6, 7, 8, 9, 10]"
            ]
          },
          "metadata": {},
          "execution_count": 20
        }
      ]
    },
    {
      "cell_type": "code",
      "source": [
        "amostra = numeros.sample(True, 0.5,1)"
      ],
      "metadata": {
        "id": "IuUKQjfv6kD5"
      },
      "execution_count": 21,
      "outputs": []
    },
    {
      "cell_type": "code",
      "source": [
        "amostra.collect()"
      ],
      "metadata": {
        "colab": {
          "base_uri": "https://localhost:8080/"
        },
        "id": "47yzXaGl6pbB",
        "outputId": "cbac82e9-4075-463b-8002-0b94e1c730e9"
      },
      "execution_count": 22,
      "outputs": [
        {
          "output_type": "execute_result",
          "data": {
            "text/plain": [
              "[2, 3, 4, 5, 8, 10, 10, 10, 10]"
            ]
          },
          "metadata": {},
          "execution_count": 22
        }
      ]
    },
    {
      "cell_type": "code",
      "source": [
        "mapa = numeros.map(lambda mapa: mapa *2)"
      ],
      "metadata": {
        "id": "Iz1TO2O06qsL"
      },
      "execution_count": 23,
      "outputs": []
    },
    {
      "cell_type": "code",
      "source": [
        "mapa.collect()"
      ],
      "metadata": {
        "colab": {
          "base_uri": "https://localhost:8080/"
        },
        "id": "2Dx_Wl5G63Lc",
        "outputId": "d9c9b463-6539-4b21-d469-9c210001159a"
      },
      "execution_count": 24,
      "outputs": [
        {
          "output_type": "execute_result",
          "data": {
            "text/plain": [
              "[2, 4, 6, 8, 10, 12, 14, 16, 18, 20]"
            ]
          },
          "metadata": {},
          "execution_count": 24
        }
      ]
    },
    {
      "cell_type": "code",
      "source": [
        "numeros.collect()"
      ],
      "metadata": {
        "colab": {
          "base_uri": "https://localhost:8080/"
        },
        "id": "Jt0MwtI864W9",
        "outputId": "963e812e-21b2-4e06-a855-a3e0ba0bf5d6"
      },
      "execution_count": 25,
      "outputs": [
        {
          "output_type": "execute_result",
          "data": {
            "text/plain": [
              "[1, 2, 3, 4, 5, 6, 7, 8, 9, 10]"
            ]
          },
          "metadata": {},
          "execution_count": 25
        }
      ]
    },
    {
      "cell_type": "markdown",
      "source": [
        "## Join's"
      ],
      "metadata": {
        "id": "KcSgMsZwWWy-"
      }
    },
    {
      "cell_type": "code",
      "source": [
        "numeros2 = sc.sparkContext.parallelize([6,7,8,9,10])"
      ],
      "metadata": {
        "id": "_CgoMQT068Da"
      },
      "execution_count": 26,
      "outputs": []
    },
    {
      "cell_type": "code",
      "source": [
        "uniao = numeros.union(numeros2)"
      ],
      "metadata": {
        "id": "ulxgnBEA7F4U"
      },
      "execution_count": 27,
      "outputs": []
    },
    {
      "cell_type": "code",
      "source": [
        "uniao.collect()"
      ],
      "metadata": {
        "colab": {
          "base_uri": "https://localhost:8080/"
        },
        "id": "woKycdr87K_s",
        "outputId": "7c6062d2-e88b-48c2-b400-e5627ac8580d"
      },
      "execution_count": 28,
      "outputs": [
        {
          "output_type": "execute_result",
          "data": {
            "text/plain": [
              "[1, 2, 3, 4, 5, 6, 7, 8, 9, 10, 6, 7, 8, 9, 10]"
            ]
          },
          "metadata": {},
          "execution_count": 28
        }
      ]
    },
    {
      "cell_type": "code",
      "source": [
        "interseccao = numeros.intersection(numeros2)"
      ],
      "metadata": {
        "id": "udX0Milw7L_4"
      },
      "execution_count": 29,
      "outputs": []
    },
    {
      "cell_type": "code",
      "source": [
        "interseccao.collect()"
      ],
      "metadata": {
        "colab": {
          "base_uri": "https://localhost:8080/"
        },
        "id": "POiy1IRO7S81",
        "outputId": "7def215f-39e0-494a-ddf3-d7343e013ec8"
      },
      "execution_count": 30,
      "outputs": [
        {
          "output_type": "execute_result",
          "data": {
            "text/plain": [
              "[8, 9, 6, 10, 7]"
            ]
          },
          "metadata": {},
          "execution_count": 30
        }
      ]
    },
    {
      "cell_type": "code",
      "source": [
        "subtrai = numeros.subtract(numeros2)"
      ],
      "metadata": {
        "id": "x6Smus8z7W7a"
      },
      "execution_count": 31,
      "outputs": []
    },
    {
      "cell_type": "code",
      "source": [
        "subtrai.collect()"
      ],
      "metadata": {
        "colab": {
          "base_uri": "https://localhost:8080/"
        },
        "id": "czKmC6J07hSb",
        "outputId": "0bbbe37d-bec1-4265-d19c-65dd808824a1"
      },
      "execution_count": 32,
      "outputs": [
        {
          "output_type": "execute_result",
          "data": {
            "text/plain": [
              "[4, 1, 5, 2, 3]"
            ]
          },
          "metadata": {},
          "execution_count": 32
        }
      ]
    },
    {
      "cell_type": "code",
      "source": [
        "cartesiano = numeros.cartesian(numeros2)"
      ],
      "metadata": {
        "id": "gNBudrqw7ize"
      },
      "execution_count": 33,
      "outputs": []
    },
    {
      "cell_type": "code",
      "source": [
        "cartesiano.collect()"
      ],
      "metadata": {
        "colab": {
          "base_uri": "https://localhost:8080/"
        },
        "id": "zkHIwrbm7onz",
        "outputId": "82a7a31d-8fa2-45e5-85b5-3f2ba4093c0b"
      },
      "execution_count": 34,
      "outputs": [
        {
          "output_type": "execute_result",
          "data": {
            "text/plain": [
              "[(1, 6),\n",
              " (1, 7),\n",
              " (2, 6),\n",
              " (2, 7),\n",
              " (3, 6),\n",
              " (3, 7),\n",
              " (4, 6),\n",
              " (4, 7),\n",
              " (5, 6),\n",
              " (5, 7),\n",
              " (1, 8),\n",
              " (1, 9),\n",
              " (2, 8),\n",
              " (2, 9),\n",
              " (3, 8),\n",
              " (3, 9),\n",
              " (4, 8),\n",
              " (4, 9),\n",
              " (5, 8),\n",
              " (5, 9),\n",
              " (1, 10),\n",
              " (2, 10),\n",
              " (3, 10),\n",
              " (4, 10),\n",
              " (5, 10),\n",
              " (6, 6),\n",
              " (6, 7),\n",
              " (7, 6),\n",
              " (7, 7),\n",
              " (8, 6),\n",
              " (8, 7),\n",
              " (9, 6),\n",
              " (9, 7),\n",
              " (10, 6),\n",
              " (10, 7),\n",
              " (6, 8),\n",
              " (6, 9),\n",
              " (7, 8),\n",
              " (7, 9),\n",
              " (8, 8),\n",
              " (8, 9),\n",
              " (9, 8),\n",
              " (9, 9),\n",
              " (10, 8),\n",
              " (10, 9),\n",
              " (6, 10),\n",
              " (7, 10),\n",
              " (8, 10),\n",
              " (9, 10),\n",
              " (10, 10)]"
            ]
          },
          "metadata": {},
          "execution_count": 34
        }
      ]
    },
    {
      "cell_type": "code",
      "source": [
        "cartesiano.countByValue()"
      ],
      "metadata": {
        "colab": {
          "base_uri": "https://localhost:8080/"
        },
        "id": "zXrCJeAi7pvr",
        "outputId": "2cbe80cc-d6d9-4fb9-f127-212f74e36dde"
      },
      "execution_count": 35,
      "outputs": [
        {
          "output_type": "execute_result",
          "data": {
            "text/plain": [
              "defaultdict(int,\n",
              "            {(1, 6): 1,\n",
              "             (1, 7): 1,\n",
              "             (2, 6): 1,\n",
              "             (2, 7): 1,\n",
              "             (3, 6): 1,\n",
              "             (3, 7): 1,\n",
              "             (4, 6): 1,\n",
              "             (4, 7): 1,\n",
              "             (5, 6): 1,\n",
              "             (5, 7): 1,\n",
              "             (1, 8): 1,\n",
              "             (1, 9): 1,\n",
              "             (2, 8): 1,\n",
              "             (2, 9): 1,\n",
              "             (3, 8): 1,\n",
              "             (3, 9): 1,\n",
              "             (4, 8): 1,\n",
              "             (4, 9): 1,\n",
              "             (5, 8): 1,\n",
              "             (5, 9): 1,\n",
              "             (1, 10): 1,\n",
              "             (2, 10): 1,\n",
              "             (3, 10): 1,\n",
              "             (4, 10): 1,\n",
              "             (5, 10): 1,\n",
              "             (6, 6): 1,\n",
              "             (6, 7): 1,\n",
              "             (7, 6): 1,\n",
              "             (7, 7): 1,\n",
              "             (8, 6): 1,\n",
              "             (8, 7): 1,\n",
              "             (9, 6): 1,\n",
              "             (9, 7): 1,\n",
              "             (10, 6): 1,\n",
              "             (10, 7): 1,\n",
              "             (6, 8): 1,\n",
              "             (6, 9): 1,\n",
              "             (7, 8): 1,\n",
              "             (7, 9): 1,\n",
              "             (8, 8): 1,\n",
              "             (8, 9): 1,\n",
              "             (9, 8): 1,\n",
              "             (9, 9): 1,\n",
              "             (10, 8): 1,\n",
              "             (10, 9): 1,\n",
              "             (6, 10): 1,\n",
              "             (7, 10): 1,\n",
              "             (8, 10): 1,\n",
              "             (9, 10): 1,\n",
              "             (10, 10): 1})"
            ]
          },
          "metadata": {},
          "execution_count": 35
        }
      ]
    },
    {
      "cell_type": "markdown",
      "source": [
        "## Compras"
      ],
      "metadata": {
        "id": "AGNQXK7pWL59"
      }
    },
    {
      "cell_type": "code",
      "source": [
        "compras = sc.sparkContext.parallelize([(1,200),(2,300),(3,120),(4,250),(5,78)])"
      ],
      "metadata": {
        "id": "eFv64f207uoN"
      },
      "execution_count": 36,
      "outputs": []
    },
    {
      "cell_type": "code",
      "source": [
        "chaves = compras.keys()\n",
        "chaves.collect()"
      ],
      "metadata": {
        "id": "n4uFe1DUWr_K",
        "outputId": "01af18fa-1e5f-4e52-8382-520a9fc9170d",
        "colab": {
          "base_uri": "https://localhost:8080/"
        }
      },
      "execution_count": 37,
      "outputs": [
        {
          "output_type": "execute_result",
          "data": {
            "text/plain": [
              "[1, 2, 3, 4, 5]"
            ]
          },
          "metadata": {},
          "execution_count": 37
        }
      ]
    },
    {
      "cell_type": "code",
      "source": [
        "valores = compras.values()\n",
        "valores.collect()"
      ],
      "metadata": {
        "id": "wfqPfssJW2cR",
        "outputId": "9742c592-5331-4f13-be32-f0035680a24c",
        "colab": {
          "base_uri": "https://localhost:8080/"
        }
      },
      "execution_count": 38,
      "outputs": [
        {
          "output_type": "execute_result",
          "data": {
            "text/plain": [
              "[200, 300, 120, 250, 78]"
            ]
          },
          "metadata": {},
          "execution_count": 38
        }
      ]
    },
    {
      "cell_type": "code",
      "source": [
        "compras.countByKey()"
      ],
      "metadata": {
        "id": "gKmf_yqcW9A5",
        "outputId": "95ed25d0-370b-49b4-f6dd-1464c23e837e",
        "colab": {
          "base_uri": "https://localhost:8080/"
        }
      },
      "execution_count": 39,
      "outputs": [
        {
          "output_type": "execute_result",
          "data": {
            "text/plain": [
              "defaultdict(int, {1: 1, 2: 1, 3: 1, 4: 1, 5: 1})"
            ]
          },
          "metadata": {},
          "execution_count": 39
        }
      ]
    },
    {
      "cell_type": "code",
      "source": [
        "soma = compras.mapValues(lambda soma: soma + 1)\n",
        "soma.collect()"
      ],
      "metadata": {
        "id": "N1Kd2COEXD2w",
        "outputId": "33a78bc5-653c-4d0a-f712-112bcb6a3004",
        "colab": {
          "base_uri": "https://localhost:8080/"
        }
      },
      "execution_count": 40,
      "outputs": [
        {
          "output_type": "execute_result",
          "data": {
            "text/plain": [
              "[(1, 201), (2, 301), (3, 121), (4, 251), (5, 79)]"
            ]
          },
          "metadata": {},
          "execution_count": 40
        }
      ]
    },
    {
      "cell_type": "code",
      "source": [
        "compras.collect()"
      ],
      "metadata": {
        "id": "N5NtVJwJXNEB",
        "outputId": "595bcf99-61ef-4677-d5b0-01603a61c895",
        "colab": {
          "base_uri": "https://localhost:8080/"
        }
      },
      "execution_count": 41,
      "outputs": [
        {
          "output_type": "execute_result",
          "data": {
            "text/plain": [
              "[(1, 200), (2, 300), (3, 120), (4, 250), (5, 78)]"
            ]
          },
          "metadata": {},
          "execution_count": 41
        }
      ]
    },
    {
      "cell_type": "code",
      "source": [
        "debitos = sc.sparkContext.parallelize([(1,20),(2,300)])"
      ],
      "metadata": {
        "id": "_MUzl3t7XQDy"
      },
      "execution_count": 42,
      "outputs": []
    },
    {
      "cell_type": "code",
      "source": [
        "resultado = compras.join(debitos)\n",
        "resultado.collect()"
      ],
      "metadata": {
        "id": "fdZuM8KKXZcI",
        "outputId": "54a3dadf-bd35-4f9d-cb09-f834f460245f",
        "colab": {
          "base_uri": "https://localhost:8080/"
        }
      },
      "execution_count": 43,
      "outputs": [
        {
          "output_type": "execute_result",
          "data": {
            "text/plain": [
              "[(1, (200, 20)), (2, (300, 300))]"
            ]
          },
          "metadata": {},
          "execution_count": 43
        }
      ]
    },
    {
      "cell_type": "code",
      "source": [
        "semdebito = compras.subtractByKey(debitos)\n",
        "semdebito.collect()"
      ],
      "metadata": {
        "id": "vHqZVFrwXd55",
        "outputId": "049addd3-2732-4996-8deb-7fce342f6363",
        "colab": {
          "base_uri": "https://localhost:8080/"
        }
      },
      "execution_count": 44,
      "outputs": [
        {
          "output_type": "execute_result",
          "data": {
            "text/plain": [
              "[(4, 250), (5, 78), (3, 120)]"
            ]
          },
          "metadata": {},
          "execution_count": 44
        }
      ]
    },
    {
      "cell_type": "markdown",
      "source": [
        "## Dataframes"
      ],
      "metadata": {
        "id": "1w7Aey-x8KLZ"
      }
    },
    {
      "cell_type": "code",
      "source": [
        "df1 = sc.createDataFrame([(\"Pedro\",10),(\"Maria\",20),(\"José\",40)])"
      ],
      "metadata": {
        "id": "6Lk5YKg-Xp4p"
      },
      "execution_count": 45,
      "outputs": []
    },
    {
      "cell_type": "code",
      "source": [
        "df1.show()"
      ],
      "metadata": {
        "id": "IA-Wa0Pl8hYb",
        "outputId": "c2e62fc0-2c1b-48a2-e07a-941c6dbd7763",
        "colab": {
          "base_uri": "https://localhost:8080/"
        }
      },
      "execution_count": 46,
      "outputs": [
        {
          "output_type": "stream",
          "name": "stdout",
          "text": [
            "+-----+---+\n",
            "|   _1| _2|\n",
            "+-----+---+\n",
            "|Pedro| 10|\n",
            "|Maria| 20|\n",
            "| José| 40|\n",
            "+-----+---+\n",
            "\n"
          ]
        }
      ]
    },
    {
      "cell_type": "code",
      "source": [
        "schema = \"Id INT, Nome STRING\"\n",
        "dados =  [[1,\"Pedro\"],[2, \"Maria\"]]\n",
        "df2 = sc.createDataFrame(dados, schema)"
      ],
      "metadata": {
        "id": "jhoeVnMz8kt5"
      },
      "execution_count": 47,
      "outputs": []
    },
    {
      "cell_type": "code",
      "source": [
        "df2.show()"
      ],
      "metadata": {
        "id": "vqsy6Y8K848C",
        "outputId": "c3071d9a-45c7-46c1-e228-755e2efd2276",
        "colab": {
          "base_uri": "https://localhost:8080/"
        }
      },
      "execution_count": 48,
      "outputs": [
        {
          "output_type": "stream",
          "name": "stdout",
          "text": [
            "+---+-----+\n",
            "| Id| Nome|\n",
            "+---+-----+\n",
            "|  1|Pedro|\n",
            "|  2|Maria|\n",
            "+---+-----+\n",
            "\n"
          ]
        }
      ]
    },
    {
      "cell_type": "code",
      "source": [
        "from pyspark.sql.functions import sum"
      ],
      "metadata": {
        "id": "a9ws3s7a8504"
      },
      "execution_count": 49,
      "outputs": []
    },
    {
      "cell_type": "code",
      "source": [
        "schema2 = \"Produtos STRING, Vendas INT\"\n",
        "vendas = [[\"Caneta\",10],[\"Lápis\",20],[\"Caneta\",40]]"
      ],
      "metadata": {
        "id": "Jd_I-bkT9DV4"
      },
      "execution_count": 50,
      "outputs": []
    },
    {
      "cell_type": "code",
      "source": [
        "df3 = sc.createDataFrame(vendas,schema2)\n",
        "df3.show()"
      ],
      "metadata": {
        "id": "8zmh4rAL9QFI",
        "outputId": "301305f1-b857-4c38-d246-bafeec07f2b3",
        "colab": {
          "base_uri": "https://localhost:8080/"
        }
      },
      "execution_count": 51,
      "outputs": [
        {
          "output_type": "stream",
          "name": "stdout",
          "text": [
            "+--------+------+\n",
            "|Produtos|Vendas|\n",
            "+--------+------+\n",
            "|  Caneta|    10|\n",
            "|   Lápis|    20|\n",
            "|  Caneta|    40|\n",
            "+--------+------+\n",
            "\n"
          ]
        }
      ]
    },
    {
      "cell_type": "code",
      "source": [
        "agrupado = df3.groupBy('Produtos').agg(sum(\"Vendas\"))\n",
        "agrupado.show()"
      ],
      "metadata": {
        "id": "HNOPCXzH9V0H",
        "outputId": "32bae61f-e389-4f97-caa1-704eb7b1093d",
        "colab": {
          "base_uri": "https://localhost:8080/"
        }
      },
      "execution_count": 52,
      "outputs": [
        {
          "output_type": "stream",
          "name": "stdout",
          "text": [
            "+--------+-----------+\n",
            "|Produtos|sum(Vendas)|\n",
            "+--------+-----------+\n",
            "|  Caneta|         50|\n",
            "|   Lápis|         20|\n",
            "+--------+-----------+\n",
            "\n"
          ]
        }
      ]
    },
    {
      "cell_type": "code",
      "source": [
        "df3.groupBy('Produtos').agg(sum(\"Vendas\")).show()"
      ],
      "metadata": {
        "id": "tO998MiS9fq3",
        "outputId": "2d786e84-b06d-4b1f-bcf9-7a0733353413",
        "colab": {
          "base_uri": "https://localhost:8080/"
        }
      },
      "execution_count": 53,
      "outputs": [
        {
          "output_type": "stream",
          "name": "stdout",
          "text": [
            "+--------+-----------+\n",
            "|Produtos|sum(Vendas)|\n",
            "+--------+-----------+\n",
            "|  Caneta|         50|\n",
            "|   Lápis|         20|\n",
            "+--------+-----------+\n",
            "\n"
          ]
        }
      ]
    },
    {
      "cell_type": "code",
      "source": [
        "df3.select('Produtos').show()"
      ],
      "metadata": {
        "id": "DCoobwS69lAA",
        "outputId": "8df7d406-b666-458d-99f6-ffc6d65bd5e6",
        "colab": {
          "base_uri": "https://localhost:8080/"
        }
      },
      "execution_count": 54,
      "outputs": [
        {
          "output_type": "stream",
          "name": "stdout",
          "text": [
            "+--------+\n",
            "|Produtos|\n",
            "+--------+\n",
            "|  Caneta|\n",
            "|   Lápis|\n",
            "|  Caneta|\n",
            "+--------+\n",
            "\n"
          ]
        }
      ]
    },
    {
      "cell_type": "code",
      "source": [
        "df3.select('Produtos','Vendas').show()"
      ],
      "metadata": {
        "id": "a8m3OoQl9re3",
        "outputId": "bf7722cd-d7f1-4c35-d69e-3f23f6b6c111",
        "colab": {
          "base_uri": "https://localhost:8080/"
        }
      },
      "execution_count": 55,
      "outputs": [
        {
          "output_type": "stream",
          "name": "stdout",
          "text": [
            "+--------+------+\n",
            "|Produtos|Vendas|\n",
            "+--------+------+\n",
            "|  Caneta|    10|\n",
            "|   Lápis|    20|\n",
            "|  Caneta|    40|\n",
            "+--------+------+\n",
            "\n"
          ]
        }
      ]
    },
    {
      "cell_type": "code",
      "source": [
        "from pyspark.sql.functions import expr"
      ],
      "metadata": {
        "id": "SpJa7SQi9uxH"
      },
      "execution_count": 56,
      "outputs": []
    },
    {
      "cell_type": "code",
      "source": [
        "df3.select('Produtos','Vendas',expr('Vendas * 0.2')).show()"
      ],
      "metadata": {
        "id": "jQH9aB8U9zmf",
        "outputId": "0eee245d-b201-4d72-d923-d38ba07ba9fe",
        "colab": {
          "base_uri": "https://localhost:8080/"
        }
      },
      "execution_count": 57,
      "outputs": [
        {
          "output_type": "stream",
          "name": "stdout",
          "text": [
            "+--------+------+--------------+\n",
            "|Produtos|Vendas|(Vendas * 0.2)|\n",
            "+--------+------+--------------+\n",
            "|  Caneta|    10|           2.0|\n",
            "|   Lápis|    20|           4.0|\n",
            "|  Caneta|    40|           8.0|\n",
            "+--------+------+--------------+\n",
            "\n"
          ]
        }
      ]
    },
    {
      "cell_type": "code",
      "source": [
        "df3.columns"
      ],
      "metadata": {
        "id": "KtSe_-qO97Dn",
        "outputId": "a2136e94-3859-4a7d-b24a-bd0cff88b234",
        "colab": {
          "base_uri": "https://localhost:8080/"
        }
      },
      "execution_count": 58,
      "outputs": [
        {
          "output_type": "execute_result",
          "data": {
            "text/plain": [
              "['Produtos', 'Vendas']"
            ]
          },
          "metadata": {},
          "execution_count": 58
        }
      ]
    },
    {
      "cell_type": "code",
      "source": [
        "from pyspark.sql.types import *"
      ],
      "metadata": {
        "id": "Fm5T3JGN-A7V"
      },
      "execution_count": 59,
      "outputs": []
    },
    {
      "cell_type": "code",
      "source": [
        "arqschmema = \"id INT, nome STRING, status STRING, cidade STRING, vendas INT, data STRING\""
      ],
      "metadata": {
        "id": "5FPKOKRr_e6e"
      },
      "execution_count": 60,
      "outputs": []
    },
    {
      "cell_type": "code",
      "source": [
        "!wget 'https://raw.githubusercontent.com/OseiasBeu/SparkFormation/main/databases/despachantes.csv'"
      ],
      "metadata": {
        "id": "NHgLQsSRBUXA",
        "outputId": "6952ccd6-ec06-4439-94b0-d46d8e36110e",
        "colab": {
          "base_uri": "https://localhost:8080/"
        }
      },
      "execution_count": 61,
      "outputs": [
        {
          "output_type": "stream",
          "name": "stdout",
          "text": [
            "--2023-04-06 18:29:55--  https://raw.githubusercontent.com/OseiasBeu/SparkFormation/main/databases/despachantes.csv\n",
            "Resolving raw.githubusercontent.com (raw.githubusercontent.com)... 185.199.108.133, 185.199.109.133, 185.199.110.133, ...\n",
            "Connecting to raw.githubusercontent.com (raw.githubusercontent.com)|185.199.108.133|:443... connected.\n",
            "HTTP request sent, awaiting response... 200 OK\n",
            "Length: 529 [text/plain]\n",
            "Saving to: ‘despachantes.csv’\n",
            "\n",
            "despachantes.csv    100%[===================>]     529  --.-KB/s    in 0s      \n",
            "\n",
            "2023-04-06 18:29:56 (24.3 MB/s) - ‘despachantes.csv’ saved [529/529]\n",
            "\n"
          ]
        }
      ]
    },
    {
      "cell_type": "code",
      "source": [
        "despachantes = sc.read.csv('/content/despachantes.csv',header=False, schema = arqschmema)"
      ],
      "metadata": {
        "id": "KZRZWfY3_oTU"
      },
      "execution_count": 62,
      "outputs": []
    },
    {
      "cell_type": "code",
      "source": [
        "despachantes.show()"
      ],
      "metadata": {
        "id": "t7tovqmZA1mD",
        "outputId": "5eb06090-d8c9-4f0c-8377-cc3dedb2a360",
        "colab": {
          "base_uri": "https://localhost:8080/"
        }
      },
      "execution_count": 63,
      "outputs": [
        {
          "output_type": "stream",
          "name": "stdout",
          "text": [
            "+---+-------------------+------+-------------+------+----------+\n",
            "| id|               nome|status|       cidade|vendas|      data|\n",
            "+---+-------------------+------+-------------+------+----------+\n",
            "|  1|   Carminda Pestana| Ativo|  Santa Maria|    23|2020-08-11|\n",
            "|  2|    Deolinda Vilela| Ativo|Novo Hamburgo|    34|2020-03-05|\n",
            "|  3|   Emídio Dornelles| Ativo| Porto Alegre|    34|2020-02-05|\n",
            "|  4|Felisbela Dornelles| Ativo| Porto Alegre|    36|2020-02-05|\n",
            "|  5|     Graça Ornellas| Ativo| Porto Alegre|    12|2020-02-05|\n",
            "|  6|   Matilde Rebouças| Ativo| Porto Alegre|    22|2019-01-05|\n",
            "|  7|    Noêmia   Orriça| Ativo|  Santa Maria|    45|2019-10-05|\n",
            "|  8|      Roque Vásquez| Ativo| Porto Alegre|    65|2020-03-05|\n",
            "|  9|      Uriel Queiroz| Ativo| Porto Alegre|    54|2018-05-05|\n",
            "| 10|   Viviana Sequeira| Ativo| Porto Alegre|     0|2020-09-05|\n",
            "+---+-------------------+------+-------------+------+----------+\n",
            "\n"
          ]
        }
      ]
    },
    {
      "cell_type": "code",
      "source": [
        "desp_autoschema = sc.read.load('/content/despachantes.csv', header=False, format='csv',sep=',', inferSchema=True)"
      ],
      "metadata": {
        "id": "GR5ZkpXmBcTD"
      },
      "execution_count": 64,
      "outputs": []
    },
    {
      "cell_type": "code",
      "source": [
        "desp_autoschema.show()"
      ],
      "metadata": {
        "id": "BpbR5IRGCAob",
        "outputId": "3bb1f969-de51-4596-832a-76ea41e0eeb2",
        "colab": {
          "base_uri": "https://localhost:8080/"
        }
      },
      "execution_count": 65,
      "outputs": [
        {
          "output_type": "stream",
          "name": "stdout",
          "text": [
            "+---+-------------------+-----+-------------+---+----------+\n",
            "|_c0|                _c1|  _c2|          _c3|_c4|       _c5|\n",
            "+---+-------------------+-----+-------------+---+----------+\n",
            "|  1|   Carminda Pestana|Ativo|  Santa Maria| 23|2020-08-11|\n",
            "|  2|    Deolinda Vilela|Ativo|Novo Hamburgo| 34|2020-03-05|\n",
            "|  3|   Emídio Dornelles|Ativo| Porto Alegre| 34|2020-02-05|\n",
            "|  4|Felisbela Dornelles|Ativo| Porto Alegre| 36|2020-02-05|\n",
            "|  5|     Graça Ornellas|Ativo| Porto Alegre| 12|2020-02-05|\n",
            "|  6|   Matilde Rebouças|Ativo| Porto Alegre| 22|2019-01-05|\n",
            "|  7|    Noêmia   Orriça|Ativo|  Santa Maria| 45|2019-10-05|\n",
            "|  8|      Roque Vásquez|Ativo| Porto Alegre| 65|2020-03-05|\n",
            "|  9|      Uriel Queiroz|Ativo| Porto Alegre| 54|2018-05-05|\n",
            "| 10|   Viviana Sequeira|Ativo| Porto Alegre|  0|2020-09-05|\n",
            "+---+-------------------+-----+-------------+---+----------+\n",
            "\n"
          ]
        }
      ]
    },
    {
      "cell_type": "code",
      "source": [
        "despachantes.schema"
      ],
      "metadata": {
        "id": "9YQ7gJ8YCCgy",
        "outputId": "1c95a2d6-2c2e-4752-9bd4-6e3899eff641",
        "colab": {
          "base_uri": "https://localhost:8080/"
        }
      },
      "execution_count": 66,
      "outputs": [
        {
          "output_type": "execute_result",
          "data": {
            "text/plain": [
              "StructType(List(StructField(id,IntegerType,true),StructField(nome,StringType,true),StructField(status,StringType,true),StructField(cidade,StringType,true),StructField(vendas,IntegerType,true),StructField(data,StringType,true)))"
            ]
          },
          "metadata": {},
          "execution_count": 66
        }
      ]
    },
    {
      "cell_type": "code",
      "source": [
        "desp_autoschema.schema"
      ],
      "metadata": {
        "id": "jmN6y44PCKIb",
        "outputId": "6cb6aecf-e604-4a6b-c136-3b247d704b5f",
        "colab": {
          "base_uri": "https://localhost:8080/"
        }
      },
      "execution_count": 67,
      "outputs": [
        {
          "output_type": "execute_result",
          "data": {
            "text/plain": [
              "StructType(List(StructField(_c0,IntegerType,true),StructField(_c1,StringType,true),StructField(_c2,StringType,true),StructField(_c3,StringType,true),StructField(_c4,IntegerType,true),StructField(_c5,StringType,true)))"
            ]
          },
          "metadata": {},
          "execution_count": 67
        }
      ]
    },
    {
      "cell_type": "code",
      "source": [
        "from pyspark.sql import functions as Func"
      ],
      "metadata": {
        "id": "YU9KR78wCLvL"
      },
      "execution_count": 68,
      "outputs": []
    },
    {
      "cell_type": "code",
      "source": [
        "despachantes.select('id','nome','vendas').where(Func.col('vendas') > 20).show()"
      ],
      "metadata": {
        "id": "LYxPba3W-3YT",
        "outputId": "639e3a4d-3e5f-4f60-c92b-153f789782cc",
        "colab": {
          "base_uri": "https://localhost:8080/"
        }
      },
      "execution_count": 69,
      "outputs": [
        {
          "output_type": "stream",
          "name": "stdout",
          "text": [
            "+---+-------------------+------+\n",
            "| id|               nome|vendas|\n",
            "+---+-------------------+------+\n",
            "|  1|   Carminda Pestana|    23|\n",
            "|  2|    Deolinda Vilela|    34|\n",
            "|  3|   Emídio Dornelles|    34|\n",
            "|  4|Felisbela Dornelles|    36|\n",
            "|  6|   Matilde Rebouças|    22|\n",
            "|  7|    Noêmia   Orriça|    45|\n",
            "|  8|      Roque Vásquez|    65|\n",
            "|  9|      Uriel Queiroz|    54|\n",
            "+---+-------------------+------+\n",
            "\n"
          ]
        }
      ]
    },
    {
      "cell_type": "code",
      "source": [
        "despachantes.select('id','nome','vendas').where((Func.col('vendas') > 20) & (Func.col('vendas')<40)).show()"
      ],
      "metadata": {
        "id": "ShWiEFsL_JzQ",
        "outputId": "c201cd2b-38fb-4e6c-a7dd-421f17498dd4",
        "colab": {
          "base_uri": "https://localhost:8080/"
        }
      },
      "execution_count": 70,
      "outputs": [
        {
          "output_type": "stream",
          "name": "stdout",
          "text": [
            "+---+-------------------+------+\n",
            "| id|               nome|vendas|\n",
            "+---+-------------------+------+\n",
            "|  1|   Carminda Pestana|    23|\n",
            "|  2|    Deolinda Vilela|    34|\n",
            "|  3|   Emídio Dornelles|    34|\n",
            "|  4|Felisbela Dornelles|    36|\n",
            "|  6|   Matilde Rebouças|    22|\n",
            "+---+-------------------+------+\n",
            "\n"
          ]
        }
      ]
    },
    {
      "cell_type": "code",
      "source": [
        "novodf = despachantes.withColumnRenamed('nome','nomes')"
      ],
      "metadata": {
        "id": "7cpJf_7U_irl"
      },
      "execution_count": 71,
      "outputs": []
    },
    {
      "cell_type": "code",
      "source": [
        "novodf.columns"
      ],
      "metadata": {
        "id": "G1QENvwC_snE",
        "outputId": "5ebd0e86-6440-4465-f84c-f85b65d3a52f",
        "colab": {
          "base_uri": "https://localhost:8080/"
        }
      },
      "execution_count": 72,
      "outputs": [
        {
          "output_type": "execute_result",
          "data": {
            "text/plain": [
              "['id', 'nomes', 'status', 'cidade', 'vendas', 'data']"
            ]
          },
          "metadata": {},
          "execution_count": 72
        }
      ]
    },
    {
      "cell_type": "code",
      "source": [
        "from pyspark.sql.functions import *"
      ],
      "metadata": {
        "id": "NJtpL5IUAB6u"
      },
      "execution_count": 73,
      "outputs": []
    },
    {
      "cell_type": "code",
      "source": [
        "despachantes2 = despachantes.withColumn('data2', to_timestamp(Func.col('data'),'yyyy-MM-dd'))"
      ],
      "metadata": {
        "id": "0Mrvcm_w_uW8"
      },
      "execution_count": 74,
      "outputs": []
    },
    {
      "cell_type": "code",
      "source": [
        "despachantes2.schema"
      ],
      "metadata": {
        "id": "d7e8DLQUAHAU",
        "outputId": "34510c29-2c8d-44e6-80c4-d97c92df57d6",
        "colab": {
          "base_uri": "https://localhost:8080/"
        }
      },
      "execution_count": 75,
      "outputs": [
        {
          "output_type": "execute_result",
          "data": {
            "text/plain": [
              "StructType(List(StructField(id,IntegerType,true),StructField(nome,StringType,true),StructField(status,StringType,true),StructField(cidade,StringType,true),StructField(vendas,IntegerType,true),StructField(data,StringType,true),StructField(data2,TimestampType,true)))"
            ]
          },
          "metadata": {},
          "execution_count": 75
        }
      ]
    },
    {
      "cell_type": "code",
      "source": [
        "despachantes2.select(year('data')).show()"
      ],
      "metadata": {
        "id": "7KmSpBb-AI7k",
        "outputId": "9c1be4e6-2988-47ab-dc92-7a823d3aa7d1",
        "colab": {
          "base_uri": "https://localhost:8080/"
        }
      },
      "execution_count": 76,
      "outputs": [
        {
          "output_type": "stream",
          "name": "stdout",
          "text": [
            "+----------+\n",
            "|year(data)|\n",
            "+----------+\n",
            "|      2020|\n",
            "|      2020|\n",
            "|      2020|\n",
            "|      2020|\n",
            "|      2020|\n",
            "|      2019|\n",
            "|      2019|\n",
            "|      2020|\n",
            "|      2018|\n",
            "|      2020|\n",
            "+----------+\n",
            "\n"
          ]
        }
      ]
    },
    {
      "cell_type": "code",
      "source": [
        "despachantes2.select(year('data')).distinct().show()"
      ],
      "metadata": {
        "id": "o-5XH_d7AS_E",
        "outputId": "65ef16c9-228f-401a-817c-9274193d2a2e",
        "colab": {
          "base_uri": "https://localhost:8080/"
        }
      },
      "execution_count": 77,
      "outputs": [
        {
          "output_type": "stream",
          "name": "stdout",
          "text": [
            "+----------+\n",
            "|year(data)|\n",
            "+----------+\n",
            "|      2018|\n",
            "|      2019|\n",
            "|      2020|\n",
            "+----------+\n",
            "\n"
          ]
        }
      ]
    },
    {
      "cell_type": "code",
      "source": [
        "despachantes2.select(\"nome\", year('data')).orderBy('nome').show()"
      ],
      "metadata": {
        "id": "v2GkP92SAWUc",
        "outputId": "53748a15-b4e1-4cc6-8f16-62452c8bc25e",
        "colab": {
          "base_uri": "https://localhost:8080/"
        }
      },
      "execution_count": 78,
      "outputs": [
        {
          "output_type": "stream",
          "name": "stdout",
          "text": [
            "+-------------------+----------+\n",
            "|               nome|year(data)|\n",
            "+-------------------+----------+\n",
            "|   Carminda Pestana|      2020|\n",
            "|    Deolinda Vilela|      2020|\n",
            "|   Emídio Dornelles|      2020|\n",
            "|Felisbela Dornelles|      2020|\n",
            "|     Graça Ornellas|      2020|\n",
            "|   Matilde Rebouças|      2019|\n",
            "|    Noêmia   Orriça|      2019|\n",
            "|      Roque Vásquez|      2020|\n",
            "|      Uriel Queiroz|      2018|\n",
            "|   Viviana Sequeira|      2020|\n",
            "+-------------------+----------+\n",
            "\n"
          ]
        }
      ]
    },
    {
      "cell_type": "code",
      "source": [
        "despachantes2.select('data').groupBy(year('data')).count().show()"
      ],
      "metadata": {
        "id": "Psfp9BoQAfRc",
        "outputId": "9ffad06c-fdf9-472e-edce-769d0f93c5ba",
        "colab": {
          "base_uri": "https://localhost:8080/"
        }
      },
      "execution_count": 79,
      "outputs": [
        {
          "output_type": "stream",
          "name": "stdout",
          "text": [
            "+----------+-----+\n",
            "|year(data)|count|\n",
            "+----------+-----+\n",
            "|      2018|    1|\n",
            "|      2019|    2|\n",
            "|      2020|    7|\n",
            "+----------+-----+\n",
            "\n"
          ]
        }
      ]
    },
    {
      "cell_type": "markdown",
      "source": [
        "## Principais ações de transformações"
      ],
      "metadata": {
        "id": "i511pKRfjaWU"
      }
    },
    {
      "cell_type": "code",
      "source": [
        "despachantes2.select(Func.sum('vendas')).show()"
      ],
      "metadata": {
        "id": "G9zH8YiWAqLr",
        "outputId": "c16c47f4-a76f-4a8b-a0e1-298a8c77033e",
        "colab": {
          "base_uri": "https://localhost:8080/"
        }
      },
      "execution_count": 80,
      "outputs": [
        {
          "output_type": "stream",
          "name": "stdout",
          "text": [
            "+-----------+\n",
            "|sum(vendas)|\n",
            "+-----------+\n",
            "|        325|\n",
            "+-----------+\n",
            "\n"
          ]
        }
      ]
    },
    {
      "cell_type": "code",
      "source": [
        "despachantes.show()"
      ],
      "metadata": {
        "id": "2iiBo9N4AxTM",
        "outputId": "cd1c9b5a-70a1-4765-e78b-c39028274bf1",
        "colab": {
          "base_uri": "https://localhost:8080/"
        }
      },
      "execution_count": 81,
      "outputs": [
        {
          "output_type": "stream",
          "name": "stdout",
          "text": [
            "+---+-------------------+------+-------------+------+----------+\n",
            "| id|               nome|status|       cidade|vendas|      data|\n",
            "+---+-------------------+------+-------------+------+----------+\n",
            "|  1|   Carminda Pestana| Ativo|  Santa Maria|    23|2020-08-11|\n",
            "|  2|    Deolinda Vilela| Ativo|Novo Hamburgo|    34|2020-03-05|\n",
            "|  3|   Emídio Dornelles| Ativo| Porto Alegre|    34|2020-02-05|\n",
            "|  4|Felisbela Dornelles| Ativo| Porto Alegre|    36|2020-02-05|\n",
            "|  5|     Graça Ornellas| Ativo| Porto Alegre|    12|2020-02-05|\n",
            "|  6|   Matilde Rebouças| Ativo| Porto Alegre|    22|2019-01-05|\n",
            "|  7|    Noêmia   Orriça| Ativo|  Santa Maria|    45|2019-10-05|\n",
            "|  8|      Roque Vásquez| Ativo| Porto Alegre|    65|2020-03-05|\n",
            "|  9|      Uriel Queiroz| Ativo| Porto Alegre|    54|2018-05-05|\n",
            "| 10|   Viviana Sequeira| Ativo| Porto Alegre|     0|2020-09-05|\n",
            "+---+-------------------+------+-------------+------+----------+\n",
            "\n"
          ]
        }
      ]
    },
    {
      "cell_type": "code",
      "source": [
        "despachantes.take(1)"
      ],
      "metadata": {
        "id": "iBu9qSOThSYf",
        "outputId": "7e541839-ca4c-4ab8-93f0-4c10a64b83e6",
        "colab": {
          "base_uri": "https://localhost:8080/"
        }
      },
      "execution_count": 82,
      "outputs": [
        {
          "output_type": "execute_result",
          "data": {
            "text/plain": [
              "[Row(id=1, nome='Carminda Pestana', status='Ativo', cidade='Santa Maria', vendas=23, data='2020-08-11')]"
            ]
          },
          "metadata": {},
          "execution_count": 82
        }
      ]
    },
    {
      "cell_type": "code",
      "source": [
        "despachantes.collect()"
      ],
      "metadata": {
        "id": "wzNMENpchR8K",
        "outputId": "4e42b2b3-f94b-4b40-858f-0388b01350d5",
        "colab": {
          "base_uri": "https://localhost:8080/"
        }
      },
      "execution_count": 83,
      "outputs": [
        {
          "output_type": "execute_result",
          "data": {
            "text/plain": [
              "[Row(id=1, nome='Carminda Pestana', status='Ativo', cidade='Santa Maria', vendas=23, data='2020-08-11'),\n",
              " Row(id=2, nome='Deolinda Vilela', status='Ativo', cidade='Novo Hamburgo', vendas=34, data='2020-03-05'),\n",
              " Row(id=3, nome='Emídio Dornelles', status='Ativo', cidade='Porto Alegre', vendas=34, data='2020-02-05'),\n",
              " Row(id=4, nome='Felisbela Dornelles', status='Ativo', cidade='Porto Alegre', vendas=36, data='2020-02-05'),\n",
              " Row(id=5, nome='Graça Ornellas', status='Ativo', cidade='Porto Alegre', vendas=12, data='2020-02-05'),\n",
              " Row(id=6, nome='Matilde Rebouças', status='Ativo', cidade='Porto Alegre', vendas=22, data='2019-01-05'),\n",
              " Row(id=7, nome='Noêmia   Orriça', status='Ativo', cidade='Santa Maria', vendas=45, data='2019-10-05'),\n",
              " Row(id=8, nome='Roque Vásquez', status='Ativo', cidade='Porto Alegre', vendas=65, data='2020-03-05'),\n",
              " Row(id=9, nome='Uriel Queiroz', status='Ativo', cidade='Porto Alegre', vendas=54, data='2018-05-05'),\n",
              " Row(id=10, nome='Viviana Sequeira', status='Ativo', cidade='Porto Alegre', vendas=0, data='2020-09-05')]"
            ]
          },
          "metadata": {},
          "execution_count": 83
        }
      ]
    },
    {
      "cell_type": "code",
      "source": [
        "despachantes.count()"
      ],
      "metadata": {
        "id": "73957eqLhYoX",
        "outputId": "29f10028-9b98-433f-9803-181418b0d082",
        "colab": {
          "base_uri": "https://localhost:8080/"
        }
      },
      "execution_count": 84,
      "outputs": [
        {
          "output_type": "execute_result",
          "data": {
            "text/plain": [
              "10"
            ]
          },
          "metadata": {},
          "execution_count": 84
        }
      ]
    },
    {
      "cell_type": "code",
      "source": [
        "despachantes.show()"
      ],
      "metadata": {
        "id": "yuKXOSeehnix",
        "outputId": "bc8fe02b-8a2b-49a1-fbe7-48643ec35432",
        "colab": {
          "base_uri": "https://localhost:8080/"
        }
      },
      "execution_count": 85,
      "outputs": [
        {
          "output_type": "stream",
          "name": "stdout",
          "text": [
            "+---+-------------------+------+-------------+------+----------+\n",
            "| id|               nome|status|       cidade|vendas|      data|\n",
            "+---+-------------------+------+-------------+------+----------+\n",
            "|  1|   Carminda Pestana| Ativo|  Santa Maria|    23|2020-08-11|\n",
            "|  2|    Deolinda Vilela| Ativo|Novo Hamburgo|    34|2020-03-05|\n",
            "|  3|   Emídio Dornelles| Ativo| Porto Alegre|    34|2020-02-05|\n",
            "|  4|Felisbela Dornelles| Ativo| Porto Alegre|    36|2020-02-05|\n",
            "|  5|     Graça Ornellas| Ativo| Porto Alegre|    12|2020-02-05|\n",
            "|  6|   Matilde Rebouças| Ativo| Porto Alegre|    22|2019-01-05|\n",
            "|  7|    Noêmia   Orriça| Ativo|  Santa Maria|    45|2019-10-05|\n",
            "|  8|      Roque Vásquez| Ativo| Porto Alegre|    65|2020-03-05|\n",
            "|  9|      Uriel Queiroz| Ativo| Porto Alegre|    54|2018-05-05|\n",
            "| 10|   Viviana Sequeira| Ativo| Porto Alegre|     0|2020-09-05|\n",
            "+---+-------------------+------+-------------+------+----------+\n",
            "\n"
          ]
        }
      ]
    },
    {
      "cell_type": "code",
      "source": [
        "despachantes.orderBy(\"vendas\").show()"
      ],
      "metadata": {
        "id": "_6NE61Jihsgc",
        "outputId": "61aa9d11-7a6e-4d0e-9281-7e8afd6158f2",
        "colab": {
          "base_uri": "https://localhost:8080/"
        }
      },
      "execution_count": 86,
      "outputs": [
        {
          "output_type": "stream",
          "name": "stdout",
          "text": [
            "+---+-------------------+------+-------------+------+----------+\n",
            "| id|               nome|status|       cidade|vendas|      data|\n",
            "+---+-------------------+------+-------------+------+----------+\n",
            "| 10|   Viviana Sequeira| Ativo| Porto Alegre|     0|2020-09-05|\n",
            "|  5|     Graça Ornellas| Ativo| Porto Alegre|    12|2020-02-05|\n",
            "|  6|   Matilde Rebouças| Ativo| Porto Alegre|    22|2019-01-05|\n",
            "|  1|   Carminda Pestana| Ativo|  Santa Maria|    23|2020-08-11|\n",
            "|  2|    Deolinda Vilela| Ativo|Novo Hamburgo|    34|2020-03-05|\n",
            "|  3|   Emídio Dornelles| Ativo| Porto Alegre|    34|2020-02-05|\n",
            "|  4|Felisbela Dornelles| Ativo| Porto Alegre|    36|2020-02-05|\n",
            "|  7|    Noêmia   Orriça| Ativo|  Santa Maria|    45|2019-10-05|\n",
            "|  9|      Uriel Queiroz| Ativo| Porto Alegre|    54|2018-05-05|\n",
            "|  8|      Roque Vásquez| Ativo| Porto Alegre|    65|2020-03-05|\n",
            "+---+-------------------+------+-------------+------+----------+\n",
            "\n"
          ]
        }
      ]
    },
    {
      "cell_type": "code",
      "source": [
        "despachantes.orderBy(Func.col(\"vendas\").desc()).show()"
      ],
      "metadata": {
        "id": "zJXtsiCdh1MV",
        "outputId": "f12b81ae-2c15-4537-9195-2877dc866fa6",
        "colab": {
          "base_uri": "https://localhost:8080/"
        }
      },
      "execution_count": 87,
      "outputs": [
        {
          "output_type": "stream",
          "name": "stdout",
          "text": [
            "+---+-------------------+------+-------------+------+----------+\n",
            "| id|               nome|status|       cidade|vendas|      data|\n",
            "+---+-------------------+------+-------------+------+----------+\n",
            "|  8|      Roque Vásquez| Ativo| Porto Alegre|    65|2020-03-05|\n",
            "|  9|      Uriel Queiroz| Ativo| Porto Alegre|    54|2018-05-05|\n",
            "|  7|    Noêmia   Orriça| Ativo|  Santa Maria|    45|2019-10-05|\n",
            "|  4|Felisbela Dornelles| Ativo| Porto Alegre|    36|2020-02-05|\n",
            "|  2|    Deolinda Vilela| Ativo|Novo Hamburgo|    34|2020-03-05|\n",
            "|  3|   Emídio Dornelles| Ativo| Porto Alegre|    34|2020-02-05|\n",
            "|  1|   Carminda Pestana| Ativo|  Santa Maria|    23|2020-08-11|\n",
            "|  6|   Matilde Rebouças| Ativo| Porto Alegre|    22|2019-01-05|\n",
            "|  5|     Graça Ornellas| Ativo| Porto Alegre|    12|2020-02-05|\n",
            "| 10|   Viviana Sequeira| Ativo| Porto Alegre|     0|2020-09-05|\n",
            "+---+-------------------+------+-------------+------+----------+\n",
            "\n"
          ]
        }
      ]
    },
    {
      "cell_type": "code",
      "source": [
        "despachantes.orderBy(Func.col(\"cidade\").desc(),Func.col('vendas').desc()).show()"
      ],
      "metadata": {
        "id": "HJaZ7TS7h_Rt",
        "outputId": "d8c8b3d0-95f2-4edc-ce95-2c0815061da4",
        "colab": {
          "base_uri": "https://localhost:8080/"
        }
      },
      "execution_count": 88,
      "outputs": [
        {
          "output_type": "stream",
          "name": "stdout",
          "text": [
            "+---+-------------------+------+-------------+------+----------+\n",
            "| id|               nome|status|       cidade|vendas|      data|\n",
            "+---+-------------------+------+-------------+------+----------+\n",
            "|  7|    Noêmia   Orriça| Ativo|  Santa Maria|    45|2019-10-05|\n",
            "|  1|   Carminda Pestana| Ativo|  Santa Maria|    23|2020-08-11|\n",
            "|  8|      Roque Vásquez| Ativo| Porto Alegre|    65|2020-03-05|\n",
            "|  9|      Uriel Queiroz| Ativo| Porto Alegre|    54|2018-05-05|\n",
            "|  4|Felisbela Dornelles| Ativo| Porto Alegre|    36|2020-02-05|\n",
            "|  3|   Emídio Dornelles| Ativo| Porto Alegre|    34|2020-02-05|\n",
            "|  6|   Matilde Rebouças| Ativo| Porto Alegre|    22|2019-01-05|\n",
            "|  5|     Graça Ornellas| Ativo| Porto Alegre|    12|2020-02-05|\n",
            "| 10|   Viviana Sequeira| Ativo| Porto Alegre|     0|2020-09-05|\n",
            "|  2|    Deolinda Vilela| Ativo|Novo Hamburgo|    34|2020-03-05|\n",
            "+---+-------------------+------+-------------+------+----------+\n",
            "\n"
          ]
        }
      ]
    },
    {
      "cell_type": "code",
      "source": [
        "despachantes.groupBy(\"cidade\").agg(sum(\"vendas\")).show()"
      ],
      "metadata": {
        "id": "Kqi2peLqiJt_",
        "outputId": "d21f6809-e064-43a9-b6cf-7c2a98632ea9",
        "colab": {
          "base_uri": "https://localhost:8080/"
        }
      },
      "execution_count": 89,
      "outputs": [
        {
          "output_type": "stream",
          "name": "stdout",
          "text": [
            "+-------------+-----------+\n",
            "|       cidade|sum(vendas)|\n",
            "+-------------+-----------+\n",
            "|  Santa Maria|         68|\n",
            "|Novo Hamburgo|         34|\n",
            "| Porto Alegre|        223|\n",
            "+-------------+-----------+\n",
            "\n"
          ]
        }
      ]
    },
    {
      "cell_type": "code",
      "source": [
        "despachantes.groupBy(\"cidade\").agg(sum(\"vendas\")).orderBy(Func.col(\"sum(vendas)\").desc()).show()"
      ],
      "metadata": {
        "id": "xL0fd_6ZiLDS",
        "outputId": "3c10887f-93ff-43c5-8b50-e44f774c90d6",
        "colab": {
          "base_uri": "https://localhost:8080/"
        }
      },
      "execution_count": 90,
      "outputs": [
        {
          "output_type": "stream",
          "name": "stdout",
          "text": [
            "+-------------+-----------+\n",
            "|       cidade|sum(vendas)|\n",
            "+-------------+-----------+\n",
            "| Porto Alegre|        223|\n",
            "|  Santa Maria|         68|\n",
            "|Novo Hamburgo|         34|\n",
            "+-------------+-----------+\n",
            "\n"
          ]
        }
      ]
    },
    {
      "cell_type": "code",
      "source": [
        "despachantes.groupBy(\"cidade\").agg(sum(\"vendas\")).filter(Func.col('sum(vendas)') > 68).show()"
      ],
      "metadata": {
        "id": "a3THwhzmiK_z",
        "outputId": "1aaf8692-bb48-408e-bc1e-4086509a9283",
        "colab": {
          "base_uri": "https://localhost:8080/"
        }
      },
      "execution_count": 91,
      "outputs": [
        {
          "output_type": "stream",
          "name": "stdout",
          "text": [
            "+------------+-----------+\n",
            "|      cidade|sum(vendas)|\n",
            "+------------+-----------+\n",
            "|Porto Alegre|        223|\n",
            "+------------+-----------+\n",
            "\n"
          ]
        }
      ]
    },
    {
      "cell_type": "code",
      "source": [
        "despachantes.filter(Func.col('nome') == 'Deolinda Vilela').show()"
      ],
      "metadata": {
        "id": "JSGHTR57iK9G",
        "outputId": "281c38c2-da63-4d8e-c906-2d8219230132",
        "colab": {
          "base_uri": "https://localhost:8080/"
        }
      },
      "execution_count": 92,
      "outputs": [
        {
          "output_type": "stream",
          "name": "stdout",
          "text": [
            "+---+---------------+------+-------------+------+----------+\n",
            "| id|           nome|status|       cidade|vendas|      data|\n",
            "+---+---------------+------+-------------+------+----------+\n",
            "|  2|Deolinda Vilela| Ativo|Novo Hamburgo|    34|2020-03-05|\n",
            "+---+---------------+------+-------------+------+----------+\n",
            "\n"
          ]
        }
      ]
    },
    {
      "cell_type": "markdown",
      "source": [
        "## Exportando dados"
      ],
      "metadata": {
        "id": "sols0RpBj4KF"
      }
    },
    {
      "cell_type": "code",
      "source": [
        "despachantes.write.format('parquet').save('/content/dfimportparquet')\n",
        "despachantes.write.format('csv').save('/content/dfimportcsv')\n",
        "despachantes.write.format('json').save('/content/dfimportjson')\n",
        "despachantes.write.format('orc').save('/content/dfimportorc')"
      ],
      "metadata": {
        "id": "5-q6F7kQkkYo"
      },
      "execution_count": 93,
      "outputs": []
    },
    {
      "cell_type": "markdown",
      "source": [
        "## Importando Dados"
      ],
      "metadata": {
        "id": "h0XQYdPqk0Db"
      }
    },
    {
      "cell_type": "code",
      "source": [
        "par = sc.read.format('parquet').load('/content/dfimportparquet/*.parquet')\n",
        "csv = sc.read.format('csv').load('/content/dfimportcsv/*.csv')\n",
        "js = sc.read.format('json').load('/content/dfimportjson/*.json')\n",
        "orc = sc.read.format('orc').load('/content/dfimportorc/*.orc')"
      ],
      "metadata": {
        "id": "ly2HwqQrk1Or"
      },
      "execution_count": 94,
      "outputs": []
    },
    {
      "cell_type": "code",
      "source": [
        "par.show()"
      ],
      "metadata": {
        "id": "sfnSmS9Alu-y",
        "outputId": "a5fef8f5-25f8-48f6-f063-728b48ba8438",
        "colab": {
          "base_uri": "https://localhost:8080/"
        }
      },
      "execution_count": 95,
      "outputs": [
        {
          "output_type": "stream",
          "name": "stdout",
          "text": [
            "+---+-------------------+------+-------------+------+----------+\n",
            "| id|               nome|status|       cidade|vendas|      data|\n",
            "+---+-------------------+------+-------------+------+----------+\n",
            "|  1|   Carminda Pestana| Ativo|  Santa Maria|    23|2020-08-11|\n",
            "|  2|    Deolinda Vilela| Ativo|Novo Hamburgo|    34|2020-03-05|\n",
            "|  3|   Emídio Dornelles| Ativo| Porto Alegre|    34|2020-02-05|\n",
            "|  4|Felisbela Dornelles| Ativo| Porto Alegre|    36|2020-02-05|\n",
            "|  5|     Graça Ornellas| Ativo| Porto Alegre|    12|2020-02-05|\n",
            "|  6|   Matilde Rebouças| Ativo| Porto Alegre|    22|2019-01-05|\n",
            "|  7|    Noêmia   Orriça| Ativo|  Santa Maria|    45|2019-10-05|\n",
            "|  8|      Roque Vásquez| Ativo| Porto Alegre|    65|2020-03-05|\n",
            "|  9|      Uriel Queiroz| Ativo| Porto Alegre|    54|2018-05-05|\n",
            "| 10|   Viviana Sequeira| Ativo| Porto Alegre|     0|2020-09-05|\n",
            "+---+-------------------+------+-------------+------+----------+\n",
            "\n"
          ]
        }
      ]
    },
    {
      "cell_type": "code",
      "source": [
        "par.schema"
      ],
      "metadata": {
        "id": "iWAUmTSIlyT5",
        "outputId": "7b49a405-fae2-46e6-bd4b-02f045a6c4bc",
        "colab": {
          "base_uri": "https://localhost:8080/"
        }
      },
      "execution_count": 96,
      "outputs": [
        {
          "output_type": "execute_result",
          "data": {
            "text/plain": [
              "StructType(List(StructField(id,IntegerType,true),StructField(nome,StringType,true),StructField(status,StringType,true),StructField(cidade,StringType,true),StructField(vendas,IntegerType,true),StructField(data,StringType,true)))"
            ]
          },
          "metadata": {},
          "execution_count": 96
        }
      ]
    },
    {
      "cell_type": "code",
      "source": [
        "js.show()"
      ],
      "metadata": {
        "id": "aSWOxRfPlzEh",
        "outputId": "64c45dd4-e2ee-4a9d-d131-5bc872520b44",
        "colab": {
          "base_uri": "https://localhost:8080/"
        }
      },
      "execution_count": 97,
      "outputs": [
        {
          "output_type": "stream",
          "name": "stdout",
          "text": [
            "+-------------+----------+---+-------------------+------+------+\n",
            "|       cidade|      data| id|               nome|status|vendas|\n",
            "+-------------+----------+---+-------------------+------+------+\n",
            "|  Santa Maria|2020-08-11|  1|   Carminda Pestana| Ativo|    23|\n",
            "|Novo Hamburgo|2020-03-05|  2|    Deolinda Vilela| Ativo|    34|\n",
            "| Porto Alegre|2020-02-05|  3|   Emídio Dornelles| Ativo|    34|\n",
            "| Porto Alegre|2020-02-05|  4|Felisbela Dornelles| Ativo|    36|\n",
            "| Porto Alegre|2020-02-05|  5|     Graça Ornellas| Ativo|    12|\n",
            "| Porto Alegre|2019-01-05|  6|   Matilde Rebouças| Ativo|    22|\n",
            "|  Santa Maria|2019-10-05|  7|    Noêmia   Orriça| Ativo|    45|\n",
            "| Porto Alegre|2020-03-05|  8|      Roque Vásquez| Ativo|    65|\n",
            "| Porto Alegre|2018-05-05|  9|      Uriel Queiroz| Ativo|    54|\n",
            "| Porto Alegre|2020-09-05| 10|   Viviana Sequeira| Ativo|     0|\n",
            "+-------------+----------+---+-------------------+------+------+\n",
            "\n"
          ]
        }
      ]
    },
    {
      "cell_type": "code",
      "source": [
        "js.schema"
      ],
      "metadata": {
        "id": "nVGRxU4ml66i",
        "outputId": "ac82ab67-6a59-430a-cc29-88ed916e1d36",
        "colab": {
          "base_uri": "https://localhost:8080/"
        }
      },
      "execution_count": 98,
      "outputs": [
        {
          "output_type": "execute_result",
          "data": {
            "text/plain": [
              "StructType(List(StructField(cidade,StringType,true),StructField(data,StringType,true),StructField(id,LongType,true),StructField(nome,StringType,true),StructField(status,StringType,true),StructField(vendas,LongType,true)))"
            ]
          },
          "metadata": {},
          "execution_count": 98
        }
      ]
    },
    {
      "cell_type": "code",
      "source": [
        "orc.show()"
      ],
      "metadata": {
        "id": "KVS4XIzIl8Jk",
        "outputId": "7ed4cfeb-cac6-4ef6-cac3-41e2fa1e4f5d",
        "colab": {
          "base_uri": "https://localhost:8080/"
        }
      },
      "execution_count": 99,
      "outputs": [
        {
          "output_type": "stream",
          "name": "stdout",
          "text": [
            "+---+-------------------+------+-------------+------+----------+\n",
            "| id|               nome|status|       cidade|vendas|      data|\n",
            "+---+-------------------+------+-------------+------+----------+\n",
            "|  1|   Carminda Pestana| Ativo|  Santa Maria|    23|2020-08-11|\n",
            "|  2|    Deolinda Vilela| Ativo|Novo Hamburgo|    34|2020-03-05|\n",
            "|  3|   Emídio Dornelles| Ativo| Porto Alegre|    34|2020-02-05|\n",
            "|  4|Felisbela Dornelles| Ativo| Porto Alegre|    36|2020-02-05|\n",
            "|  5|     Graça Ornellas| Ativo| Porto Alegre|    12|2020-02-05|\n",
            "|  6|   Matilde Rebouças| Ativo| Porto Alegre|    22|2019-01-05|\n",
            "|  7|    Noêmia   Orriça| Ativo|  Santa Maria|    45|2019-10-05|\n",
            "|  8|      Roque Vásquez| Ativo| Porto Alegre|    65|2020-03-05|\n",
            "|  9|      Uriel Queiroz| Ativo| Porto Alegre|    54|2018-05-05|\n",
            "| 10|   Viviana Sequeira| Ativo| Porto Alegre|     0|2020-09-05|\n",
            "+---+-------------------+------+-------------+------+----------+\n",
            "\n"
          ]
        }
      ]
    },
    {
      "cell_type": "code",
      "source": [
        "orc.schema"
      ],
      "metadata": {
        "id": "E0IPBvqjmAo6",
        "outputId": "1287f4ec-4d11-4cf5-9f07-87f4c6e19445",
        "colab": {
          "base_uri": "https://localhost:8080/"
        }
      },
      "execution_count": 100,
      "outputs": [
        {
          "output_type": "execute_result",
          "data": {
            "text/plain": [
              "StructType(List(StructField(id,IntegerType,true),StructField(nome,StringType,true),StructField(status,StringType,true),StructField(cidade,StringType,true),StructField(vendas,IntegerType,true),StructField(data,StringType,true)))"
            ]
          },
          "metadata": {},
          "execution_count": 100
        }
      ]
    },
    {
      "cell_type": "code",
      "source": [
        "csv.show()"
      ],
      "metadata": {
        "id": "nelIYsUKmBj6",
        "outputId": "c7ed8c3e-7e18-4b3b-f1ad-54a3c892c99e",
        "colab": {
          "base_uri": "https://localhost:8080/"
        }
      },
      "execution_count": 101,
      "outputs": [
        {
          "output_type": "stream",
          "name": "stdout",
          "text": [
            "+---+-------------------+-----+-------------+---+----------+\n",
            "|_c0|                _c1|  _c2|          _c3|_c4|       _c5|\n",
            "+---+-------------------+-----+-------------+---+----------+\n",
            "|  1|   Carminda Pestana|Ativo|  Santa Maria| 23|2020-08-11|\n",
            "|  2|    Deolinda Vilela|Ativo|Novo Hamburgo| 34|2020-03-05|\n",
            "|  3|   Emídio Dornelles|Ativo| Porto Alegre| 34|2020-02-05|\n",
            "|  4|Felisbela Dornelles|Ativo| Porto Alegre| 36|2020-02-05|\n",
            "|  5|     Graça Ornellas|Ativo| Porto Alegre| 12|2020-02-05|\n",
            "|  6|   Matilde Rebouças|Ativo| Porto Alegre| 22|2019-01-05|\n",
            "|  7|    Noêmia   Orriça|Ativo|  Santa Maria| 45|2019-10-05|\n",
            "|  8|      Roque Vásquez|Ativo| Porto Alegre| 65|2020-03-05|\n",
            "|  9|      Uriel Queiroz|Ativo| Porto Alegre| 54|2018-05-05|\n",
            "| 10|   Viviana Sequeira|Ativo| Porto Alegre|  0|2020-09-05|\n",
            "+---+-------------------+-----+-------------+---+----------+\n",
            "\n"
          ]
        }
      ]
    },
    {
      "cell_type": "code",
      "source": [
        "csv.schema"
      ],
      "metadata": {
        "id": "uPLuHrckmMG6",
        "outputId": "29349027-3219-4b77-aab9-518e15a31afa",
        "colab": {
          "base_uri": "https://localhost:8080/"
        }
      },
      "execution_count": 102,
      "outputs": [
        {
          "output_type": "execute_result",
          "data": {
            "text/plain": [
              "StructType(List(StructField(_c0,StringType,true),StructField(_c1,StringType,true),StructField(_c2,StringType,true),StructField(_c3,StringType,true),StructField(_c4,StringType,true),StructField(_c5,StringType,true)))"
            ]
          },
          "metadata": {},
          "execution_count": 102
        }
      ]
    },
    {
      "cell_type": "code",
      "source": [
        "arqschmema"
      ],
      "metadata": {
        "id": "TG60uDQFmNFZ",
        "outputId": "a1f86c52-a090-4043-d554-7d874b93d769",
        "colab": {
          "base_uri": "https://localhost:8080/",
          "height": 0
        }
      },
      "execution_count": 103,
      "outputs": [
        {
          "output_type": "execute_result",
          "data": {
            "text/plain": [
              "'id INT, nome STRING, status STRING, cidade STRING, vendas INT, data STRING'"
            ],
            "application/vnd.google.colaboratory.intrinsic+json": {
              "type": "string"
            }
          },
          "metadata": {},
          "execution_count": 103
        }
      ]
    },
    {
      "cell_type": "code",
      "source": [
        "csv2 = sc.read.format('csv').load('/content/dfimportcsv/*.csv',schema=arqschmema)"
      ],
      "metadata": {
        "id": "dr92znPymaXj"
      },
      "execution_count": 104,
      "outputs": []
    },
    {
      "cell_type": "code",
      "source": [
        "csv2.show()"
      ],
      "metadata": {
        "id": "uDru8nT6mw6h",
        "outputId": "ee49cf21-2c7c-433e-a966-deafe8207c1e",
        "colab": {
          "base_uri": "https://localhost:8080/"
        }
      },
      "execution_count": 105,
      "outputs": [
        {
          "output_type": "stream",
          "name": "stdout",
          "text": [
            "+---+-------------------+------+-------------+------+----------+\n",
            "| id|               nome|status|       cidade|vendas|      data|\n",
            "+---+-------------------+------+-------------+------+----------+\n",
            "|  1|   Carminda Pestana| Ativo|  Santa Maria|    23|2020-08-11|\n",
            "|  2|    Deolinda Vilela| Ativo|Novo Hamburgo|    34|2020-03-05|\n",
            "|  3|   Emídio Dornelles| Ativo| Porto Alegre|    34|2020-02-05|\n",
            "|  4|Felisbela Dornelles| Ativo| Porto Alegre|    36|2020-02-05|\n",
            "|  5|     Graça Ornellas| Ativo| Porto Alegre|    12|2020-02-05|\n",
            "|  6|   Matilde Rebouças| Ativo| Porto Alegre|    22|2019-01-05|\n",
            "|  7|    Noêmia   Orriça| Ativo|  Santa Maria|    45|2019-10-05|\n",
            "|  8|      Roque Vásquez| Ativo| Porto Alegre|    65|2020-03-05|\n",
            "|  9|      Uriel Queiroz| Ativo| Porto Alegre|    54|2018-05-05|\n",
            "| 10|   Viviana Sequeira| Ativo| Porto Alegre|     0|2020-09-05|\n",
            "+---+-------------------+------+-------------+------+----------+\n",
            "\n"
          ]
        }
      ]
    },
    {
      "cell_type": "markdown",
      "source": [
        "## Faça Você mesmo:"
      ],
      "metadata": {
        "id": "BdKyym1Gm3gy"
      }
    },
    {
      "cell_type": "markdown",
      "source": [
        "![image.png](data:image/png;base64,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)"
      ],
      "metadata": {
        "id": "mV3ciW1dnxkz"
      }
    },
    {
      "cell_type": "code",
      "source": [
        "!wget 'https://github.com/OseiasBeu/SparkFormation/raw/main/databases/Atividades/Vendas.parquet'\n",
        "!wget 'https://github.com/OseiasBeu/SparkFormation/blob/main/databases/Atividades/Clientes.parquet?raw=true'"
      ],
      "metadata": {
        "id": "gD42AEzJm46A",
        "outputId": "b1ad7e47-b559-4651-bc7c-bdc83fc54dd5",
        "colab": {
          "base_uri": "https://localhost:8080/"
        }
      },
      "execution_count": 106,
      "outputs": [
        {
          "output_type": "stream",
          "name": "stdout",
          "text": [
            "--2023-04-06 18:30:12--  https://github.com/OseiasBeu/SparkFormation/raw/main/databases/Atividades/Vendas.parquet\n",
            "Resolving github.com (github.com)... 20.27.177.113\n",
            "Connecting to github.com (github.com)|20.27.177.113|:443... connected.\n",
            "HTTP request sent, awaiting response... 302 Found\n",
            "Location: https://raw.githubusercontent.com/OseiasBeu/SparkFormation/main/databases/Atividades/Vendas.parquet [following]\n",
            "--2023-04-06 18:30:13--  https://raw.githubusercontent.com/OseiasBeu/SparkFormation/main/databases/Atividades/Vendas.parquet\n",
            "Resolving raw.githubusercontent.com (raw.githubusercontent.com)... 185.199.111.133, 185.199.110.133, 185.199.108.133, ...\n",
            "Connecting to raw.githubusercontent.com (raw.githubusercontent.com)|185.199.111.133|:443... connected.\n",
            "HTTP request sent, awaiting response... 200 OK\n",
            "Length: 11882 (12K) [application/octet-stream]\n",
            "Saving to: ‘Vendas.parquet’\n",
            "\n",
            "Vendas.parquet      100%[===================>]  11.60K  --.-KB/s    in 0s      \n",
            "\n",
            "2023-04-06 18:30:13 (35.9 MB/s) - ‘Vendas.parquet’ saved [11882/11882]\n",
            "\n",
            "--2023-04-06 18:30:13--  https://github.com/OseiasBeu/SparkFormation/blob/main/databases/Atividades/Clientes.parquet?raw=true\n",
            "Resolving github.com (github.com)... 20.27.177.113\n",
            "Connecting to github.com (github.com)|20.27.177.113|:443... connected.\n",
            "HTTP request sent, awaiting response... 302 Found\n",
            "Location: https://github.com/OseiasBeu/SparkFormation/raw/main/databases/Atividades/Clientes.parquet [following]\n",
            "--2023-04-06 18:30:14--  https://github.com/OseiasBeu/SparkFormation/raw/main/databases/Atividades/Clientes.parquet\n",
            "Reusing existing connection to github.com:443.\n",
            "HTTP request sent, awaiting response... 302 Found\n",
            "Location: https://raw.githubusercontent.com/OseiasBeu/SparkFormation/main/databases/Atividades/Clientes.parquet [following]\n",
            "--2023-04-06 18:30:14--  https://raw.githubusercontent.com/OseiasBeu/SparkFormation/main/databases/Atividades/Clientes.parquet\n",
            "Resolving raw.githubusercontent.com (raw.githubusercontent.com)... 185.199.111.133, 185.199.110.133, 185.199.108.133, ...\n",
            "Connecting to raw.githubusercontent.com (raw.githubusercontent.com)|185.199.111.133|:443... connected.\n",
            "HTTP request sent, awaiting response... 200 OK\n",
            "Length: 9311 (9.1K) [application/octet-stream]\n",
            "Saving to: ‘Clientes.parquet?raw=true’\n",
            "\n",
            "Clientes.parquet?ra 100%[===================>]   9.09K  --.-KB/s    in 0s      \n",
            "\n",
            "2023-04-06 18:30:14 (73.2 MB/s) - ‘Clientes.parquet?raw=true’ saved [9311/9311]\n",
            "\n"
          ]
        }
      ]
    },
    {
      "cell_type": "code",
      "source": [
        "clientes = sc.read.format('parquet').load('/content/Clientes.parquet?raw=true')\n",
        "vendas = sc.read.format('parquet').load('/content/Vendas.parquet')"
      ],
      "metadata": {
        "id": "OKzk0TXoqOX9"
      },
      "execution_count": 107,
      "outputs": []
    },
    {
      "cell_type": "code",
      "source": [
        "clientes.show(5)"
      ],
      "metadata": {
        "id": "GHQ5Z4MmtovA",
        "outputId": "bf0e318a-ec50-49a1-c0b8-94eba62cb965",
        "colab": {
          "base_uri": "https://localhost:8080/"
        }
      },
      "execution_count": 108,
      "outputs": [
        {
          "output_type": "stream",
          "name": "stdout",
          "text": [
            "+---------+--------------------+------+------+--------+\n",
            "|ClienteID|             Cliente|Estado|Genero|  Status|\n",
            "+---------+--------------------+------+------+--------+\n",
            "|        1|Adelina Buenaventura|    RJ|     M|  Silver|\n",
            "|        2|        Adelino Gago|    RJ|     M|  Silver|\n",
            "|        3|     Adolfo Patrício|    PE|     M|  Silver|\n",
            "|        4|    Adriana Guedelha|    RO|     F|Platinum|\n",
            "|        5|       Adélio Lisboa|    SE|     M|  Silver|\n",
            "+---------+--------------------+------+------+--------+\n",
            "only showing top 5 rows\n",
            "\n"
          ]
        }
      ]
    },
    {
      "cell_type": "code",
      "source": [
        "clientes.select('Cliente','Estado', 'Status').show()"
      ],
      "metadata": {
        "id": "7G7sMp6ZvekW",
        "outputId": "38d965e1-5d99-4a10-d413-da34e0396a01",
        "colab": {
          "base_uri": "https://localhost:8080/"
        }
      },
      "execution_count": 109,
      "outputs": [
        {
          "output_type": "stream",
          "name": "stdout",
          "text": [
            "+--------------------+------+--------+\n",
            "|             Cliente|Estado|  Status|\n",
            "+--------------------+------+--------+\n",
            "|Adelina Buenaventura|    RJ|  Silver|\n",
            "|        Adelino Gago|    RJ|  Silver|\n",
            "|     Adolfo Patrício|    PE|  Silver|\n",
            "|    Adriana Guedelha|    RO|Platinum|\n",
            "|       Adélio Lisboa|    SE|  Silver|\n",
            "|       Adérito Bahía|    MA|  Silver|\n",
            "|       Aida Dorneles|    RN|  Silver|\n",
            "|   Alarico Quinterno|    AC|  Silver|\n",
            "|    Alberto Cezimbra|    AM|  Silver|\n",
            "|    Alberto Monsanto|    RN|    Gold|\n",
            "|       Albino Canela|    AC|  Silver|\n",
            "|     Alceste Varanda|    RR|  Silver|\n",
            "|  Alcides Carvalhais|    RO|  Silver|\n",
            "|        Aldo Martins|    GO|  Silver|\n",
            "|   Alexandra Tabares|    MG|  Silver|\n",
            "|      Alfredo Cotrim|    SC|  Silver|\n",
            "|     Almeno Figueira|    SC|  Silver|\n",
            "|      Alvito Peralta|    AM|  Silver|\n",
            "|     Amadeu Martinho|    RN|  Silver|\n",
            "|      Amélia Estévez|    PE|  Silver|\n",
            "+--------------------+------+--------+\n",
            "only showing top 20 rows\n",
            "\n"
          ]
        }
      ]
    },
    {
      "cell_type": "code",
      "source": [
        "clientes.where((Func.col('Status') == 'Platinum') | (Func.col('Status') == 'Gold')).show()"
      ],
      "metadata": {
        "id": "8LjwJc3LvnCo",
        "outputId": "5d56d3f9-7993-4bc9-e7fb-e7d872fa3cf3",
        "colab": {
          "base_uri": "https://localhost:8080/"
        }
      },
      "execution_count": 110,
      "outputs": [
        {
          "output_type": "stream",
          "name": "stdout",
          "text": [
            "+---------+-------------------+------+------+--------+\n",
            "|ClienteID|            Cliente|Estado|Genero|  Status|\n",
            "+---------+-------------------+------+------+--------+\n",
            "|        4|   Adriana Guedelha|    RO|     F|Platinum|\n",
            "|       10|   Alberto Monsanto|    RN|     M|    Gold|\n",
            "|       28|      Anna Carvajal|    RS|     F|    Gold|\n",
            "|       49|      Bento Quintão|    SP|     M|    Gold|\n",
            "|       68|      Carminda Dias|    AM|     F|    Gold|\n",
            "|       83|      Cláudio Jorge|    TO|     M|    Gold|\n",
            "|      121|    Dionísio Saltão|    PR|     M|    Gold|\n",
            "|      166|   Firmino Meireles|    AM|     M|    Gold|\n",
            "|      170|      Flor Vilanova|    CE|     M|Platinum|\n",
            "|      220|Honorina Villaverde|    PE|     F|    Gold|\n",
            "|      230|    Ibijara Botelho|    RR|     F|Platinum|\n",
            "|      237|  Iracema Rodríguez|    BA|     F|    Gold|\n",
            "|      247|         Joana Ataí|    GO|     F|Platinum|\n",
            "+---------+-------------------+------+------+--------+\n",
            "\n"
          ]
        }
      ]
    },
    {
      "cell_type": "code",
      "source": [
        "vendas.show(5)"
      ],
      "metadata": {
        "id": "eGNKh-pww-e0",
        "outputId": "31ee0dac-8490-45a2-96d3-f3e91cf7615d",
        "colab": {
          "base_uri": "https://localhost:8080/"
        }
      },
      "execution_count": 111,
      "outputs": [
        {
          "output_type": "stream",
          "name": "stdout",
          "text": [
            "+--------+----------+---------+--------+--------+\n",
            "|VendasID|VendedorID|ClienteID|    Data|   Total|\n",
            "+--------+----------+---------+--------+--------+\n",
            "|       1|         1|       91|1/1/2019|  8053.6|\n",
            "|       2|         6|      185|1/1/2020|   150.4|\n",
            "|       3|         7|       31|2/1/2020|  6087.0|\n",
            "|       4|         5|       31|2/1/2019| 13828.6|\n",
            "|       5|         5|       31|3/1/2018|26096.66|\n",
            "+--------+----------+---------+--------+--------+\n",
            "only showing top 5 rows\n",
            "\n"
          ]
        }
      ]
    },
    {
      "cell_type": "code",
      "source": [
        "clientes.select('ClienteID').orderBy('ClienteID').show()"
      ],
      "metadata": {
        "id": "ys4QGZDAygdk",
        "outputId": "1f25497a-83d6-4640-ad86-20b9eeeb396c",
        "colab": {
          "base_uri": "https://localhost:8080/"
        }
      },
      "execution_count": 112,
      "outputs": [
        {
          "output_type": "stream",
          "name": "stdout",
          "text": [
            "+---------+\n",
            "|ClienteID|\n",
            "+---------+\n",
            "|        1|\n",
            "|        2|\n",
            "|        3|\n",
            "|        4|\n",
            "|        5|\n",
            "|        6|\n",
            "|        7|\n",
            "|        8|\n",
            "|        9|\n",
            "|       10|\n",
            "|       11|\n",
            "|       12|\n",
            "|       13|\n",
            "|       14|\n",
            "|       15|\n",
            "|       16|\n",
            "|       17|\n",
            "|       18|\n",
            "|       19|\n",
            "|       20|\n",
            "+---------+\n",
            "only showing top 20 rows\n",
            "\n"
          ]
        }
      ]
    },
    {
      "cell_type": "code",
      "source": [
        "totalPorCliente = vendas.select('ClienteID','Total').groupBy(Func.col('ClienteID')).agg(sum(Func.col('Total'))).orderBy('ClienteID')\n",
        "totalPorCliente.show(5)"
      ],
      "metadata": {
        "id": "Fo9ib1-jxKpZ",
        "outputId": "26bde9fc-9bd8-4542-f4b6-5afe6fa3bac9",
        "colab": {
          "base_uri": "https://localhost:8080/"
        }
      },
      "execution_count": 113,
      "outputs": [
        {
          "output_type": "stream",
          "name": "stdout",
          "text": [
            "+---------+-----------------+\n",
            "|ClienteID|       sum(Total)|\n",
            "+---------+-----------------+\n",
            "|        1|          9379.44|\n",
            "|        2|          5782.68|\n",
            "|        3|          10658.9|\n",
            "|        5|57655.96000000001|\n",
            "|        8|            155.0|\n",
            "+---------+-----------------+\n",
            "only showing top 5 rows\n",
            "\n"
          ]
        }
      ]
    },
    {
      "cell_type": "code",
      "source": [
        "df_join = clientes.select('ClienteID','Status').join(totalPorCliente, clientes.ClienteID == totalPorCliente.ClienteID).groupBy('Status').agg(sum(Func.col('sum(Total)')))\n",
        "df_join.show()"
      ],
      "metadata": {
        "id": "fYnugK5jwxBF",
        "outputId": "4a78c72d-1094-47af-fa7c-82b80b43af58",
        "colab": {
          "base_uri": "https://localhost:8080/"
        }
      },
      "execution_count": 114,
      "outputs": [
        {
          "output_type": "stream",
          "name": "stdout",
          "text": [
            "+--------+------------------+\n",
            "|  Status|   sum(sum(Total))|\n",
            "+--------+------------------+\n",
            "|Platinum|          12584.68|\n",
            "|  Silver|3014291.3600000013|\n",
            "|    Gold|27286.690000000002|\n",
            "+--------+------------------+\n",
            "\n"
          ]
        }
      ]
    },
    {
      "cell_type": "markdown",
      "source": [
        "# Spark SQL"
      ],
      "metadata": {
        "id": "2RlgGUYIc30X"
      }
    },
    {
      "cell_type": "code",
      "source": [
        "from pyspark.sql import SparkSession\n",
        "from pyspark.sql.types import *"
      ],
      "metadata": {
        "id": "cCJiGIiZc5jC"
      },
      "execution_count": 115,
      "outputs": []
    },
    {
      "cell_type": "code",
      "source": [
        "sc.sql(\"show databases\").show()"
      ],
      "metadata": {
        "id": "HyF9nPF1kkHL",
        "outputId": "11d30944-c586-44d3-85ae-c007a993a8c5",
        "colab": {
          "base_uri": "https://localhost:8080/"
        }
      },
      "execution_count": 116,
      "outputs": [
        {
          "output_type": "stream",
          "name": "stdout",
          "text": [
            "+---------+\n",
            "|namespace|\n",
            "+---------+\n",
            "|  default|\n",
            "+---------+\n",
            "\n"
          ]
        }
      ]
    },
    {
      "cell_type": "code",
      "source": [
        "sc.sql(\"create database desp\").show()"
      ],
      "metadata": {
        "id": "FwqfRx-8kzvw",
        "outputId": "3db88cf3-5b54-427a-d645-530abe3bd889",
        "colab": {
          "base_uri": "https://localhost:8080/"
        }
      },
      "execution_count": 117,
      "outputs": [
        {
          "output_type": "stream",
          "name": "stdout",
          "text": [
            "++\n",
            "||\n",
            "++\n",
            "++\n",
            "\n"
          ]
        }
      ]
    },
    {
      "cell_type": "code",
      "source": [
        "sc.sql(\"show databases\").show()"
      ],
      "metadata": {
        "id": "kiRTHR34k4sZ",
        "outputId": "bb28ae3d-afdb-45da-ec8a-d0eb622c644e",
        "colab": {
          "base_uri": "https://localhost:8080/"
        }
      },
      "execution_count": 118,
      "outputs": [
        {
          "output_type": "stream",
          "name": "stdout",
          "text": [
            "+---------+\n",
            "|namespace|\n",
            "+---------+\n",
            "|  default|\n",
            "|     desp|\n",
            "+---------+\n",
            "\n"
          ]
        }
      ]
    },
    {
      "cell_type": "code",
      "source": [
        "sc.sql(\"use desp\").show()"
      ],
      "metadata": {
        "id": "9P0HTbFXk-ap",
        "outputId": "cb423d1b-dc48-41dd-99bf-592d61f110e5",
        "colab": {
          "base_uri": "https://localhost:8080/"
        }
      },
      "execution_count": 119,
      "outputs": [
        {
          "output_type": "stream",
          "name": "stdout",
          "text": [
            "++\n",
            "||\n",
            "++\n",
            "++\n",
            "\n"
          ]
        }
      ]
    },
    {
      "cell_type": "code",
      "source": [
        "despachantes.show()"
      ],
      "metadata": {
        "id": "Uo2lbemjlOE9",
        "outputId": "4f9399e4-cd1b-4b9b-cb7a-07f12522b25b",
        "colab": {
          "base_uri": "https://localhost:8080/"
        }
      },
      "execution_count": 120,
      "outputs": [
        {
          "output_type": "stream",
          "name": "stdout",
          "text": [
            "+---+-------------------+------+-------------+------+----------+\n",
            "| id|               nome|status|       cidade|vendas|      data|\n",
            "+---+-------------------+------+-------------+------+----------+\n",
            "|  1|   Carminda Pestana| Ativo|  Santa Maria|    23|2020-08-11|\n",
            "|  2|    Deolinda Vilela| Ativo|Novo Hamburgo|    34|2020-03-05|\n",
            "|  3|   Emídio Dornelles| Ativo| Porto Alegre|    34|2020-02-05|\n",
            "|  4|Felisbela Dornelles| Ativo| Porto Alegre|    36|2020-02-05|\n",
            "|  5|     Graça Ornellas| Ativo| Porto Alegre|    12|2020-02-05|\n",
            "|  6|   Matilde Rebouças| Ativo| Porto Alegre|    22|2019-01-05|\n",
            "|  7|    Noêmia   Orriça| Ativo|  Santa Maria|    45|2019-10-05|\n",
            "|  8|      Roque Vásquez| Ativo| Porto Alegre|    65|2020-03-05|\n",
            "|  9|      Uriel Queiroz| Ativo| Porto Alegre|    54|2018-05-05|\n",
            "| 10|   Viviana Sequeira| Ativo| Porto Alegre|     0|2020-09-05|\n",
            "+---+-------------------+------+-------------+------+----------+\n",
            "\n"
          ]
        }
      ]
    },
    {
      "cell_type": "code",
      "source": [
        "despachantes.write.saveAsTable('Despachantes')"
      ],
      "metadata": {
        "id": "_yd7RrmRlDRI"
      },
      "execution_count": 121,
      "outputs": []
    },
    {
      "cell_type": "code",
      "source": [
        "sc.sql(\"show tables\").show()"
      ],
      "metadata": {
        "id": "BeRqiJGslfZo",
        "outputId": "8568288c-534b-4a12-ce86-03d8c3600fac",
        "colab": {
          "base_uri": "https://localhost:8080/"
        }
      },
      "execution_count": 122,
      "outputs": [
        {
          "output_type": "stream",
          "name": "stdout",
          "text": [
            "+--------+------------+-----------+\n",
            "|database|   tableName|isTemporary|\n",
            "+--------+------------+-----------+\n",
            "|    desp|despachantes|      false|\n",
            "+--------+------------+-----------+\n",
            "\n"
          ]
        }
      ]
    },
    {
      "cell_type": "code",
      "source": [
        "sc.sql('''\n",
        "select * from Despachantes;\n",
        "''').show()"
      ],
      "metadata": {
        "id": "DvdPf45tljIH",
        "outputId": "7a0d9c6a-d64e-417c-f4b3-2a586ee326a2",
        "colab": {
          "base_uri": "https://localhost:8080/"
        }
      },
      "execution_count": 123,
      "outputs": [
        {
          "output_type": "stream",
          "name": "stdout",
          "text": [
            "+---+-------------------+------+-------------+------+----------+\n",
            "| id|               nome|status|       cidade|vendas|      data|\n",
            "+---+-------------------+------+-------------+------+----------+\n",
            "|  1|   Carminda Pestana| Ativo|  Santa Maria|    23|2020-08-11|\n",
            "|  2|    Deolinda Vilela| Ativo|Novo Hamburgo|    34|2020-03-05|\n",
            "|  3|   Emídio Dornelles| Ativo| Porto Alegre|    34|2020-02-05|\n",
            "|  4|Felisbela Dornelles| Ativo| Porto Alegre|    36|2020-02-05|\n",
            "|  5|     Graça Ornellas| Ativo| Porto Alegre|    12|2020-02-05|\n",
            "|  6|   Matilde Rebouças| Ativo| Porto Alegre|    22|2019-01-05|\n",
            "|  7|    Noêmia   Orriça| Ativo|  Santa Maria|    45|2019-10-05|\n",
            "|  8|      Roque Vásquez| Ativo| Porto Alegre|    65|2020-03-05|\n",
            "|  9|      Uriel Queiroz| Ativo| Porto Alegre|    54|2018-05-05|\n",
            "| 10|   Viviana Sequeira| Ativo| Porto Alegre|     0|2020-09-05|\n",
            "+---+-------------------+------+-------------+------+----------+\n",
            "\n"
          ]
        }
      ]
    },
    {
      "cell_type": "code",
      "source": [
        "despachantes.write.mode('overwrite').saveAsTable('Despachantes')"
      ],
      "metadata": {
        "id": "7qHea-kdlqeb"
      },
      "execution_count": 124,
      "outputs": []
    },
    {
      "cell_type": "markdown",
      "source": [
        "## Tabelas gerenciadas e externas"
      ],
      "metadata": {
        "id": "8UgYeobDfmDr"
      }
    },
    {
      "cell_type": "code",
      "source": [
        "despachantes = sc.sql('select * from despachantes')\n",
        "despachantes.show()"
      ],
      "metadata": {
        "id": "aAs4QhQ5l8s3",
        "outputId": "451614b8-ee4f-4f43-cebe-a7dd5d3420ed",
        "colab": {
          "base_uri": "https://localhost:8080/"
        }
      },
      "execution_count": 125,
      "outputs": [
        {
          "output_type": "stream",
          "name": "stdout",
          "text": [
            "+---+-------------------+------+-------------+------+----------+\n",
            "| id|               nome|status|       cidade|vendas|      data|\n",
            "+---+-------------------+------+-------------+------+----------+\n",
            "|  1|   Carminda Pestana| Ativo|  Santa Maria|    23|2020-08-11|\n",
            "|  2|    Deolinda Vilela| Ativo|Novo Hamburgo|    34|2020-03-05|\n",
            "|  3|   Emídio Dornelles| Ativo| Porto Alegre|    34|2020-02-05|\n",
            "|  4|Felisbela Dornelles| Ativo| Porto Alegre|    36|2020-02-05|\n",
            "|  5|     Graça Ornellas| Ativo| Porto Alegre|    12|2020-02-05|\n",
            "|  6|   Matilde Rebouças| Ativo| Porto Alegre|    22|2019-01-05|\n",
            "|  7|    Noêmia   Orriça| Ativo|  Santa Maria|    45|2019-10-05|\n",
            "|  8|      Roque Vásquez| Ativo| Porto Alegre|    65|2020-03-05|\n",
            "|  9|      Uriel Queiroz| Ativo| Porto Alegre|    54|2018-05-05|\n",
            "| 10|   Viviana Sequeira| Ativo| Porto Alegre|     0|2020-09-05|\n",
            "+---+-------------------+------+-------------+------+----------+\n",
            "\n"
          ]
        }
      ]
    },
    {
      "cell_type": "code",
      "source": [
        "despachantes.write.format('parquet').save('/content/desparquet')"
      ],
      "metadata": {
        "id": "jM-eFiF5fjqx"
      },
      "execution_count": 126,
      "outputs": []
    },
    {
      "cell_type": "code",
      "source": [
        "despachantes.write.option('path','/content/desparquet').saveAsTable('Despachantes_ng')"
      ],
      "metadata": {
        "id": "RaBORxQGf70s"
      },
      "execution_count": 127,
      "outputs": []
    },
    {
      "cell_type": "code",
      "source": [
        "sc.sql('select * from despachantes_ng').show()"
      ],
      "metadata": {
        "id": "dDUkfZgGgSa1",
        "outputId": "f5ce0779-a496-4298-f2f8-704285fcb35f",
        "colab": {
          "base_uri": "https://localhost:8080/"
        }
      },
      "execution_count": 128,
      "outputs": [
        {
          "output_type": "stream",
          "name": "stdout",
          "text": [
            "+---+-------------------+------+-------------+------+----------+\n",
            "| id|               nome|status|       cidade|vendas|      data|\n",
            "+---+-------------------+------+-------------+------+----------+\n",
            "|  1|   Carminda Pestana| Ativo|  Santa Maria|    23|2020-08-11|\n",
            "|  2|    Deolinda Vilela| Ativo|Novo Hamburgo|    34|2020-03-05|\n",
            "|  3|   Emídio Dornelles| Ativo| Porto Alegre|    34|2020-02-05|\n",
            "|  4|Felisbela Dornelles| Ativo| Porto Alegre|    36|2020-02-05|\n",
            "|  5|     Graça Ornellas| Ativo| Porto Alegre|    12|2020-02-05|\n",
            "|  6|   Matilde Rebouças| Ativo| Porto Alegre|    22|2019-01-05|\n",
            "|  7|    Noêmia   Orriça| Ativo|  Santa Maria|    45|2019-10-05|\n",
            "|  8|      Roque Vásquez| Ativo| Porto Alegre|    65|2020-03-05|\n",
            "|  9|      Uriel Queiroz| Ativo| Porto Alegre|    54|2018-05-05|\n",
            "| 10|   Viviana Sequeira| Ativo| Porto Alegre|     0|2020-09-05|\n",
            "+---+-------------------+------+-------------+------+----------+\n",
            "\n"
          ]
        }
      ]
    },
    {
      "cell_type": "code",
      "source": [
        "sc.sql('show create table Despachantes').show(truncate=False)"
      ],
      "metadata": {
        "id": "i9MG8grLgc5V",
        "outputId": "f49b56ba-1f77-4b19-f2c9-7ec07c5595db",
        "colab": {
          "base_uri": "https://localhost:8080/"
        }
      },
      "execution_count": 129,
      "outputs": [
        {
          "output_type": "stream",
          "name": "stdout",
          "text": [
            "+-------------------------------------------------------------------------------------------------------------------------------------------------------+\n",
            "|createtab_stmt                                                                                                                                         |\n",
            "+-------------------------------------------------------------------------------------------------------------------------------------------------------+\n",
            "|CREATE TABLE `desp`.`Despachantes` (\n",
            "  `id` INT,\n",
            "  `nome` STRING,\n",
            "  `status` STRING,\n",
            "  `cidade` STRING,\n",
            "  `vendas` INT,\n",
            "  `data` STRING)\n",
            "USING parquet\n",
            "|\n",
            "+-------------------------------------------------------------------------------------------------------------------------------------------------------+\n",
            "\n"
          ]
        }
      ]
    },
    {
      "cell_type": "code",
      "source": [
        "sc.sql('show create table Despachantes_ng').show(truncate=False)"
      ],
      "metadata": {
        "id": "JQszeZ3ygc3J",
        "outputId": "09b80b42-9c30-4169-9fec-afeb4bf24095",
        "colab": {
          "base_uri": "https://localhost:8080/"
        }
      },
      "execution_count": 130,
      "outputs": [
        {
          "output_type": "stream",
          "name": "stdout",
          "text": [
            "+----------------------------------------------------------------------------------------------------------------------------------------------------------------------------------------------+\n",
            "|createtab_stmt                                                                                                                                                                                |\n",
            "+----------------------------------------------------------------------------------------------------------------------------------------------------------------------------------------------+\n",
            "|CREATE TABLE `desp`.`Despachantes_ng` (\n",
            "  `id` INT,\n",
            "  `nome` STRING,\n",
            "  `status` STRING,\n",
            "  `cidade` STRING,\n",
            "  `vendas` INT,\n",
            "  `data` STRING)\n",
            "USING parquet\n",
            "LOCATION 'file:/content/desparquet'\n",
            "|\n",
            "+----------------------------------------------------------------------------------------------------------------------------------------------------------------------------------------------+\n",
            "\n"
          ]
        }
      ]
    },
    {
      "cell_type": "code",
      "source": [
        "sc.catalog.listTables()"
      ],
      "metadata": {
        "id": "vtceqs16gcx0",
        "outputId": "47c4a8ae-160b-499b-ea3b-68097b012722",
        "colab": {
          "base_uri": "https://localhost:8080/"
        }
      },
      "execution_count": 131,
      "outputs": [
        {
          "output_type": "execute_result",
          "data": {
            "text/plain": [
              "[Table(name='despachantes', database='desp', description=None, tableType='MANAGED', isTemporary=False),\n",
              " Table(name='despachantes_ng', database='desp', description=None, tableType='EXTERNAL', isTemporary=False)]"
            ]
          },
          "metadata": {},
          "execution_count": 131
        }
      ]
    },
    {
      "cell_type": "markdown",
      "source": [
        "### Views"
      ],
      "metadata": {
        "id": "noGRbXEy9G_1"
      }
    },
    {
      "cell_type": "code",
      "source": [
        "despachantes.createOrReplaceTempView('Despachantes_view1')"
      ],
      "metadata": {
        "id": "bQMxe0v2g5aR"
      },
      "execution_count": 132,
      "outputs": []
    },
    {
      "cell_type": "code",
      "source": [
        "sc.sql('select * from Despachantes_view1').show()"
      ],
      "metadata": {
        "id": "oag5w1ni9PAq",
        "outputId": "531e61bf-2c78-46a7-e16a-e55bfb7a4710",
        "colab": {
          "base_uri": "https://localhost:8080/"
        }
      },
      "execution_count": 133,
      "outputs": [
        {
          "output_type": "stream",
          "name": "stdout",
          "text": [
            "+---+-------------------+------+-------------+------+----------+\n",
            "| id|               nome|status|       cidade|vendas|      data|\n",
            "+---+-------------------+------+-------------+------+----------+\n",
            "|  1|   Carminda Pestana| Ativo|  Santa Maria|    23|2020-08-11|\n",
            "|  2|    Deolinda Vilela| Ativo|Novo Hamburgo|    34|2020-03-05|\n",
            "|  3|   Emídio Dornelles| Ativo| Porto Alegre|    34|2020-02-05|\n",
            "|  4|Felisbela Dornelles| Ativo| Porto Alegre|    36|2020-02-05|\n",
            "|  5|     Graça Ornellas| Ativo| Porto Alegre|    12|2020-02-05|\n",
            "|  6|   Matilde Rebouças| Ativo| Porto Alegre|    22|2019-01-05|\n",
            "|  7|    Noêmia   Orriça| Ativo|  Santa Maria|    45|2019-10-05|\n",
            "|  8|      Roque Vásquez| Ativo| Porto Alegre|    65|2020-03-05|\n",
            "|  9|      Uriel Queiroz| Ativo| Porto Alegre|    54|2018-05-05|\n",
            "| 10|   Viviana Sequeira| Ativo| Porto Alegre|     0|2020-09-05|\n",
            "+---+-------------------+------+-------------+------+----------+\n",
            "\n"
          ]
        }
      ]
    },
    {
      "cell_type": "code",
      "source": [
        "despachantes.createOrReplaceGlobalTempView('Despachantes_view2')\n",
        "sc.sql('select * from global_temp.Despachantes_view2').show()"
      ],
      "metadata": {
        "id": "IoeE9iIH9Th_",
        "outputId": "b3267d76-6ddb-49a5-ab4e-35a2f414e235",
        "colab": {
          "base_uri": "https://localhost:8080/"
        }
      },
      "execution_count": 134,
      "outputs": [
        {
          "output_type": "stream",
          "name": "stdout",
          "text": [
            "+---+-------------------+------+-------------+------+----------+\n",
            "| id|               nome|status|       cidade|vendas|      data|\n",
            "+---+-------------------+------+-------------+------+----------+\n",
            "|  1|   Carminda Pestana| Ativo|  Santa Maria|    23|2020-08-11|\n",
            "|  2|    Deolinda Vilela| Ativo|Novo Hamburgo|    34|2020-03-05|\n",
            "|  3|   Emídio Dornelles| Ativo| Porto Alegre|    34|2020-02-05|\n",
            "|  4|Felisbela Dornelles| Ativo| Porto Alegre|    36|2020-02-05|\n",
            "|  5|     Graça Ornellas| Ativo| Porto Alegre|    12|2020-02-05|\n",
            "|  6|   Matilde Rebouças| Ativo| Porto Alegre|    22|2019-01-05|\n",
            "|  7|    Noêmia   Orriça| Ativo|  Santa Maria|    45|2019-10-05|\n",
            "|  8|      Roque Vásquez| Ativo| Porto Alegre|    65|2020-03-05|\n",
            "|  9|      Uriel Queiroz| Ativo| Porto Alegre|    54|2018-05-05|\n",
            "| 10|   Viviana Sequeira| Ativo| Porto Alegre|     0|2020-09-05|\n",
            "+---+-------------------+------+-------------+------+----------+\n",
            "\n"
          ]
        }
      ]
    },
    {
      "cell_type": "code",
      "source": [
        "sc.sql('CREATE OR REPLACE TEMP VIEW DESP_VIEW AS select * from despachantes')\n",
        "sc.sql('select * from DESP_VIEW').show()"
      ],
      "metadata": {
        "id": "_ZIBtChD9gpm",
        "outputId": "9e901e0e-b4f4-494a-be00-222ae1dfed5d",
        "colab": {
          "base_uri": "https://localhost:8080/"
        }
      },
      "execution_count": 135,
      "outputs": [
        {
          "output_type": "stream",
          "name": "stdout",
          "text": [
            "+---+-------------------+------+-------------+------+----------+\n",
            "| id|               nome|status|       cidade|vendas|      data|\n",
            "+---+-------------------+------+-------------+------+----------+\n",
            "|  1|   Carminda Pestana| Ativo|  Santa Maria|    23|2020-08-11|\n",
            "|  2|    Deolinda Vilela| Ativo|Novo Hamburgo|    34|2020-03-05|\n",
            "|  3|   Emídio Dornelles| Ativo| Porto Alegre|    34|2020-02-05|\n",
            "|  4|Felisbela Dornelles| Ativo| Porto Alegre|    36|2020-02-05|\n",
            "|  5|     Graça Ornellas| Ativo| Porto Alegre|    12|2020-02-05|\n",
            "|  6|   Matilde Rebouças| Ativo| Porto Alegre|    22|2019-01-05|\n",
            "|  7|    Noêmia   Orriça| Ativo|  Santa Maria|    45|2019-10-05|\n",
            "|  8|      Roque Vásquez| Ativo| Porto Alegre|    65|2020-03-05|\n",
            "|  9|      Uriel Queiroz| Ativo| Porto Alegre|    54|2018-05-05|\n",
            "| 10|   Viviana Sequeira| Ativo| Porto Alegre|     0|2020-09-05|\n",
            "+---+-------------------+------+-------------+------+----------+\n",
            "\n"
          ]
        }
      ]
    },
    {
      "cell_type": "code",
      "source": [
        "sc.sql('CREATE OR REPLACE GLOBAL TEMP VIEW DESP_VIEW2 AS select * from despachantes')\n",
        "sc.sql('select * from global_temp.DESP_VIEW2').show()"
      ],
      "metadata": {
        "id": "sibmgbqT9u3W",
        "outputId": "b14eae11-42fc-44ef-e8d9-78a7da23bacd",
        "colab": {
          "base_uri": "https://localhost:8080/"
        }
      },
      "execution_count": 137,
      "outputs": [
        {
          "output_type": "stream",
          "name": "stdout",
          "text": [
            "+---+-------------------+------+-------------+------+----------+\n",
            "| id|               nome|status|       cidade|vendas|      data|\n",
            "+---+-------------------+------+-------------+------+----------+\n",
            "|  1|   Carminda Pestana| Ativo|  Santa Maria|    23|2020-08-11|\n",
            "|  2|    Deolinda Vilela| Ativo|Novo Hamburgo|    34|2020-03-05|\n",
            "|  3|   Emídio Dornelles| Ativo| Porto Alegre|    34|2020-02-05|\n",
            "|  4|Felisbela Dornelles| Ativo| Porto Alegre|    36|2020-02-05|\n",
            "|  5|     Graça Ornellas| Ativo| Porto Alegre|    12|2020-02-05|\n",
            "|  6|   Matilde Rebouças| Ativo| Porto Alegre|    22|2019-01-05|\n",
            "|  7|    Noêmia   Orriça| Ativo|  Santa Maria|    45|2019-10-05|\n",
            "|  8|      Roque Vásquez| Ativo| Porto Alegre|    65|2020-03-05|\n",
            "|  9|      Uriel Queiroz| Ativo| Porto Alegre|    54|2018-05-05|\n",
            "| 10|   Viviana Sequeira| Ativo| Porto Alegre|     0|2020-09-05|\n",
            "+---+-------------------+------+-------------+------+----------+\n",
            "\n"
          ]
        }
      ]
    },
    {
      "cell_type": "code",
      "source": [],
      "metadata": {
        "id": "pSMp03Ua95hn"
      },
      "execution_count": null,
      "outputs": []
    }
  ]
}